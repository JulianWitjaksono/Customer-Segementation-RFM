{
  "cells": [
    {
      "cell_type": "markdown",
      "source": [
        "# Context\n",
        "> This is a collection of sales transaction data for NichoaChocolate, based in Magelang, for more than one year. This Magelang-based shop has been selling a wide variety of quality chocolate products since 2018. Their customers come from all major cities in Indonesia and usually make direct purchases as well as through e-commerce."
      ],
      "metadata": {
        "id": "9cuut3yQ5rHy"
      }
    },
    {
      "cell_type": "markdown",
      "metadata": {
        "id": "wJMxrRcoFAu3"
      },
      "source": [
        "# Use Case\n",
        "__________\n",
        "# Objective Statement:\n",
        "- Get insight about revenue Every Year & Month.\n",
        "- Get insight about profit Every Year & Month.\n",
        "- Get insight about the platforms that customers often use to buy chocolate.\n",
        "- Get insight about the price of chocolate that is often purchased by customers.\n",
        "- Find out best top 5 selling chocolate bar.\n",
        "- Get business insight about top 5 product sold every segment\n",
        "- Increase Marketing Efficiency about chocolate bar using Segment RFM,and EDA.\n",
        "\n",
        "# Challenges:\n",
        "- Data Have Missing at june 2021.\n",
        "- Data have a lot Outlier at quantity column.\n",
        "- Choose specific customer data that buys chocolate bar.\n",
        "- Remove customers who didnt pay for chocolate bar.\n",
        "\n",
        "# Methodology / Analytic Technique:\n",
        "- Descriptive analysis.\n",
        "- Graph analysis.\n",
        "- Segment Analysis using RFM Analysis. \n",
        "\n",
        "# Business Benefit:\n",
        "- Knowing how to treat customer with specific criteria.\n",
        "- Knowing sales performance every month so, it can be a reference for future decision making.\n",
        "- Knowing revenue every Year & Month.\n",
        "- Knowing profit every Year & Month.\n",
        "- Knowing about the price of chocolate that is often purchased by customers.\n",
        "- Knowing best top 5 selling chocolate bar.\n",
        "- Knowing about the platforms that customers often use to buy chocolate.\n",
        "\n",
        "# Expected Outcome:\n",
        "- Find out how much revenue per year and per month.\n",
        "- Find out sales performance every month.\n",
        "- Find out revenue every Year & Month.\n",
        "- Find out profit every Year & Month.\n",
        "- Find out the platforms that customers often use to buy chocolate.\n",
        "- Find out the price of chocolate that is often purchased by customers.\n",
        "- Find out best top 5 selling chocolate bar.\n",
        "- Know customer segmentation analysis.\n",
        "\n",
        "# Business Understanding\n",
        "- How many product sold every month?\n",
        "- How much revenue every month?\n",
        "- How much revenue every year?\n",
        "- How much profit every month?\n",
        "- How much profit every year?\n",
        "- What platforms customers often buy chocolate?\n",
        "- What chocolates are most frequently purchased by customers?\n",
        "- What is the price of chocolate that customers often buy?\n",
        "\n",
        "# Data Understanding\n",
        "- Data of Nichoa Customer with 21 columns and 1616 rows\n",
        "- This data from 02/01/2021 to 24/02/2022\n",
        "- Data dictionary : \n",
        " - order no : Order Number\n",
        " - order time  : the day and time the customer ordered chocolate\n",
        " - brand       : Brand is the name of a specific product.\n",
        " - brand comission rate    : commision rate each product\n",
        " - brand comission amount  : commission amount for each product\n",
        " - item group    : The product group represents the shape and type of product.        \n",
        " - item name     : Product Name        \n",
        " - item sku      : Stock Keeping Units are differentiator types of goods or services sold.\n",
        " - qty           : Quantity of the product      \n",
        " - currency      : currency type for payment          \n",
        " - price         : product price          \n",
        " - add-on price    : additional price of the product        \n",
        " - discount percent  : discount percentage of the product     \n",
        " - discount amount    : the discount amount of each product   \n",
        " - amount             : product price/ product amount\n",
        " - tax amount         : tax amount of product \n",
        " - cost perunit       : valuable calculations to make sure their cost is lower than the selling price of a single unit.      \n",
        " - total cost         : is the amount of money spent by a company to produce a product in a specific time frame. \n",
        " - profit             : the company's net income, or the amount of money you make from sales in a certain period after deducting COGS and expenses. It can also be said as \"net income\" or \"net income.\"\n",
        " - paid to brand      : the amount to be paid to the brand\n",
        " - payment type       : payment type to buy products (the type of payment through the bank is an order via whatsapp) \n",
        "\n",
        "# Data preparation\n",
        "Code Used :\n",
        "- Python Version: 3.7.6 / Google  Colaboration and Jupyter Notebook\n",
        "-Packages: Pandas, Numpy, Matplotlib, Seaborn, Sklearn, and Feature Engine \n"
      ]
    },
    {
      "cell_type": "markdown",
      "metadata": {
        "id": "8STEFFs8Fa_F"
      },
      "source": [
        "Load Package"
      ]
    },
    {
      "cell_type": "code",
      "execution_count": null,
      "metadata": {
        "id": "MGH6EPnYWKcc"
      },
      "outputs": [],
      "source": [
        "import pandas as pd\n",
        "import numpy as np\n",
        "import matplotlib.pyplot as plt\n",
        "import seaborn as sns\n",
        "\n",
        "import datetime as dt\n",
        "from datetime import datetime as dt2\n",
        "from datetime import timedelta as td\n",
        "from datetime import time as tm\n",
        "\n",
        "\n",
        "import plotly.offline as pyoff\n",
        "import plotly.graph_objs as go\n",
        "import plotly.express as px\n",
        "\n",
        "import warnings\n",
        "warnings.filterwarnings('ignore')\n"
      ]
    },
    {
      "cell_type": "markdown",
      "metadata": {
        "id": "rzAO2rXHEl0l"
      },
      "source": [
        "In Here we upload some package using in RFM modeling"
      ]
    },
    {
      "cell_type": "markdown",
      "metadata": {
        "id": "t7NXwqLoFdqG"
      },
      "source": [
        "Upload file csv "
      ]
    },
    {
      "cell_type": "code",
      "execution_count": null,
      "metadata": {
        "colab": {
          "base_uri": "https://localhost:8080/",
          "height": 73
        },
        "id": "Kbz7-tfhduXY",
        "outputId": "14e763c6-181d-42b0-cba1-b1f369e29c5e"
      },
      "outputs": [
        {
          "output_type": "display_data",
          "data": {
            "text/plain": [
              "<IPython.core.display.HTML object>"
            ],
            "text/html": [
              "\n",
              "     <input type=\"file\" id=\"files-0f8a1c49-aad5-43f0-8be9-be39518242dc\" name=\"files[]\" multiple disabled\n",
              "        style=\"border:none\" />\n",
              "     <output id=\"result-0f8a1c49-aad5-43f0-8be9-be39518242dc\">\n",
              "      Upload widget is only available when the cell has been executed in the\n",
              "      current browser session. Please rerun this cell to enable.\n",
              "      </output>\n",
              "      <script>// Copyright 2017 Google LLC\n",
              "//\n",
              "// Licensed under the Apache License, Version 2.0 (the \"License\");\n",
              "// you may not use this file except in compliance with the License.\n",
              "// You may obtain a copy of the License at\n",
              "//\n",
              "//      http://www.apache.org/licenses/LICENSE-2.0\n",
              "//\n",
              "// Unless required by applicable law or agreed to in writing, software\n",
              "// distributed under the License is distributed on an \"AS IS\" BASIS,\n",
              "// WITHOUT WARRANTIES OR CONDITIONS OF ANY KIND, either express or implied.\n",
              "// See the License for the specific language governing permissions and\n",
              "// limitations under the License.\n",
              "\n",
              "/**\n",
              " * @fileoverview Helpers for google.colab Python module.\n",
              " */\n",
              "(function(scope) {\n",
              "function span(text, styleAttributes = {}) {\n",
              "  const element = document.createElement('span');\n",
              "  element.textContent = text;\n",
              "  for (const key of Object.keys(styleAttributes)) {\n",
              "    element.style[key] = styleAttributes[key];\n",
              "  }\n",
              "  return element;\n",
              "}\n",
              "\n",
              "// Max number of bytes which will be uploaded at a time.\n",
              "const MAX_PAYLOAD_SIZE = 100 * 1024;\n",
              "\n",
              "function _uploadFiles(inputId, outputId) {\n",
              "  const steps = uploadFilesStep(inputId, outputId);\n",
              "  const outputElement = document.getElementById(outputId);\n",
              "  // Cache steps on the outputElement to make it available for the next call\n",
              "  // to uploadFilesContinue from Python.\n",
              "  outputElement.steps = steps;\n",
              "\n",
              "  return _uploadFilesContinue(outputId);\n",
              "}\n",
              "\n",
              "// This is roughly an async generator (not supported in the browser yet),\n",
              "// where there are multiple asynchronous steps and the Python side is going\n",
              "// to poll for completion of each step.\n",
              "// This uses a Promise to block the python side on completion of each step,\n",
              "// then passes the result of the previous step as the input to the next step.\n",
              "function _uploadFilesContinue(outputId) {\n",
              "  const outputElement = document.getElementById(outputId);\n",
              "  const steps = outputElement.steps;\n",
              "\n",
              "  const next = steps.next(outputElement.lastPromiseValue);\n",
              "  return Promise.resolve(next.value.promise).then((value) => {\n",
              "    // Cache the last promise value to make it available to the next\n",
              "    // step of the generator.\n",
              "    outputElement.lastPromiseValue = value;\n",
              "    return next.value.response;\n",
              "  });\n",
              "}\n",
              "\n",
              "/**\n",
              " * Generator function which is called between each async step of the upload\n",
              " * process.\n",
              " * @param {string} inputId Element ID of the input file picker element.\n",
              " * @param {string} outputId Element ID of the output display.\n",
              " * @return {!Iterable<!Object>} Iterable of next steps.\n",
              " */\n",
              "function* uploadFilesStep(inputId, outputId) {\n",
              "  const inputElement = document.getElementById(inputId);\n",
              "  inputElement.disabled = false;\n",
              "\n",
              "  const outputElement = document.getElementById(outputId);\n",
              "  outputElement.innerHTML = '';\n",
              "\n",
              "  const pickedPromise = new Promise((resolve) => {\n",
              "    inputElement.addEventListener('change', (e) => {\n",
              "      resolve(e.target.files);\n",
              "    });\n",
              "  });\n",
              "\n",
              "  const cancel = document.createElement('button');\n",
              "  inputElement.parentElement.appendChild(cancel);\n",
              "  cancel.textContent = 'Cancel upload';\n",
              "  const cancelPromise = new Promise((resolve) => {\n",
              "    cancel.onclick = () => {\n",
              "      resolve(null);\n",
              "    };\n",
              "  });\n",
              "\n",
              "  // Wait for the user to pick the files.\n",
              "  const files = yield {\n",
              "    promise: Promise.race([pickedPromise, cancelPromise]),\n",
              "    response: {\n",
              "      action: 'starting',\n",
              "    }\n",
              "  };\n",
              "\n",
              "  cancel.remove();\n",
              "\n",
              "  // Disable the input element since further picks are not allowed.\n",
              "  inputElement.disabled = true;\n",
              "\n",
              "  if (!files) {\n",
              "    return {\n",
              "      response: {\n",
              "        action: 'complete',\n",
              "      }\n",
              "    };\n",
              "  }\n",
              "\n",
              "  for (const file of files) {\n",
              "    const li = document.createElement('li');\n",
              "    li.append(span(file.name, {fontWeight: 'bold'}));\n",
              "    li.append(span(\n",
              "        `(${file.type || 'n/a'}) - ${file.size} bytes, ` +\n",
              "        `last modified: ${\n",
              "            file.lastModifiedDate ? file.lastModifiedDate.toLocaleDateString() :\n",
              "                                    'n/a'} - `));\n",
              "    const percent = span('0% done');\n",
              "    li.appendChild(percent);\n",
              "\n",
              "    outputElement.appendChild(li);\n",
              "\n",
              "    const fileDataPromise = new Promise((resolve) => {\n",
              "      const reader = new FileReader();\n",
              "      reader.onload = (e) => {\n",
              "        resolve(e.target.result);\n",
              "      };\n",
              "      reader.readAsArrayBuffer(file);\n",
              "    });\n",
              "    // Wait for the data to be ready.\n",
              "    let fileData = yield {\n",
              "      promise: fileDataPromise,\n",
              "      response: {\n",
              "        action: 'continue',\n",
              "      }\n",
              "    };\n",
              "\n",
              "    // Use a chunked sending to avoid message size limits. See b/62115660.\n",
              "    let position = 0;\n",
              "    do {\n",
              "      const length = Math.min(fileData.byteLength - position, MAX_PAYLOAD_SIZE);\n",
              "      const chunk = new Uint8Array(fileData, position, length);\n",
              "      position += length;\n",
              "\n",
              "      const base64 = btoa(String.fromCharCode.apply(null, chunk));\n",
              "      yield {\n",
              "        response: {\n",
              "          action: 'append',\n",
              "          file: file.name,\n",
              "          data: base64,\n",
              "        },\n",
              "      };\n",
              "\n",
              "      let percentDone = fileData.byteLength === 0 ?\n",
              "          100 :\n",
              "          Math.round((position / fileData.byteLength) * 100);\n",
              "      percent.textContent = `${percentDone}% done`;\n",
              "\n",
              "    } while (position < fileData.byteLength);\n",
              "  }\n",
              "\n",
              "  // All done.\n",
              "  yield {\n",
              "    response: {\n",
              "      action: 'complete',\n",
              "    }\n",
              "  };\n",
              "}\n",
              "\n",
              "scope.google = scope.google || {};\n",
              "scope.google.colab = scope.google.colab || {};\n",
              "scope.google.colab._files = {\n",
              "  _uploadFiles,\n",
              "  _uploadFilesContinue,\n",
              "};\n",
              "})(self);\n",
              "</script> "
            ]
          },
          "metadata": {}
        },
        {
          "output_type": "stream",
          "name": "stdout",
          "text": [
            "Saving data.csv to data.csv\n"
          ]
        }
      ],
      "source": [
        "from google.colab import files\n",
        "uploaded = files.upload()"
      ]
    },
    {
      "cell_type": "markdown",
      "metadata": {
        "id": "QzxzCf-vghNt"
      },
      "source": [
        "# Data Profiling"
      ]
    },
    {
      "cell_type": "markdown",
      "metadata": {
        "id": "FMFJypd1tggH"
      },
      "source": [
        "Read Dataset"
      ]
    },
    {
      "cell_type": "code",
      "execution_count": null,
      "metadata": {
        "id": "F35Mf30eZBEB"
      },
      "outputs": [],
      "source": [
        "df_all=pd.read_csv(\"data.csv\")"
      ]
    },
    {
      "cell_type": "markdown",
      "metadata": {
        "id": "31N-9l-ytj6y"
      },
      "source": [
        "Show dataset"
      ]
    },
    {
      "cell_type": "code",
      "execution_count": null,
      "metadata": {
        "id": "26rXOPpWZOc_",
        "colab": {
          "base_uri": "https://localhost:8080/"
        },
        "outputId": "8774ce59-c130-43af-a8c3-306415782f09"
      },
      "outputs": [
        {
          "output_type": "execute_result",
          "data": {
            "text/plain": [
              "             order no           order time   brand  brand comission rate  \\\n",
              "0  065321010200000075  2021-01-02 15:15:36  Nichoa                     0   \n",
              "1  065321010200000075  2021-01-03 15:15:36  Nichoa                     0   \n",
              "2  065321010200000075  2021-01-04 15:15:36  Nichoa                     0   \n",
              "3  065321010200000075  2021-01-05 15:15:36  Nichoa                     0   \n",
              "4  065321010200000076  2021-01-06 15:15:36  Nichoa                     0   \n",
              "\n",
              "   brand comission amount     item group                item name item sku  \\\n",
              "0                       0  Chocolate Bar  Stress Reliever - 35 gr     SR-1   \n",
              "1                       0  Chocolate Bar    Mind Relaxing - 35 gr     MR-1   \n",
              "2                       0  Chocolate Bar    Sleeping Well - 35 gr     SW-1   \n",
              "3                       0  Chocolate Bar   Immune Booster - 35 gr     IM-1   \n",
              "4                       0  Chocolate Bar   Immune Booster - 35 gr     IM-1   \n",
              "\n",
              "   qty currency  ...  add-on price  discount percent discount amount  amount  \\\n",
              "0    1      IDR  ...             0                 0               0   28000   \n",
              "1    1      IDR  ...             0                 0               0   28000   \n",
              "2    1      IDR  ...             0                 0               0   28000   \n",
              "3    1      IDR  ...             0                 0               0   28000   \n",
              "4    2      IDR  ...             0                 0               0   56000   \n",
              "\n",
              "   tax amount  cost perunit total cost profit paid to brand  \\\n",
              "0           0         19983      19983   8017         28000   \n",
              "1           0         20902      20902   7098         28000   \n",
              "2           0         22201      22201   5799         28000   \n",
              "3           0         23121      23121   4879         28000   \n",
              "4           0         23121      46242   9758         56000   \n",
              "\n",
              "          payment type  \n",
              "0  BRI Andri Setyowati  \n",
              "1  BRI Andri Setyowati  \n",
              "2  BRI Andri Setyowati  \n",
              "3  BRI Andri Setyowati  \n",
              "4  BRI Andri Setyowati  \n",
              "\n",
              "[5 rows x 21 columns]"
            ],
            "text/html": [
              "\n",
              "  <div id=\"df-67342a92-6770-4d29-a7c4-b7221f1e569e\">\n",
              "    <div class=\"colab-df-container\">\n",
              "      <div>\n",
              "<style scoped>\n",
              "    .dataframe tbody tr th:only-of-type {\n",
              "        vertical-align: middle;\n",
              "    }\n",
              "\n",
              "    .dataframe tbody tr th {\n",
              "        vertical-align: top;\n",
              "    }\n",
              "\n",
              "    .dataframe thead th {\n",
              "        text-align: right;\n",
              "    }\n",
              "</style>\n",
              "<table border=\"1\" class=\"dataframe\">\n",
              "  <thead>\n",
              "    <tr style=\"text-align: right;\">\n",
              "      <th></th>\n",
              "      <th>order no</th>\n",
              "      <th>order time</th>\n",
              "      <th>brand</th>\n",
              "      <th>brand comission rate</th>\n",
              "      <th>brand comission amount</th>\n",
              "      <th>item group</th>\n",
              "      <th>item name</th>\n",
              "      <th>item sku</th>\n",
              "      <th>qty</th>\n",
              "      <th>currency</th>\n",
              "      <th>...</th>\n",
              "      <th>add-on price</th>\n",
              "      <th>discount percent</th>\n",
              "      <th>discount amount</th>\n",
              "      <th>amount</th>\n",
              "      <th>tax amount</th>\n",
              "      <th>cost perunit</th>\n",
              "      <th>total cost</th>\n",
              "      <th>profit</th>\n",
              "      <th>paid to brand</th>\n",
              "      <th>payment type</th>\n",
              "    </tr>\n",
              "  </thead>\n",
              "  <tbody>\n",
              "    <tr>\n",
              "      <th>0</th>\n",
              "      <td>065321010200000075</td>\n",
              "      <td>2021-01-02 15:15:36</td>\n",
              "      <td>Nichoa</td>\n",
              "      <td>0</td>\n",
              "      <td>0</td>\n",
              "      <td>Chocolate Bar</td>\n",
              "      <td>Stress Reliever - 35 gr</td>\n",
              "      <td>SR-1</td>\n",
              "      <td>1</td>\n",
              "      <td>IDR</td>\n",
              "      <td>...</td>\n",
              "      <td>0</td>\n",
              "      <td>0</td>\n",
              "      <td>0</td>\n",
              "      <td>28000</td>\n",
              "      <td>0</td>\n",
              "      <td>19983</td>\n",
              "      <td>19983</td>\n",
              "      <td>8017</td>\n",
              "      <td>28000</td>\n",
              "      <td>BRI Andri Setyowati</td>\n",
              "    </tr>\n",
              "    <tr>\n",
              "      <th>1</th>\n",
              "      <td>065321010200000075</td>\n",
              "      <td>2021-01-03 15:15:36</td>\n",
              "      <td>Nichoa</td>\n",
              "      <td>0</td>\n",
              "      <td>0</td>\n",
              "      <td>Chocolate Bar</td>\n",
              "      <td>Mind Relaxing - 35 gr</td>\n",
              "      <td>MR-1</td>\n",
              "      <td>1</td>\n",
              "      <td>IDR</td>\n",
              "      <td>...</td>\n",
              "      <td>0</td>\n",
              "      <td>0</td>\n",
              "      <td>0</td>\n",
              "      <td>28000</td>\n",
              "      <td>0</td>\n",
              "      <td>20902</td>\n",
              "      <td>20902</td>\n",
              "      <td>7098</td>\n",
              "      <td>28000</td>\n",
              "      <td>BRI Andri Setyowati</td>\n",
              "    </tr>\n",
              "    <tr>\n",
              "      <th>2</th>\n",
              "      <td>065321010200000075</td>\n",
              "      <td>2021-01-04 15:15:36</td>\n",
              "      <td>Nichoa</td>\n",
              "      <td>0</td>\n",
              "      <td>0</td>\n",
              "      <td>Chocolate Bar</td>\n",
              "      <td>Sleeping Well - 35 gr</td>\n",
              "      <td>SW-1</td>\n",
              "      <td>1</td>\n",
              "      <td>IDR</td>\n",
              "      <td>...</td>\n",
              "      <td>0</td>\n",
              "      <td>0</td>\n",
              "      <td>0</td>\n",
              "      <td>28000</td>\n",
              "      <td>0</td>\n",
              "      <td>22201</td>\n",
              "      <td>22201</td>\n",
              "      <td>5799</td>\n",
              "      <td>28000</td>\n",
              "      <td>BRI Andri Setyowati</td>\n",
              "    </tr>\n",
              "    <tr>\n",
              "      <th>3</th>\n",
              "      <td>065321010200000075</td>\n",
              "      <td>2021-01-05 15:15:36</td>\n",
              "      <td>Nichoa</td>\n",
              "      <td>0</td>\n",
              "      <td>0</td>\n",
              "      <td>Chocolate Bar</td>\n",
              "      <td>Immune Booster - 35 gr</td>\n",
              "      <td>IM-1</td>\n",
              "      <td>1</td>\n",
              "      <td>IDR</td>\n",
              "      <td>...</td>\n",
              "      <td>0</td>\n",
              "      <td>0</td>\n",
              "      <td>0</td>\n",
              "      <td>28000</td>\n",
              "      <td>0</td>\n",
              "      <td>23121</td>\n",
              "      <td>23121</td>\n",
              "      <td>4879</td>\n",
              "      <td>28000</td>\n",
              "      <td>BRI Andri Setyowati</td>\n",
              "    </tr>\n",
              "    <tr>\n",
              "      <th>4</th>\n",
              "      <td>065321010200000076</td>\n",
              "      <td>2021-01-06 15:15:36</td>\n",
              "      <td>Nichoa</td>\n",
              "      <td>0</td>\n",
              "      <td>0</td>\n",
              "      <td>Chocolate Bar</td>\n",
              "      <td>Immune Booster - 35 gr</td>\n",
              "      <td>IM-1</td>\n",
              "      <td>2</td>\n",
              "      <td>IDR</td>\n",
              "      <td>...</td>\n",
              "      <td>0</td>\n",
              "      <td>0</td>\n",
              "      <td>0</td>\n",
              "      <td>56000</td>\n",
              "      <td>0</td>\n",
              "      <td>23121</td>\n",
              "      <td>46242</td>\n",
              "      <td>9758</td>\n",
              "      <td>56000</td>\n",
              "      <td>BRI Andri Setyowati</td>\n",
              "    </tr>\n",
              "  </tbody>\n",
              "</table>\n",
              "<p>5 rows × 21 columns</p>\n",
              "</div>\n",
              "      <button class=\"colab-df-convert\" onclick=\"convertToInteractive('df-67342a92-6770-4d29-a7c4-b7221f1e569e')\"\n",
              "              title=\"Convert this dataframe to an interactive table.\"\n",
              "              style=\"display:none;\">\n",
              "        \n",
              "  <svg xmlns=\"http://www.w3.org/2000/svg\" height=\"24px\"viewBox=\"0 0 24 24\"\n",
              "       width=\"24px\">\n",
              "    <path d=\"M0 0h24v24H0V0z\" fill=\"none\"/>\n",
              "    <path d=\"M18.56 5.44l.94 2.06.94-2.06 2.06-.94-2.06-.94-.94-2.06-.94 2.06-2.06.94zm-11 1L8.5 8.5l.94-2.06 2.06-.94-2.06-.94L8.5 2.5l-.94 2.06-2.06.94zm10 10l.94 2.06.94-2.06 2.06-.94-2.06-.94-.94-2.06-.94 2.06-2.06.94z\"/><path d=\"M17.41 7.96l-1.37-1.37c-.4-.4-.92-.59-1.43-.59-.52 0-1.04.2-1.43.59L10.3 9.45l-7.72 7.72c-.78.78-.78 2.05 0 2.83L4 21.41c.39.39.9.59 1.41.59.51 0 1.02-.2 1.41-.59l7.78-7.78 2.81-2.81c.8-.78.8-2.07 0-2.86zM5.41 20L4 18.59l7.72-7.72 1.47 1.35L5.41 20z\"/>\n",
              "  </svg>\n",
              "      </button>\n",
              "      \n",
              "  <style>\n",
              "    .colab-df-container {\n",
              "      display:flex;\n",
              "      flex-wrap:wrap;\n",
              "      gap: 12px;\n",
              "    }\n",
              "\n",
              "    .colab-df-convert {\n",
              "      background-color: #E8F0FE;\n",
              "      border: none;\n",
              "      border-radius: 50%;\n",
              "      cursor: pointer;\n",
              "      display: none;\n",
              "      fill: #1967D2;\n",
              "      height: 32px;\n",
              "      padding: 0 0 0 0;\n",
              "      width: 32px;\n",
              "    }\n",
              "\n",
              "    .colab-df-convert:hover {\n",
              "      background-color: #E2EBFA;\n",
              "      box-shadow: 0px 1px 2px rgba(60, 64, 67, 0.3), 0px 1px 3px 1px rgba(60, 64, 67, 0.15);\n",
              "      fill: #174EA6;\n",
              "    }\n",
              "\n",
              "    [theme=dark] .colab-df-convert {\n",
              "      background-color: #3B4455;\n",
              "      fill: #D2E3FC;\n",
              "    }\n",
              "\n",
              "    [theme=dark] .colab-df-convert:hover {\n",
              "      background-color: #434B5C;\n",
              "      box-shadow: 0px 1px 3px 1px rgba(0, 0, 0, 0.15);\n",
              "      filter: drop-shadow(0px 1px 2px rgba(0, 0, 0, 0.3));\n",
              "      fill: #FFFFFF;\n",
              "    }\n",
              "  </style>\n",
              "\n",
              "      <script>\n",
              "        const buttonEl =\n",
              "          document.querySelector('#df-67342a92-6770-4d29-a7c4-b7221f1e569e button.colab-df-convert');\n",
              "        buttonEl.style.display =\n",
              "          google.colab.kernel.accessAllowed ? 'block' : 'none';\n",
              "\n",
              "        async function convertToInteractive(key) {\n",
              "          const element = document.querySelector('#df-67342a92-6770-4d29-a7c4-b7221f1e569e');\n",
              "          const dataTable =\n",
              "            await google.colab.kernel.invokeFunction('convertToInteractive',\n",
              "                                                     [key], {});\n",
              "          if (!dataTable) return;\n",
              "\n",
              "          const docLinkHtml = 'Like what you see? Visit the ' +\n",
              "            '<a target=\"_blank\" href=https://colab.research.google.com/notebooks/data_table.ipynb>data table notebook</a>'\n",
              "            + ' to learn more about interactive tables.';\n",
              "          element.innerHTML = '';\n",
              "          dataTable['output_type'] = 'display_data';\n",
              "          await google.colab.output.renderOutput(dataTable, element);\n",
              "          const docLink = document.createElement('div');\n",
              "          docLink.innerHTML = docLinkHtml;\n",
              "          element.appendChild(docLink);\n",
              "        }\n",
              "      </script>\n",
              "    </div>\n",
              "  </div>\n",
              "  "
            ]
          },
          "metadata": {},
          "execution_count": 4
        }
      ],
      "source": [
        "df_all.head()"
      ]
    },
    {
      "cell_type": "markdown",
      "metadata": {
        "id": "mJgZWo-Bg1g-"
      },
      "source": [
        "# Data Cleansing"
      ]
    },
    {
      "cell_type": "markdown",
      "metadata": {
        "id": "xLJCDvgBAwAV"
      },
      "source": [
        "Delete the 'Sample Products and Prizes', 'Endorsement', and 'Reject' rows in the **'payment type'** column"
      ]
    },
    {
      "cell_type": "code",
      "execution_count": null,
      "metadata": {
        "id": "DWKUj04__m-a"
      },
      "outputs": [],
      "source": [
        "df_all = df_all[df_all['payment type'] != 'Sample Product dan Hadiah']\n",
        "df_all = df_all[df_all['payment type'] != 'Endorsment']\n",
        "df_all = df_all[df_all['payment type'] != 'Reject']"
      ]
    },
    {
      "cell_type": "markdown",
      "source": [
        "Change payment type using bank to platform WA"
      ],
      "metadata": {
        "id": "uScbc8P2AT1_"
      }
    },
    {
      "cell_type": "code",
      "source": [
        "df_all['platform'] = df_all['payment type']\n",
        "df_all['platform'][df_all['platform'] == 'BNI Andri Setyowati'] = 'Whatsapp'\n",
        "df_all['platform'][df_all['platform'] == 'BRI Andri Setyowati'] = 'Whatsapp'\n",
        "df_all['platform'][df_all['platform'] == 'Mandiri CV Nutrico Nusantara'] = 'Whatsapp'\n",
        "df_all['platform'][df_all['platform'] == 'CASH'] = 'Whatsapp'\n",
        "df_all['platform'][df_all['platform'] == 'Reseller'] = 'Whatsapp'"
      ],
      "metadata": {
        "id": "9QrYoBle95le"
      },
      "execution_count": null,
      "outputs": []
    },
    {
      "cell_type": "code",
      "execution_count": null,
      "metadata": {
        "id": "zXfj5v8H-Jr3",
        "colab": {
          "base_uri": "https://localhost:8080/"
        },
        "outputId": "3b5c7c1e-813a-4dcd-cb8c-0f7d39030208"
      },
      "outputs": [
        {
          "output_type": "execute_result",
          "data": {
            "text/plain": [
              "Whatsapp                764\n",
              "Pembelian Via Shopee    318\n",
              "Tokopedia               122\n",
              "Bukalapak                50\n",
              "Re-Produksi              11\n",
              "Evermos                   4\n",
              "Piutang Konsinyasi        3\n",
              "Grabfood                  1\n",
              "Gofood                    1\n",
              "Name: platform, dtype: int64"
            ]
          },
          "metadata": {},
          "execution_count": 99
        }
      ],
      "source": [
        "df_all['platform'].value_counts()"
      ]
    },
    {
      "cell_type": "markdown",
      "source": [
        "Show Shape of Variable df_all\n"
      ],
      "metadata": {
        "id": "LItsHp7kaR0y"
      }
    },
    {
      "cell_type": "code",
      "execution_count": null,
      "metadata": {
        "id": "0tzZWbPeEFVk",
        "colab": {
          "base_uri": "https://localhost:8080/"
        },
        "outputId": "6577a8f3-491d-4cf8-a815-bda63dbb93f4"
      },
      "outputs": [
        {
          "output_type": "execute_result",
          "data": {
            "text/plain": [
              "(1274, 22)"
            ]
          },
          "metadata": {},
          "execution_count": 8
        }
      ],
      "source": [
        "df_all.shape"
      ]
    },
    {
      "cell_type": "markdown",
      "metadata": {
        "id": "1lO2Iq6ktu0b"
      },
      "source": [
        "Take column that used in rfm analysis"
      ]
    },
    {
      "cell_type": "markdown",
      "source": [
        "*   we need to ensure that data type in 'Order_time' column is datetime so we have function in below  \n",
        "\n"
      ],
      "metadata": {
        "id": "u5Wsn54Yd1k9"
      }
    },
    {
      "cell_type": "markdown",
      "source": [],
      "metadata": {
        "id": "28pwXuW2d0J4"
      }
    },
    {
      "cell_type": "code",
      "execution_count": null,
      "metadata": {
        "id": "fe-Avh6s45kk"
      },
      "outputs": [],
      "source": [
        "# Order date for all column without handling outlier\n",
        "\n",
        "df_all['order_time'] = pd.to_datetime(df_all['order time'])\n",
        "df_all['OrderYearMonth'] = df_all['order_time'].map(lambda date: 100*date.year + date.month)\n",
        "df_all['Date'] = df_all['order_time'].dt.strftime('%Y-%m')\n",
        "df_all['Year'] = df_all['order_time'].dt.strftime('%Y')\n",
        "df_all['Month'] = df_all['order_time'].dt.strftime('%m')\n",
        "df_all['revenue'] = df_all['qty']*df_all['price']\n",
        "df_all['profit'] = df_all['profit'].str.replace(',','.')\n",
        "df_all['profit'] = df_all['profit'].astype(float)\n",
        "df_all['total cost'] = df_all['total cost'].str.replace(',','.')\n",
        "df_all['total cost'] = df_all['total cost'].astype(float)"
      ]
    },
    {
      "cell_type": "markdown",
      "source": [
        "Using BoxPlot for Outlier Visualitation"
      ],
      "metadata": {
        "id": "rztCXkHubGKk"
      }
    },
    {
      "cell_type": "code",
      "execution_count": null,
      "metadata": {
        "id": "UU-hvJ7RJypY"
      },
      "outputs": [],
      "source": [
        "# fungsi untuk mencari quantile dan outliers\n",
        "def find_outliers(data):\n",
        "    \n",
        "    #Hitung nilai Q1 dan Q3\n",
        "    Q1 = np.quantile(data , .25)\n",
        "    Q3 = np.quantile(data, .75)\n",
        "    \n",
        "    # Hitung nilai IQR\n",
        "    IQR = Q3 - Q1\n",
        "    min_IQR = Q1 - 1.5 * IQR\n",
        "    max_IQR = Q3 + 1.5 * IQR\n",
        "    \n",
        "    # Looping dan append outliers\n",
        "    lower_out = []\n",
        "    upper_out = []\n",
        "    \n",
        "    for i in data:\n",
        "        if(i < min_IQR):\n",
        "            lower_out.append(i)\n",
        "        elif(i > max_IQR):\n",
        "            upper_out.append(i)\n",
        "            \n",
        "    return lower_out, upper_out"
      ]
    },
    {
      "cell_type": "markdown",
      "source": [
        "So in here we make Function to normalize data from outliers and calculating it\n"
      ],
      "metadata": {
        "id": "CQ-FqBVSRxlg"
      }
    },
    {
      "cell_type": "code",
      "execution_count": null,
      "metadata": {
        "id": "LzYg3zD9J_ox",
        "colab": {
          "base_uri": "https://localhost:8080/",
          "height": 442
        },
        "outputId": "1d47d335-8ea9-416e-c348-fec968a04ccf"
      },
      "outputs": [
        {
          "output_type": "display_data",
          "data": {
            "text/plain": [
              "<Figure size 720x504 with 2 Axes>"
            ],
            "image/png": "[encoded data removed]"
          },
          "metadata": {
            "needs_background": "light"
          }
        }
      ],
      "source": [
        "#Visualisasi Outliers\n",
        "fig, (ax1, ax2) = plt.subplots(2, sharex=True, gridspec_kw={'height_ratios' : (.20, .80)}, figsize=(10,7))\n",
        "sns.boxplot(df_all['qty'], ax=ax1, palette='Paired')\n",
        "sns.distplot(df_all['qty'], ax=ax2)\n",
        "plt.axvline(df_all['qty'].quantile(.25), color='red', ls='--') # quantile 1\n",
        "plt.axvline(df_all['qty'].quantile(.5), color='green', ls='--') # quantile 2\n",
        "plt.axvline(df_all['qty'].quantile(.75), color='purple', ls='--')# quantile 3\n",
        "plt.show()"
      ]
    },
    {
      "cell_type": "markdown",
      "source": [
        "From the data visualization above, there are lots of outliers, but we do not handle, eliminate, or include these outliers because the data will be biased and not real if segmentation is done."
      ],
      "metadata": {
        "id": "z19PiZpHZtCc"
      }
    },
    {
      "cell_type": "code",
      "execution_count": null,
      "metadata": {
        "id": "eVC-1hB-KD7-"
      },
      "outputs": [],
      "source": [
        "# cari outliers dengan fungsi IQR\n",
        "lower_out = find_outliers(df_all[\"qty\"])[0]\n",
        "upper_out = find_outliers(df_all[\"qty\"])[1]"
      ]
    },
    {
      "cell_type": "code",
      "execution_count": null,
      "metadata": {
        "id": "U-97jLYsKKbj",
        "colab": {
          "base_uri": "https://localhost:8080/"
        },
        "outputId": "ecd36b43-4af9-4625-cc02-7ebe4199de4d"
      },
      "outputs": [
        {
          "output_type": "stream",
          "name": "stdout",
          "text": [
            "Jumlah Outliers: 157\n"
          ]
        }
      ],
      "source": [
        "# cek jumlah outliers\n",
        "outliers = len(lower_out) + len(upper_out)\n",
        "print(\"Jumlah Outliers:\", outliers)"
      ]
    },
    {
      "cell_type": "code",
      "source": [
        "#melihat jumlah quantity berdasarkan order no\n",
        "df_order = df_all.groupby('order no').qty.sum()\n",
        "df_order = pd.DataFrame(df_order)\n",
        "df_order = df_order.reset_index()"
      ],
      "metadata": {
        "id": "mRqgJPOzX255"
      },
      "execution_count": null,
      "outputs": []
    },
    {
      "cell_type": "code",
      "source": [
        "Q1 = np.quantile(df_order['qty'] , .25)\n",
        "Q3 = np.quantile(df_order['qty'], .75)\n",
        "    \n",
        "    # Hitung nilai IQR\n",
        "IQR = Q3 - Q1\n",
        "min_IQR = Q1 - 1.5 * IQR\n",
        "max_IQR = Q3 + 1.5 * IQR"
      ],
      "metadata": {
        "id": "Pi8Q7xvTtgw7"
      },
      "execution_count": null,
      "outputs": []
    },
    {
      "cell_type": "markdown",
      "source": [
        "We can see if customers order buy chocolate bar 8 pieces or more, These customers are outliers"
      ],
      "metadata": {
        "id": "q1nq18_EByII"
      }
    },
    {
      "cell_type": "code",
      "source": [
        "plt.figure(figsize=(10,6))\n",
        "plt.scatter(df_order['order no'],df_order['qty'])\n",
        "plt.title('Outliers')\n",
        "plt.xlabel('Item Name')\n",
        "plt.ylabel('qty') "
      ],
      "metadata": {
        "colab": {
          "base_uri": "https://localhost:8080/",
          "height": 421
        },
        "id": "AdoW0bACW48i",
        "outputId": "396f61db-ffc5-45d8-bd98-fc45fb8b94f7"
      },
      "execution_count": null,
      "outputs": [
        {
          "output_type": "execute_result",
          "data": {
            "text/plain": [
              "Text(0, 0.5, 'qty')"
            ]
          },
          "metadata": {},
          "execution_count": 16
        },
        {
          "output_type": "display_data",
          "data": {
            "text/plain": [
              "<Figure size 720x432 with 1 Axes>"
            ],
            "image/png": "[encoded data removed]"
          },
          "metadata": {
            "needs_background": "light"
          }
        }
      ]
    },
    {
      "cell_type": "markdown",
      "source": [
        "In this section, we display total orders by quantity. As can be seen above, there are outliers in the \"qty\" column. Since the most purchases for each transaction reached 203 items, we can assume that purchases in those transactions were made by resellers."
      ],
      "metadata": {
        "id": "yt-4SKxIYEOK"
      }
    },
    {
      "cell_type": "markdown",
      "metadata": {
        "id": "jRaGxYUWqE9U"
      },
      "source": [
        "# EDA"
      ]
    },
    {
      "cell_type": "markdown",
      "metadata": {
        "id": "odZKTbYoIw6y"
      },
      "source": [
        "How many product sold every month?"
      ]
    },
    {
      "cell_type": "code",
      "execution_count": null,
      "metadata": {
        "id": "m-WJKi4DOo6j",
        "colab": {
          "base_uri": "https://localhost:8080/",
          "height": 206
        },
        "outputId": "bcbafd00-f08f-4721-9d00-d6aa31d7761a"
      },
      "outputs": [
        {
          "output_type": "execute_result",
          "data": {
            "text/plain": [
              "   Year Month  order no\n",
              "0  2021    01       126\n",
              "1  2021    02       164\n",
              "2  2021    03       112\n",
              "3  2021    04        70\n",
              "4  2021    05       159"
            ],
            "text/html": [
              "\n",
              "  <div id=\"df-4f53fd37-559b-4915-a793-875c9a934671\">\n",
              "    <div class=\"colab-df-container\">\n",
              "      <div>\n",
              "<style scoped>\n",
              "    .dataframe tbody tr th:only-of-type {\n",
              "        vertical-align: middle;\n",
              "    }\n",
              "\n",
              "    .dataframe tbody tr th {\n",
              "        vertical-align: top;\n",
              "    }\n",
              "\n",
              "    .dataframe thead th {\n",
              "        text-align: right;\n",
              "    }\n",
              "</style>\n",
              "<table border=\"1\" class=\"dataframe\">\n",
              "  <thead>\n",
              "    <tr style=\"text-align: right;\">\n",
              "      <th></th>\n",
              "      <th>Year</th>\n",
              "      <th>Month</th>\n",
              "      <th>order no</th>\n",
              "    </tr>\n",
              "  </thead>\n",
              "  <tbody>\n",
              "    <tr>\n",
              "      <th>0</th>\n",
              "      <td>2021</td>\n",
              "      <td>01</td>\n",
              "      <td>126</td>\n",
              "    </tr>\n",
              "    <tr>\n",
              "      <th>1</th>\n",
              "      <td>2021</td>\n",
              "      <td>02</td>\n",
              "      <td>164</td>\n",
              "    </tr>\n",
              "    <tr>\n",
              "      <th>2</th>\n",
              "      <td>2021</td>\n",
              "      <td>03</td>\n",
              "      <td>112</td>\n",
              "    </tr>\n",
              "    <tr>\n",
              "      <th>3</th>\n",
              "      <td>2021</td>\n",
              "      <td>04</td>\n",
              "      <td>70</td>\n",
              "    </tr>\n",
              "    <tr>\n",
              "      <th>4</th>\n",
              "      <td>2021</td>\n",
              "      <td>05</td>\n",
              "      <td>159</td>\n",
              "    </tr>\n",
              "  </tbody>\n",
              "</table>\n",
              "</div>\n",
              "      <button class=\"colab-df-convert\" onclick=\"convertToInteractive('df-4f53fd37-559b-4915-a793-875c9a934671')\"\n",
              "              title=\"Convert this dataframe to an interactive table.\"\n",
              "              style=\"display:none;\">\n",
              "        \n",
              "  <svg xmlns=\"http://www.w3.org/2000/svg\" height=\"24px\"viewBox=\"0 0 24 24\"\n",
              "       width=\"24px\">\n",
              "    <path d=\"M0 0h24v24H0V0z\" fill=\"none\"/>\n",
              "    <path d=\"M18.56 5.44l.94 2.06.94-2.06 2.06-.94-2.06-.94-.94-2.06-.94 2.06-2.06.94zm-11 1L8.5 8.5l.94-2.06 2.06-.94-2.06-.94L8.5 2.5l-.94 2.06-2.06.94zm10 10l.94 2.06.94-2.06 2.06-.94-2.06-.94-.94-2.06-.94 2.06-2.06.94z\"/><path d=\"M17.41 7.96l-1.37-1.37c-.4-.4-.92-.59-1.43-.59-.52 0-1.04.2-1.43.59L10.3 9.45l-7.72 7.72c-.78.78-.78 2.05 0 2.83L4 21.41c.39.39.9.59 1.41.59.51 0 1.02-.2 1.41-.59l7.78-7.78 2.81-2.81c.8-.78.8-2.07 0-2.86zM5.41 20L4 18.59l7.72-7.72 1.47 1.35L5.41 20z\"/>\n",
              "  </svg>\n",
              "      </button>\n",
              "      \n",
              "  <style>\n",
              "    .colab-df-container {\n",
              "      display:flex;\n",
              "      flex-wrap:wrap;\n",
              "      gap: 12px;\n",
              "    }\n",
              "\n",
              "    .colab-df-convert {\n",
              "      background-color: #E8F0FE;\n",
              "      border: none;\n",
              "      border-radius: 50%;\n",
              "      cursor: pointer;\n",
              "      display: none;\n",
              "      fill: #1967D2;\n",
              "      height: 32px;\n",
              "      padding: 0 0 0 0;\n",
              "      width: 32px;\n",
              "    }\n",
              "\n",
              "    .colab-df-convert:hover {\n",
              "      background-color: #E2EBFA;\n",
              "      box-shadow: 0px 1px 2px rgba(60, 64, 67, 0.3), 0px 1px 3px 1px rgba(60, 64, 67, 0.15);\n",
              "      fill: #174EA6;\n",
              "    }\n",
              "\n",
              "    [theme=dark] .colab-df-convert {\n",
              "      background-color: #3B4455;\n",
              "      fill: #D2E3FC;\n",
              "    }\n",
              "\n",
              "    [theme=dark] .colab-df-convert:hover {\n",
              "      background-color: #434B5C;\n",
              "      box-shadow: 0px 1px 3px 1px rgba(0, 0, 0, 0.15);\n",
              "      filter: drop-shadow(0px 1px 2px rgba(0, 0, 0, 0.3));\n",
              "      fill: #FFFFFF;\n",
              "    }\n",
              "  </style>\n",
              "\n",
              "      <script>\n",
              "        const buttonEl =\n",
              "          document.querySelector('#df-4f53fd37-559b-4915-a793-875c9a934671 button.colab-df-convert');\n",
              "        buttonEl.style.display =\n",
              "          google.colab.kernel.accessAllowed ? 'block' : 'none';\n",
              "\n",
              "        async function convertToInteractive(key) {\n",
              "          const element = document.querySelector('#df-4f53fd37-559b-4915-a793-875c9a934671');\n",
              "          const dataTable =\n",
              "            await google.colab.kernel.invokeFunction('convertToInteractive',\n",
              "                                                     [key], {});\n",
              "          if (!dataTable) return;\n",
              "\n",
              "          const docLinkHtml = 'Like what you see? Visit the ' +\n",
              "            '<a target=\"_blank\" href=https://colab.research.google.com/notebooks/data_table.ipynb>data table notebook</a>'\n",
              "            + ' to learn more about interactive tables.';\n",
              "          element.innerHTML = '';\n",
              "          dataTable['output_type'] = 'display_data';\n",
              "          await google.colab.output.renderOutput(dataTable, element);\n",
              "          const docLink = document.createElement('div');\n",
              "          docLink.innerHTML = docLinkHtml;\n",
              "          element.appendChild(docLink);\n",
              "        }\n",
              "      </script>\n",
              "    </div>\n",
              "  </div>\n",
              "  "
            ]
          },
          "metadata": {},
          "execution_count": 17
        }
      ],
      "source": [
        "#Aggregating the Orders by Year and Month\n",
        "\n",
        "df_agg = df_all.groupby([\"Year\", \"Month\"])['order no'].count()\n",
        "df_agg = pd.DataFrame(df_agg)\n",
        "df_agg = df_agg.reset_index()\n",
        "df_agg.head()"
      ]
    },
    {
      "cell_type": "code",
      "execution_count": null,
      "metadata": {
        "id": "1PzQeWfvMAP8"
      },
      "outputs": [],
      "source": [
        "df_agg['Month'][df_agg['Month']=='01'] ='Jan'\n",
        "df_agg['Month'][df_agg['Month']=='02'] ='Feb'\n",
        "df_agg['Month'][df_agg['Month']=='03'] ='Mar'\n",
        "df_agg['Month'][df_agg['Month']=='04'] ='Apr'\n",
        "df_agg['Month'][df_agg['Month']=='05'] ='May'\n",
        "df_agg['Month'][df_agg['Month']=='06'] ='Jun'\n",
        "df_agg['Month'][df_agg['Month']=='07'] ='Jul'\n",
        "df_agg['Month'][df_agg['Month']=='08'] ='Aug'\n",
        "df_agg['Month'][df_agg['Month']=='09'] ='Sep'\n",
        "df_agg['Month'][df_agg['Month']=='10'] ='Oct'\n",
        "df_agg['Month'][df_agg['Month']=='11'] ='Nov'\n",
        "df_agg['Month'][df_agg['Month']=='12'] ='Dec'"
      ]
    },
    {
      "cell_type": "code",
      "source": [
        "sum(df_agg['order no'])"
      ],
      "metadata": {
        "colab": {
          "base_uri": "https://localhost:8080/"
        },
        "id": "V9R8rQeYLqqU",
        "outputId": "6c8e1c4e-78c8-48f2-c13b-8619bb325ea1"
      },
      "execution_count": null,
      "outputs": [
        {
          "output_type": "execute_result",
          "data": {
            "text/plain": [
              "1274"
            ]
          },
          "metadata": {},
          "execution_count": 19
        }
      ]
    },
    {
      "cell_type": "code",
      "execution_count": null,
      "metadata": {
        "id": "GDYmm41aMQ30",
        "colab": {
          "base_uri": "https://localhost:8080/",
          "height": 363
        },
        "outputId": "7c2bfca3-a2b1-4c3f-81b6-cd22b9c60f60"
      },
      "outputs": [
        {
          "output_type": "execute_result",
          "data": {
            "text/plain": [
              "   Year Month  order no  percent yearmonth\n",
              "0  2021   Jan       126     9.89  2021 Jan\n",
              "1  2021   Feb       164    12.87  2021 Feb\n",
              "2  2021   Mar       112     8.79  2021 Mar\n",
              "3  2021   Apr        70     5.49  2021 Apr\n",
              "4  2021   May       159    12.48  2021 May\n",
              "5  2021   Jul        48     3.77  2021 Jul\n",
              "6  2021   Aug       150    11.77  2021 Aug\n",
              "7  2021   Sep        46     3.61  2021 Sep\n",
              "8  2021   Oct        78     6.12  2021 Oct\n",
              "9  2021   Nov        82     6.44  2021 Nov"
            ],
            "text/html": [
              "\n",
              "  <div id=\"df-55adf386-7dcb-41d8-b588-bb1d4b1a3da6\">\n",
              "    <div class=\"colab-df-container\">\n",
              "      <div>\n",
              "<style scoped>\n",
              "    .dataframe tbody tr th:only-of-type {\n",
              "        vertical-align: middle;\n",
              "    }\n",
              "\n",
              "    .dataframe tbody tr th {\n",
              "        vertical-align: top;\n",
              "    }\n",
              "\n",
              "    .dataframe thead th {\n",
              "        text-align: right;\n",
              "    }\n",
              "</style>\n",
              "<table border=\"1\" class=\"dataframe\">\n",
              "  <thead>\n",
              "    <tr style=\"text-align: right;\">\n",
              "      <th></th>\n",
              "      <th>Year</th>\n",
              "      <th>Month</th>\n",
              "      <th>order no</th>\n",
              "      <th>percent</th>\n",
              "      <th>yearmonth</th>\n",
              "    </tr>\n",
              "  </thead>\n",
              "  <tbody>\n",
              "    <tr>\n",
              "      <th>0</th>\n",
              "      <td>2021</td>\n",
              "      <td>Jan</td>\n",
              "      <td>126</td>\n",
              "      <td>9.89</td>\n",
              "      <td>2021 Jan</td>\n",
              "    </tr>\n",
              "    <tr>\n",
              "      <th>1</th>\n",
              "      <td>2021</td>\n",
              "      <td>Feb</td>\n",
              "      <td>164</td>\n",
              "      <td>12.87</td>\n",
              "      <td>2021 Feb</td>\n",
              "    </tr>\n",
              "    <tr>\n",
              "      <th>2</th>\n",
              "      <td>2021</td>\n",
              "      <td>Mar</td>\n",
              "      <td>112</td>\n",
              "      <td>8.79</td>\n",
              "      <td>2021 Mar</td>\n",
              "    </tr>\n",
              "    <tr>\n",
              "      <th>3</th>\n",
              "      <td>2021</td>\n",
              "      <td>Apr</td>\n",
              "      <td>70</td>\n",
              "      <td>5.49</td>\n",
              "      <td>2021 Apr</td>\n",
              "    </tr>\n",
              "    <tr>\n",
              "      <th>4</th>\n",
              "      <td>2021</td>\n",
              "      <td>May</td>\n",
              "      <td>159</td>\n",
              "      <td>12.48</td>\n",
              "      <td>2021 May</td>\n",
              "    </tr>\n",
              "    <tr>\n",
              "      <th>5</th>\n",
              "      <td>2021</td>\n",
              "      <td>Jul</td>\n",
              "      <td>48</td>\n",
              "      <td>3.77</td>\n",
              "      <td>2021 Jul</td>\n",
              "    </tr>\n",
              "    <tr>\n",
              "      <th>6</th>\n",
              "      <td>2021</td>\n",
              "      <td>Aug</td>\n",
              "      <td>150</td>\n",
              "      <td>11.77</td>\n",
              "      <td>2021 Aug</td>\n",
              "    </tr>\n",
              "    <tr>\n",
              "      <th>7</th>\n",
              "      <td>2021</td>\n",
              "      <td>Sep</td>\n",
              "      <td>46</td>\n",
              "      <td>3.61</td>\n",
              "      <td>2021 Sep</td>\n",
              "    </tr>\n",
              "    <tr>\n",
              "      <th>8</th>\n",
              "      <td>2021</td>\n",
              "      <td>Oct</td>\n",
              "      <td>78</td>\n",
              "      <td>6.12</td>\n",
              "      <td>2021 Oct</td>\n",
              "    </tr>\n",
              "    <tr>\n",
              "      <th>9</th>\n",
              "      <td>2021</td>\n",
              "      <td>Nov</td>\n",
              "      <td>82</td>\n",
              "      <td>6.44</td>\n",
              "      <td>2021 Nov</td>\n",
              "    </tr>\n",
              "  </tbody>\n",
              "</table>\n",
              "</div>\n",
              "      <button class=\"colab-df-convert\" onclick=\"convertToInteractive('df-55adf386-7dcb-41d8-b588-bb1d4b1a3da6')\"\n",
              "              title=\"Convert this dataframe to an interactive table.\"\n",
              "              style=\"display:none;\">\n",
              "        \n",
              "  <svg xmlns=\"http://www.w3.org/2000/svg\" height=\"24px\"viewBox=\"0 0 24 24\"\n",
              "       width=\"24px\">\n",
              "    <path d=\"M0 0h24v24H0V0z\" fill=\"none\"/>\n",
              "    <path d=\"M18.56 5.44l.94 2.06.94-2.06 2.06-.94-2.06-.94-.94-2.06-.94 2.06-2.06.94zm-11 1L8.5 8.5l.94-2.06 2.06-.94-2.06-.94L8.5 2.5l-.94 2.06-2.06.94zm10 10l.94 2.06.94-2.06 2.06-.94-2.06-.94-.94-2.06-.94 2.06-2.06.94z\"/><path d=\"M17.41 7.96l-1.37-1.37c-.4-.4-.92-.59-1.43-.59-.52 0-1.04.2-1.43.59L10.3 9.45l-7.72 7.72c-.78.78-.78 2.05 0 2.83L4 21.41c.39.39.9.59 1.41.59.51 0 1.02-.2 1.41-.59l7.78-7.78 2.81-2.81c.8-.78.8-2.07 0-2.86zM5.41 20L4 18.59l7.72-7.72 1.47 1.35L5.41 20z\"/>\n",
              "  </svg>\n",
              "      </button>\n",
              "      \n",
              "  <style>\n",
              "    .colab-df-container {\n",
              "      display:flex;\n",
              "      flex-wrap:wrap;\n",
              "      gap: 12px;\n",
              "    }\n",
              "\n",
              "    .colab-df-convert {\n",
              "      background-color: #E8F0FE;\n",
              "      border: none;\n",
              "      border-radius: 50%;\n",
              "      cursor: pointer;\n",
              "      display: none;\n",
              "      fill: #1967D2;\n",
              "      height: 32px;\n",
              "      padding: 0 0 0 0;\n",
              "      width: 32px;\n",
              "    }\n",
              "\n",
              "    .colab-df-convert:hover {\n",
              "      background-color: #E2EBFA;\n",
              "      box-shadow: 0px 1px 2px rgba(60, 64, 67, 0.3), 0px 1px 3px 1px rgba(60, 64, 67, 0.15);\n",
              "      fill: #174EA6;\n",
              "    }\n",
              "\n",
              "    [theme=dark] .colab-df-convert {\n",
              "      background-color: #3B4455;\n",
              "      fill: #D2E3FC;\n",
              "    }\n",
              "\n",
              "    [theme=dark] .colab-df-convert:hover {\n",
              "      background-color: #434B5C;\n",
              "      box-shadow: 0px 1px 3px 1px rgba(0, 0, 0, 0.15);\n",
              "      filter: drop-shadow(0px 1px 2px rgba(0, 0, 0, 0.3));\n",
              "      fill: #FFFFFF;\n",
              "    }\n",
              "  </style>\n",
              "\n",
              "      <script>\n",
              "        const buttonEl =\n",
              "          document.querySelector('#df-55adf386-7dcb-41d8-b588-bb1d4b1a3da6 button.colab-df-convert');\n",
              "        buttonEl.style.display =\n",
              "          google.colab.kernel.accessAllowed ? 'block' : 'none';\n",
              "\n",
              "        async function convertToInteractive(key) {\n",
              "          const element = document.querySelector('#df-55adf386-7dcb-41d8-b588-bb1d4b1a3da6');\n",
              "          const dataTable =\n",
              "            await google.colab.kernel.invokeFunction('convertToInteractive',\n",
              "                                                     [key], {});\n",
              "          if (!dataTable) return;\n",
              "\n",
              "          const docLinkHtml = 'Like what you see? Visit the ' +\n",
              "            '<a target=\"_blank\" href=https://colab.research.google.com/notebooks/data_table.ipynb>data table notebook</a>'\n",
              "            + ' to learn more about interactive tables.';\n",
              "          element.innerHTML = '';\n",
              "          dataTable['output_type'] = 'display_data';\n",
              "          await google.colab.output.renderOutput(dataTable, element);\n",
              "          const docLink = document.createElement('div');\n",
              "          docLink.innerHTML = docLinkHtml;\n",
              "          element.appendChild(docLink);\n",
              "        }\n",
              "      </script>\n",
              "    </div>\n",
              "  </div>\n",
              "  "
            ]
          },
          "metadata": {},
          "execution_count": 20
        }
      ],
      "source": [
        "df_agg['percent'] = round((df_agg['order no']*100)/sum(df_agg['order no']),2)\n",
        "df_agg['yearmonth'] = df_agg['Year']+' '+df_agg['Month']\n",
        "df_agg.head(10)"
      ]
    },
    {
      "cell_type": "code",
      "execution_count": null,
      "metadata": {
        "id": "bHu2zmGcqGxN"
      },
      "outputs": [],
      "source": [
        "def plot_df(df, x, y, title=\"\", xlabel='Year Month', ylabel='qty', dpi=100):\n",
        "    plt.figure(figsize=(16,5), dpi=dpi)\n",
        "    plt.gca().set(title=title, xlabel=xlabel, ylabel=ylabel)\n",
        "    plt.plot(x, y, color='tab:Blue', marker='o')\n",
        "    plt.show()"
      ]
    },
    {
      "cell_type": "code",
      "execution_count": null,
      "metadata": {
        "id": "2ImDR6O5PVkS",
        "colab": {
          "base_uri": "https://localhost:8080/",
          "height": 480
        },
        "outputId": "8b9dbc88-2cc2-41bd-b794-9631187d95c6"
      },
      "outputs": [
        {
          "output_type": "display_data",
          "data": {
            "text/plain": [
              "<Figure size 1600x500 with 1 Axes>"
            ],
            "image/png": "[encoded data removed]"
          },
          "metadata": {
            "needs_background": "light"
          }
        }
      ],
      "source": [
        "plot_df(df_agg, x=df_agg.yearmonth, y=df_agg['order no'], title='Orders in 2021-2022')"
      ]
    },
    {
      "cell_type": "code",
      "source": [
        "df_agg.describe()"
      ],
      "metadata": {
        "colab": {
          "base_uri": "https://localhost:8080/",
          "height": 300
        },
        "id": "0j7aM20xQct1",
        "outputId": "205c4ccb-a86b-46cb-a65e-795fc280c1a4"
      },
      "execution_count": null,
      "outputs": [
        {
          "output_type": "execute_result",
          "data": {
            "text/plain": [
              "         order no    percent\n",
              "count   13.000000  13.000000\n",
              "mean    98.000000   7.690769\n",
              "std     41.111637   3.226602\n",
              "min     46.000000   3.610000\n",
              "25%     70.000000   5.490000\n",
              "50%     84.000000   6.590000\n",
              "75%    126.000000   9.890000\n",
              "max    164.000000  12.870000"
            ],
            "text/html": [
              "\n",
              "  <div id=\"df-f14f6c68-cd7b-443a-81b8-c9a6c47b41da\">\n",
              "    <div class=\"colab-df-container\">\n",
              "      <div>\n",
              "<style scoped>\n",
              "    .dataframe tbody tr th:only-of-type {\n",
              "        vertical-align: middle;\n",
              "    }\n",
              "\n",
              "    .dataframe tbody tr th {\n",
              "        vertical-align: top;\n",
              "    }\n",
              "\n",
              "    .dataframe thead th {\n",
              "        text-align: right;\n",
              "    }\n",
              "</style>\n",
              "<table border=\"1\" class=\"dataframe\">\n",
              "  <thead>\n",
              "    <tr style=\"text-align: right;\">\n",
              "      <th></th>\n",
              "      <th>order no</th>\n",
              "      <th>percent</th>\n",
              "    </tr>\n",
              "  </thead>\n",
              "  <tbody>\n",
              "    <tr>\n",
              "      <th>count</th>\n",
              "      <td>13.000000</td>\n",
              "      <td>13.000000</td>\n",
              "    </tr>\n",
              "    <tr>\n",
              "      <th>mean</th>\n",
              "      <td>98.000000</td>\n",
              "      <td>7.690769</td>\n",
              "    </tr>\n",
              "    <tr>\n",
              "      <th>std</th>\n",
              "      <td>41.111637</td>\n",
              "      <td>3.226602</td>\n",
              "    </tr>\n",
              "    <tr>\n",
              "      <th>min</th>\n",
              "      <td>46.000000</td>\n",
              "      <td>3.610000</td>\n",
              "    </tr>\n",
              "    <tr>\n",
              "      <th>25%</th>\n",
              "      <td>70.000000</td>\n",
              "      <td>5.490000</td>\n",
              "    </tr>\n",
              "    <tr>\n",
              "      <th>50%</th>\n",
              "      <td>84.000000</td>\n",
              "      <td>6.590000</td>\n",
              "    </tr>\n",
              "    <tr>\n",
              "      <th>75%</th>\n",
              "      <td>126.000000</td>\n",
              "      <td>9.890000</td>\n",
              "    </tr>\n",
              "    <tr>\n",
              "      <th>max</th>\n",
              "      <td>164.000000</td>\n",
              "      <td>12.870000</td>\n",
              "    </tr>\n",
              "  </tbody>\n",
              "</table>\n",
              "</div>\n",
              "      <button class=\"colab-df-convert\" onclick=\"convertToInteractive('df-f14f6c68-cd7b-443a-81b8-c9a6c47b41da')\"\n",
              "              title=\"Convert this dataframe to an interactive table.\"\n",
              "              style=\"display:none;\">\n",
              "        \n",
              "  <svg xmlns=\"http://www.w3.org/2000/svg\" height=\"24px\"viewBox=\"0 0 24 24\"\n",
              "       width=\"24px\">\n",
              "    <path d=\"M0 0h24v24H0V0z\" fill=\"none\"/>\n",
              "    <path d=\"M18.56 5.44l.94 2.06.94-2.06 2.06-.94-2.06-.94-.94-2.06-.94 2.06-2.06.94zm-11 1L8.5 8.5l.94-2.06 2.06-.94-2.06-.94L8.5 2.5l-.94 2.06-2.06.94zm10 10l.94 2.06.94-2.06 2.06-.94-2.06-.94-.94-2.06-.94 2.06-2.06.94z\"/><path d=\"M17.41 7.96l-1.37-1.37c-.4-.4-.92-.59-1.43-.59-.52 0-1.04.2-1.43.59L10.3 9.45l-7.72 7.72c-.78.78-.78 2.05 0 2.83L4 21.41c.39.39.9.59 1.41.59.51 0 1.02-.2 1.41-.59l7.78-7.78 2.81-2.81c.8-.78.8-2.07 0-2.86zM5.41 20L4 18.59l7.72-7.72 1.47 1.35L5.41 20z\"/>\n",
              "  </svg>\n",
              "      </button>\n",
              "      \n",
              "  <style>\n",
              "    .colab-df-container {\n",
              "      display:flex;\n",
              "      flex-wrap:wrap;\n",
              "      gap: 12px;\n",
              "    }\n",
              "\n",
              "    .colab-df-convert {\n",
              "      background-color: #E8F0FE;\n",
              "      border: none;\n",
              "      border-radius: 50%;\n",
              "      cursor: pointer;\n",
              "      display: none;\n",
              "      fill: #1967D2;\n",
              "      height: 32px;\n",
              "      padding: 0 0 0 0;\n",
              "      width: 32px;\n",
              "    }\n",
              "\n",
              "    .colab-df-convert:hover {\n",
              "      background-color: #E2EBFA;\n",
              "      box-shadow: 0px 1px 2px rgba(60, 64, 67, 0.3), 0px 1px 3px 1px rgba(60, 64, 67, 0.15);\n",
              "      fill: #174EA6;\n",
              "    }\n",
              "\n",
              "    [theme=dark] .colab-df-convert {\n",
              "      background-color: #3B4455;\n",
              "      fill: #D2E3FC;\n",
              "    }\n",
              "\n",
              "    [theme=dark] .colab-df-convert:hover {\n",
              "      background-color: #434B5C;\n",
              "      box-shadow: 0px 1px 3px 1px rgba(0, 0, 0, 0.15);\n",
              "      filter: drop-shadow(0px 1px 2px rgba(0, 0, 0, 0.3));\n",
              "      fill: #FFFFFF;\n",
              "    }\n",
              "  </style>\n",
              "\n",
              "      <script>\n",
              "        const buttonEl =\n",
              "          document.querySelector('#df-f14f6c68-cd7b-443a-81b8-c9a6c47b41da button.colab-df-convert');\n",
              "        buttonEl.style.display =\n",
              "          google.colab.kernel.accessAllowed ? 'block' : 'none';\n",
              "\n",
              "        async function convertToInteractive(key) {\n",
              "          const element = document.querySelector('#df-f14f6c68-cd7b-443a-81b8-c9a6c47b41da');\n",
              "          const dataTable =\n",
              "            await google.colab.kernel.invokeFunction('convertToInteractive',\n",
              "                                                     [key], {});\n",
              "          if (!dataTable) return;\n",
              "\n",
              "          const docLinkHtml = 'Like what you see? Visit the ' +\n",
              "            '<a target=\"_blank\" href=https://colab.research.google.com/notebooks/data_table.ipynb>data table notebook</a>'\n",
              "            + ' to learn more about interactive tables.';\n",
              "          element.innerHTML = '';\n",
              "          dataTable['output_type'] = 'display_data';\n",
              "          await google.colab.output.renderOutput(dataTable, element);\n",
              "          const docLink = document.createElement('div');\n",
              "          docLink.innerHTML = docLinkHtml;\n",
              "          element.appendChild(docLink);\n",
              "        }\n",
              "      </script>\n",
              "    </div>\n",
              "  </div>\n",
              "  "
            ]
          },
          "metadata": {},
          "execution_count": 23
        }
      ]
    },
    {
      "cell_type": "markdown",
      "metadata": {
        "id": "_k2XgPDTKCh-"
      },
      "source": [
        "From the graph above, it can be seen that the highest sales in 2021 were in February with a total percentage sales 12.87%, because in February there is Valentine's Day, so there was a surge in chocolate purchases.Revenue can be explained as the net profit generated by business people in a certain period. \n",
        "Average monthly sales with a percentage of 7.69%.\n",
        "and also the lowest sales on september, only 46 products with a percentage of 3.61%.\n",
        "\n",
        "sales that tend to fluctuate like the graph above can be influenced by internal and external factors, this needs to be considered because this will have an impact on revenue and profit for the company. external factors such as declining consumer interest and the unstable community economy can trigger sales to fluctuate\n",
        "\n",
        "therefore we can carry out further analysis"
      ]
    },
    {
      "cell_type": "code",
      "execution_count": null,
      "metadata": {
        "id": "KMInKZVNTPeT",
        "colab": {
          "base_uri": "https://localhost:8080/",
          "height": 206
        },
        "outputId": "f20aebdf-b743-40ea-b192-d1e98d2ea422"
      },
      "outputs": [
        {
          "output_type": "execute_result",
          "data": {
            "text/plain": [
              "   Year Month   revenue\n",
              "0  2021    01   7437750\n",
              "1  2021    02  15144250\n",
              "2  2021    03   8363750\n",
              "3  2021    04   4657750\n",
              "4  2021    05  10396000"
            ],
            "text/html": [
              "\n",
              "  <div id=\"df-4445719d-041b-4baa-a6e6-10d2b41211c7\">\n",
              "    <div class=\"colab-df-container\">\n",
              "      <div>\n",
              "<style scoped>\n",
              "    .dataframe tbody tr th:only-of-type {\n",
              "        vertical-align: middle;\n",
              "    }\n",
              "\n",
              "    .dataframe tbody tr th {\n",
              "        vertical-align: top;\n",
              "    }\n",
              "\n",
              "    .dataframe thead th {\n",
              "        text-align: right;\n",
              "    }\n",
              "</style>\n",
              "<table border=\"1\" class=\"dataframe\">\n",
              "  <thead>\n",
              "    <tr style=\"text-align: right;\">\n",
              "      <th></th>\n",
              "      <th>Year</th>\n",
              "      <th>Month</th>\n",
              "      <th>revenue</th>\n",
              "    </tr>\n",
              "  </thead>\n",
              "  <tbody>\n",
              "    <tr>\n",
              "      <th>0</th>\n",
              "      <td>2021</td>\n",
              "      <td>01</td>\n",
              "      <td>7437750</td>\n",
              "    </tr>\n",
              "    <tr>\n",
              "      <th>1</th>\n",
              "      <td>2021</td>\n",
              "      <td>02</td>\n",
              "      <td>15144250</td>\n",
              "    </tr>\n",
              "    <tr>\n",
              "      <th>2</th>\n",
              "      <td>2021</td>\n",
              "      <td>03</td>\n",
              "      <td>8363750</td>\n",
              "    </tr>\n",
              "    <tr>\n",
              "      <th>3</th>\n",
              "      <td>2021</td>\n",
              "      <td>04</td>\n",
              "      <td>4657750</td>\n",
              "    </tr>\n",
              "    <tr>\n",
              "      <th>4</th>\n",
              "      <td>2021</td>\n",
              "      <td>05</td>\n",
              "      <td>10396000</td>\n",
              "    </tr>\n",
              "  </tbody>\n",
              "</table>\n",
              "</div>\n",
              "      <button class=\"colab-df-convert\" onclick=\"convertToInteractive('df-4445719d-041b-4baa-a6e6-10d2b41211c7')\"\n",
              "              title=\"Convert this dataframe to an interactive table.\"\n",
              "              style=\"display:none;\">\n",
              "        \n",
              "  <svg xmlns=\"http://www.w3.org/2000/svg\" height=\"24px\"viewBox=\"0 0 24 24\"\n",
              "       width=\"24px\">\n",
              "    <path d=\"M0 0h24v24H0V0z\" fill=\"none\"/>\n",
              "    <path d=\"M18.56 5.44l.94 2.06.94-2.06 2.06-.94-2.06-.94-.94-2.06-.94 2.06-2.06.94zm-11 1L8.5 8.5l.94-2.06 2.06-.94-2.06-.94L8.5 2.5l-.94 2.06-2.06.94zm10 10l.94 2.06.94-2.06 2.06-.94-2.06-.94-.94-2.06-.94 2.06-2.06.94z\"/><path d=\"M17.41 7.96l-1.37-1.37c-.4-.4-.92-.59-1.43-.59-.52 0-1.04.2-1.43.59L10.3 9.45l-7.72 7.72c-.78.78-.78 2.05 0 2.83L4 21.41c.39.39.9.59 1.41.59.51 0 1.02-.2 1.41-.59l7.78-7.78 2.81-2.81c.8-.78.8-2.07 0-2.86zM5.41 20L4 18.59l7.72-7.72 1.47 1.35L5.41 20z\"/>\n",
              "  </svg>\n",
              "      </button>\n",
              "      \n",
              "  <style>\n",
              "    .colab-df-container {\n",
              "      display:flex;\n",
              "      flex-wrap:wrap;\n",
              "      gap: 12px;\n",
              "    }\n",
              "\n",
              "    .colab-df-convert {\n",
              "      background-color: #E8F0FE;\n",
              "      border: none;\n",
              "      border-radius: 50%;\n",
              "      cursor: pointer;\n",
              "      display: none;\n",
              "      fill: #1967D2;\n",
              "      height: 32px;\n",
              "      padding: 0 0 0 0;\n",
              "      width: 32px;\n",
              "    }\n",
              "\n",
              "    .colab-df-convert:hover {\n",
              "      background-color: #E2EBFA;\n",
              "      box-shadow: 0px 1px 2px rgba(60, 64, 67, 0.3), 0px 1px 3px 1px rgba(60, 64, 67, 0.15);\n",
              "      fill: #174EA6;\n",
              "    }\n",
              "\n",
              "    [theme=dark] .colab-df-convert {\n",
              "      background-color: #3B4455;\n",
              "      fill: #D2E3FC;\n",
              "    }\n",
              "\n",
              "    [theme=dark] .colab-df-convert:hover {\n",
              "      background-color: #434B5C;\n",
              "      box-shadow: 0px 1px 3px 1px rgba(0, 0, 0, 0.15);\n",
              "      filter: drop-shadow(0px 1px 2px rgba(0, 0, 0, 0.3));\n",
              "      fill: #FFFFFF;\n",
              "    }\n",
              "  </style>\n",
              "\n",
              "      <script>\n",
              "        const buttonEl =\n",
              "          document.querySelector('#df-4445719d-041b-4baa-a6e6-10d2b41211c7 button.colab-df-convert');\n",
              "        buttonEl.style.display =\n",
              "          google.colab.kernel.accessAllowed ? 'block' : 'none';\n",
              "\n",
              "        async function convertToInteractive(key) {\n",
              "          const element = document.querySelector('#df-4445719d-041b-4baa-a6e6-10d2b41211c7');\n",
              "          const dataTable =\n",
              "            await google.colab.kernel.invokeFunction('convertToInteractive',\n",
              "                                                     [key], {});\n",
              "          if (!dataTable) return;\n",
              "\n",
              "          const docLinkHtml = 'Like what you see? Visit the ' +\n",
              "            '<a target=\"_blank\" href=https://colab.research.google.com/notebooks/data_table.ipynb>data table notebook</a>'\n",
              "            + ' to learn more about interactive tables.';\n",
              "          element.innerHTML = '';\n",
              "          dataTable['output_type'] = 'display_data';\n",
              "          await google.colab.output.renderOutput(dataTable, element);\n",
              "          const docLink = document.createElement('div');\n",
              "          docLink.innerHTML = docLinkHtml;\n",
              "          element.appendChild(docLink);\n",
              "        }\n",
              "      </script>\n",
              "    </div>\n",
              "  </div>\n",
              "  "
            ]
          },
          "metadata": {},
          "execution_count": 24
        }
      ],
      "source": [
        "#Aggregating the revenue by Year and Month\n",
        "\n",
        "df_rev = df_all.groupby([\"Year\", \"Month\"]).revenue.sum()\n",
        "df_rev = pd.DataFrame(df_rev)\n",
        "df_rev = df_rev.reset_index()\n",
        "df_rev.head()"
      ]
    },
    {
      "cell_type": "code",
      "execution_count": null,
      "metadata": {
        "id": "D-yLDDgOUC6q"
      },
      "outputs": [],
      "source": [
        "df_rev['Month'][df_rev['Month']=='01'] ='Jan'\n",
        "df_rev['Month'][df_rev['Month']=='02'] ='Feb'\n",
        "df_rev['Month'][df_rev['Month']=='03'] ='Mar'\n",
        "df_rev['Month'][df_rev['Month']=='04'] ='Apr'\n",
        "df_rev['Month'][df_rev['Month']=='05'] ='May'\n",
        "df_rev['Month'][df_rev['Month']=='06'] ='Jun'\n",
        "df_rev['Month'][df_rev['Month']=='07'] ='Jul'\n",
        "df_rev['Month'][df_rev['Month']=='08'] ='Aug'\n",
        "df_rev['Month'][df_rev['Month']=='09'] ='Sep'\n",
        "df_rev['Month'][df_rev['Month']=='10'] ='Oct'\n",
        "df_rev['Month'][df_rev['Month']=='11'] ='Nov'\n",
        "df_rev['Month'][df_rev['Month']=='12'] ='Dec'"
      ]
    },
    {
      "cell_type": "code",
      "execution_count": null,
      "metadata": {
        "id": "vaup9iThNLB9",
        "colab": {
          "base_uri": "https://localhost:8080/",
          "height": 457
        },
        "outputId": "2d59e872-28e4-43cb-9c57-1625ee5c9ce9"
      },
      "outputs": [
        {
          "output_type": "execute_result",
          "data": {
            "text/plain": [
              "    Year Month   revenue  percent yearmonth\n",
              "0   2021   Jan   7437750     6.90  2021 Jan\n",
              "1   2021   Feb  15144250    14.05  2021 Feb\n",
              "2   2021   Mar   8363750     7.76  2021 Mar\n",
              "3   2021   Apr   4657750     4.32  2021 Apr\n",
              "4   2021   May  10396000     9.64  2021 May\n",
              "5   2021   Jul   6755750     6.27  2021 Jul\n",
              "6   2021   Aug   8026000     7.44  2021 Aug\n",
              "7   2021   Sep   2324000     2.16  2021 Sep\n",
              "8   2021   Oct   8278000     7.68  2021 Oct\n",
              "9   2021   Nov   7982000     7.40  2021 Nov\n",
              "10  2021   Dec   9868600     9.15  2021 Dec\n",
              "11  2022   Jan   7190950     6.67  2022 Jan\n",
              "12  2022   Feb  11392075    10.57  2022 Feb"
            ],
            "text/html": [
              "\n",
              "  <div id=\"df-b9c34783-77a0-4e0e-9bf0-ea1b52a19dc2\">\n",
              "    <div class=\"colab-df-container\">\n",
              "      <div>\n",
              "<style scoped>\n",
              "    .dataframe tbody tr th:only-of-type {\n",
              "        vertical-align: middle;\n",
              "    }\n",
              "\n",
              "    .dataframe tbody tr th {\n",
              "        vertical-align: top;\n",
              "    }\n",
              "\n",
              "    .dataframe thead th {\n",
              "        text-align: right;\n",
              "    }\n",
              "</style>\n",
              "<table border=\"1\" class=\"dataframe\">\n",
              "  <thead>\n",
              "    <tr style=\"text-align: right;\">\n",
              "      <th></th>\n",
              "      <th>Year</th>\n",
              "      <th>Month</th>\n",
              "      <th>revenue</th>\n",
              "      <th>percent</th>\n",
              "      <th>yearmonth</th>\n",
              "    </tr>\n",
              "  </thead>\n",
              "  <tbody>\n",
              "    <tr>\n",
              "      <th>0</th>\n",
              "      <td>2021</td>\n",
              "      <td>Jan</td>\n",
              "      <td>7437750</td>\n",
              "      <td>6.90</td>\n",
              "      <td>2021 Jan</td>\n",
              "    </tr>\n",
              "    <tr>\n",
              "      <th>1</th>\n",
              "      <td>2021</td>\n",
              "      <td>Feb</td>\n",
              "      <td>15144250</td>\n",
              "      <td>14.05</td>\n",
              "      <td>2021 Feb</td>\n",
              "    </tr>\n",
              "    <tr>\n",
              "      <th>2</th>\n",
              "      <td>2021</td>\n",
              "      <td>Mar</td>\n",
              "      <td>8363750</td>\n",
              "      <td>7.76</td>\n",
              "      <td>2021 Mar</td>\n",
              "    </tr>\n",
              "    <tr>\n",
              "      <th>3</th>\n",
              "      <td>2021</td>\n",
              "      <td>Apr</td>\n",
              "      <td>4657750</td>\n",
              "      <td>4.32</td>\n",
              "      <td>2021 Apr</td>\n",
              "    </tr>\n",
              "    <tr>\n",
              "      <th>4</th>\n",
              "      <td>2021</td>\n",
              "      <td>May</td>\n",
              "      <td>10396000</td>\n",
              "      <td>9.64</td>\n",
              "      <td>2021 May</td>\n",
              "    </tr>\n",
              "    <tr>\n",
              "      <th>5</th>\n",
              "      <td>2021</td>\n",
              "      <td>Jul</td>\n",
              "      <td>6755750</td>\n",
              "      <td>6.27</td>\n",
              "      <td>2021 Jul</td>\n",
              "    </tr>\n",
              "    <tr>\n",
              "      <th>6</th>\n",
              "      <td>2021</td>\n",
              "      <td>Aug</td>\n",
              "      <td>8026000</td>\n",
              "      <td>7.44</td>\n",
              "      <td>2021 Aug</td>\n",
              "    </tr>\n",
              "    <tr>\n",
              "      <th>7</th>\n",
              "      <td>2021</td>\n",
              "      <td>Sep</td>\n",
              "      <td>2324000</td>\n",
              "      <td>2.16</td>\n",
              "      <td>2021 Sep</td>\n",
              "    </tr>\n",
              "    <tr>\n",
              "      <th>8</th>\n",
              "      <td>2021</td>\n",
              "      <td>Oct</td>\n",
              "      <td>8278000</td>\n",
              "      <td>7.68</td>\n",
              "      <td>2021 Oct</td>\n",
              "    </tr>\n",
              "    <tr>\n",
              "      <th>9</th>\n",
              "      <td>2021</td>\n",
              "      <td>Nov</td>\n",
              "      <td>7982000</td>\n",
              "      <td>7.40</td>\n",
              "      <td>2021 Nov</td>\n",
              "    </tr>\n",
              "    <tr>\n",
              "      <th>10</th>\n",
              "      <td>2021</td>\n",
              "      <td>Dec</td>\n",
              "      <td>9868600</td>\n",
              "      <td>9.15</td>\n",
              "      <td>2021 Dec</td>\n",
              "    </tr>\n",
              "    <tr>\n",
              "      <th>11</th>\n",
              "      <td>2022</td>\n",
              "      <td>Jan</td>\n",
              "      <td>7190950</td>\n",
              "      <td>6.67</td>\n",
              "      <td>2022 Jan</td>\n",
              "    </tr>\n",
              "    <tr>\n",
              "      <th>12</th>\n",
              "      <td>2022</td>\n",
              "      <td>Feb</td>\n",
              "      <td>11392075</td>\n",
              "      <td>10.57</td>\n",
              "      <td>2022 Feb</td>\n",
              "    </tr>\n",
              "  </tbody>\n",
              "</table>\n",
              "</div>\n",
              "      <button class=\"colab-df-convert\" onclick=\"convertToInteractive('df-b9c34783-77a0-4e0e-9bf0-ea1b52a19dc2')\"\n",
              "              title=\"Convert this dataframe to an interactive table.\"\n",
              "              style=\"display:none;\">\n",
              "        \n",
              "  <svg xmlns=\"http://www.w3.org/2000/svg\" height=\"24px\"viewBox=\"0 0 24 24\"\n",
              "       width=\"24px\">\n",
              "    <path d=\"M0 0h24v24H0V0z\" fill=\"none\"/>\n",
              "    <path d=\"M18.56 5.44l.94 2.06.94-2.06 2.06-.94-2.06-.94-.94-2.06-.94 2.06-2.06.94zm-11 1L8.5 8.5l.94-2.06 2.06-.94-2.06-.94L8.5 2.5l-.94 2.06-2.06.94zm10 10l.94 2.06.94-2.06 2.06-.94-2.06-.94-.94-2.06-.94 2.06-2.06.94z\"/><path d=\"M17.41 7.96l-1.37-1.37c-.4-.4-.92-.59-1.43-.59-.52 0-1.04.2-1.43.59L10.3 9.45l-7.72 7.72c-.78.78-.78 2.05 0 2.83L4 21.41c.39.39.9.59 1.41.59.51 0 1.02-.2 1.41-.59l7.78-7.78 2.81-2.81c.8-.78.8-2.07 0-2.86zM5.41 20L4 18.59l7.72-7.72 1.47 1.35L5.41 20z\"/>\n",
              "  </svg>\n",
              "      </button>\n",
              "      \n",
              "  <style>\n",
              "    .colab-df-container {\n",
              "      display:flex;\n",
              "      flex-wrap:wrap;\n",
              "      gap: 12px;\n",
              "    }\n",
              "\n",
              "    .colab-df-convert {\n",
              "      background-color: #E8F0FE;\n",
              "      border: none;\n",
              "      border-radius: 50%;\n",
              "      cursor: pointer;\n",
              "      display: none;\n",
              "      fill: #1967D2;\n",
              "      height: 32px;\n",
              "      padding: 0 0 0 0;\n",
              "      width: 32px;\n",
              "    }\n",
              "\n",
              "    .colab-df-convert:hover {\n",
              "      background-color: #E2EBFA;\n",
              "      box-shadow: 0px 1px 2px rgba(60, 64, 67, 0.3), 0px 1px 3px 1px rgba(60, 64, 67, 0.15);\n",
              "      fill: #174EA6;\n",
              "    }\n",
              "\n",
              "    [theme=dark] .colab-df-convert {\n",
              "      background-color: #3B4455;\n",
              "      fill: #D2E3FC;\n",
              "    }\n",
              "\n",
              "    [theme=dark] .colab-df-convert:hover {\n",
              "      background-color: #434B5C;\n",
              "      box-shadow: 0px 1px 3px 1px rgba(0, 0, 0, 0.15);\n",
              "      filter: drop-shadow(0px 1px 2px rgba(0, 0, 0, 0.3));\n",
              "      fill: #FFFFFF;\n",
              "    }\n",
              "  </style>\n",
              "\n",
              "      <script>\n",
              "        const buttonEl =\n",
              "          document.querySelector('#df-b9c34783-77a0-4e0e-9bf0-ea1b52a19dc2 button.colab-df-convert');\n",
              "        buttonEl.style.display =\n",
              "          google.colab.kernel.accessAllowed ? 'block' : 'none';\n",
              "\n",
              "        async function convertToInteractive(key) {\n",
              "          const element = document.querySelector('#df-b9c34783-77a0-4e0e-9bf0-ea1b52a19dc2');\n",
              "          const dataTable =\n",
              "            await google.colab.kernel.invokeFunction('convertToInteractive',\n",
              "                                                     [key], {});\n",
              "          if (!dataTable) return;\n",
              "\n",
              "          const docLinkHtml = 'Like what you see? Visit the ' +\n",
              "            '<a target=\"_blank\" href=https://colab.research.google.com/notebooks/data_table.ipynb>data table notebook</a>'\n",
              "            + ' to learn more about interactive tables.';\n",
              "          element.innerHTML = '';\n",
              "          dataTable['output_type'] = 'display_data';\n",
              "          await google.colab.output.renderOutput(dataTable, element);\n",
              "          const docLink = document.createElement('div');\n",
              "          docLink.innerHTML = docLinkHtml;\n",
              "          element.appendChild(docLink);\n",
              "        }\n",
              "      </script>\n",
              "    </div>\n",
              "  </div>\n",
              "  "
            ]
          },
          "metadata": {},
          "execution_count": 26
        }
      ],
      "source": [
        "df_rev['percent'] = round((df_rev['revenue']*100)/sum(df_rev['revenue']),2)\n",
        "df_rev['yearmonth'] = df_rev['Year']+' '+df_rev['Month']\n",
        "df_rev"
      ]
    },
    {
      "cell_type": "code",
      "execution_count": null,
      "metadata": {
        "id": "gToe19MhUGih",
        "colab": {
          "base_uri": "https://localhost:8080/",
          "height": 480
        },
        "outputId": "ca162b2c-97f9-4b96-836d-a8ae4e83f6f4"
      },
      "outputs": [
        {
          "output_type": "display_data",
          "data": {
            "text/plain": [
              "<Figure size 1600x500 with 1 Axes>"
            ],
            "image/png": "[encoded data removed]"
          },
          "metadata": {
            "needs_background": "light"
          }
        }
      ],
      "source": [
        "plot_df(df_rev, x=df_rev.yearmonth, y=df_rev.revenue/1000, title='Revenue in 2021-2022', ylabel='Revenue (K)')"
      ]
    },
    {
      "cell_type": "code",
      "source": [
        "df_rev.describe()/1000"
      ],
      "metadata": {
        "colab": {
          "base_uri": "https://localhost:8080/",
          "height": 300
        },
        "id": "F-trHya_jPNc",
        "outputId": "5c399dfb-c7b0-490f-decc-3ca86cee7c21"
      },
      "execution_count": null,
      "outputs": [
        {
          "output_type": "execute_result",
          "data": {
            "text/plain": [
              "            revenue   percent\n",
              "count      0.013000  0.013000\n",
              "mean    8293.605769  0.007693\n",
              "std     3119.499966  0.002893\n",
              "min     2324.000000  0.002160\n",
              "25%     7190.950000  0.006670\n",
              "50%     8026.000000  0.007440\n",
              "75%     9868.600000  0.009150\n",
              "max    15144.250000  0.014050"
            ],
            "text/html": [
              "\n",
              "  <div id=\"df-7805274a-c065-4d7a-a200-5828bb51a74e\">\n",
              "    <div class=\"colab-df-container\">\n",
              "      <div>\n",
              "<style scoped>\n",
              "    .dataframe tbody tr th:only-of-type {\n",
              "        vertical-align: middle;\n",
              "    }\n",
              "\n",
              "    .dataframe tbody tr th {\n",
              "        vertical-align: top;\n",
              "    }\n",
              "\n",
              "    .dataframe thead th {\n",
              "        text-align: right;\n",
              "    }\n",
              "</style>\n",
              "<table border=\"1\" class=\"dataframe\">\n",
              "  <thead>\n",
              "    <tr style=\"text-align: right;\">\n",
              "      <th></th>\n",
              "      <th>revenue</th>\n",
              "      <th>percent</th>\n",
              "    </tr>\n",
              "  </thead>\n",
              "  <tbody>\n",
              "    <tr>\n",
              "      <th>count</th>\n",
              "      <td>0.013000</td>\n",
              "      <td>0.013000</td>\n",
              "    </tr>\n",
              "    <tr>\n",
              "      <th>mean</th>\n",
              "      <td>8293.605769</td>\n",
              "      <td>0.007693</td>\n",
              "    </tr>\n",
              "    <tr>\n",
              "      <th>std</th>\n",
              "      <td>3119.499966</td>\n",
              "      <td>0.002893</td>\n",
              "    </tr>\n",
              "    <tr>\n",
              "      <th>min</th>\n",
              "      <td>2324.000000</td>\n",
              "      <td>0.002160</td>\n",
              "    </tr>\n",
              "    <tr>\n",
              "      <th>25%</th>\n",
              "      <td>7190.950000</td>\n",
              "      <td>0.006670</td>\n",
              "    </tr>\n",
              "    <tr>\n",
              "      <th>50%</th>\n",
              "      <td>8026.000000</td>\n",
              "      <td>0.007440</td>\n",
              "    </tr>\n",
              "    <tr>\n",
              "      <th>75%</th>\n",
              "      <td>9868.600000</td>\n",
              "      <td>0.009150</td>\n",
              "    </tr>\n",
              "    <tr>\n",
              "      <th>max</th>\n",
              "      <td>15144.250000</td>\n",
              "      <td>0.014050</td>\n",
              "    </tr>\n",
              "  </tbody>\n",
              "</table>\n",
              "</div>\n",
              "      <button class=\"colab-df-convert\" onclick=\"convertToInteractive('df-7805274a-c065-4d7a-a200-5828bb51a74e')\"\n",
              "              title=\"Convert this dataframe to an interactive table.\"\n",
              "              style=\"display:none;\">\n",
              "        \n",
              "  <svg xmlns=\"http://www.w3.org/2000/svg\" height=\"24px\"viewBox=\"0 0 24 24\"\n",
              "       width=\"24px\">\n",
              "    <path d=\"M0 0h24v24H0V0z\" fill=\"none\"/>\n",
              "    <path d=\"M18.56 5.44l.94 2.06.94-2.06 2.06-.94-2.06-.94-.94-2.06-.94 2.06-2.06.94zm-11 1L8.5 8.5l.94-2.06 2.06-.94-2.06-.94L8.5 2.5l-.94 2.06-2.06.94zm10 10l.94 2.06.94-2.06 2.06-.94-2.06-.94-.94-2.06-.94 2.06-2.06.94z\"/><path d=\"M17.41 7.96l-1.37-1.37c-.4-.4-.92-.59-1.43-.59-.52 0-1.04.2-1.43.59L10.3 9.45l-7.72 7.72c-.78.78-.78 2.05 0 2.83L4 21.41c.39.39.9.59 1.41.59.51 0 1.02-.2 1.41-.59l7.78-7.78 2.81-2.81c.8-.78.8-2.07 0-2.86zM5.41 20L4 18.59l7.72-7.72 1.47 1.35L5.41 20z\"/>\n",
              "  </svg>\n",
              "      </button>\n",
              "      \n",
              "  <style>\n",
              "    .colab-df-container {\n",
              "      display:flex;\n",
              "      flex-wrap:wrap;\n",
              "      gap: 12px;\n",
              "    }\n",
              "\n",
              "    .colab-df-convert {\n",
              "      background-color: #E8F0FE;\n",
              "      border: none;\n",
              "      border-radius: 50%;\n",
              "      cursor: pointer;\n",
              "      display: none;\n",
              "      fill: #1967D2;\n",
              "      height: 32px;\n",
              "      padding: 0 0 0 0;\n",
              "      width: 32px;\n",
              "    }\n",
              "\n",
              "    .colab-df-convert:hover {\n",
              "      background-color: #E2EBFA;\n",
              "      box-shadow: 0px 1px 2px rgba(60, 64, 67, 0.3), 0px 1px 3px 1px rgba(60, 64, 67, 0.15);\n",
              "      fill: #174EA6;\n",
              "    }\n",
              "\n",
              "    [theme=dark] .colab-df-convert {\n",
              "      background-color: #3B4455;\n",
              "      fill: #D2E3FC;\n",
              "    }\n",
              "\n",
              "    [theme=dark] .colab-df-convert:hover {\n",
              "      background-color: #434B5C;\n",
              "      box-shadow: 0px 1px 3px 1px rgba(0, 0, 0, 0.15);\n",
              "      filter: drop-shadow(0px 1px 2px rgba(0, 0, 0, 0.3));\n",
              "      fill: #FFFFFF;\n",
              "    }\n",
              "  </style>\n",
              "\n",
              "      <script>\n",
              "        const buttonEl =\n",
              "          document.querySelector('#df-7805274a-c065-4d7a-a200-5828bb51a74e button.colab-df-convert');\n",
              "        buttonEl.style.display =\n",
              "          google.colab.kernel.accessAllowed ? 'block' : 'none';\n",
              "\n",
              "        async function convertToInteractive(key) {\n",
              "          const element = document.querySelector('#df-7805274a-c065-4d7a-a200-5828bb51a74e');\n",
              "          const dataTable =\n",
              "            await google.colab.kernel.invokeFunction('convertToInteractive',\n",
              "                                                     [key], {});\n",
              "          if (!dataTable) return;\n",
              "\n",
              "          const docLinkHtml = 'Like what you see? Visit the ' +\n",
              "            '<a target=\"_blank\" href=https://colab.research.google.com/notebooks/data_table.ipynb>data table notebook</a>'\n",
              "            + ' to learn more about interactive tables.';\n",
              "          element.innerHTML = '';\n",
              "          dataTable['output_type'] = 'display_data';\n",
              "          await google.colab.output.renderOutput(dataTable, element);\n",
              "          const docLink = document.createElement('div');\n",
              "          docLink.innerHTML = docLinkHtml;\n",
              "          element.appendChild(docLink);\n",
              "        }\n",
              "      </script>\n",
              "    </div>\n",
              "  </div>\n",
              "  "
            ]
          },
          "metadata": {},
          "execution_count": 28
        }
      ]
    },
    {
      "cell_type": "markdown",
      "metadata": {
        "id": "FUezH6pErEyq"
      },
      "source": [
        "From the graph above, we can see that the highest revenue is in February in 2021, where the amount of revenue earned is Rp. 15.144.250 with a percentage of 14.05%. the avarage revenue was Rp. 8.293.606 with precentage 7.69%, and the lowest was Rp. 2.324.000 with precentage 2.16% on september\n",
        "\n",
        "because in February there is Valentine's Day so there is an increase in purchases which can result in an increase in revenue escpecially in february\n",
        "\n",
        "The month with the smallest revenue was September, because Nichoa could not explain it in detail, but the information we got was that at that time Nichoa also had a vacancy; this might be one of the reasons for the decrease in revenue this month.\n",
        "\n",
        "we can see also that revenue fluctuates every month from early 2021 to early 2022. Nicoa must be able to balance the value of the company's revenue and income.\n",
        "\n",
        "The simple way is to control the company's cash flow. In addition, the company must also be able to record all the company's income and expenses in detail. In addition, marketing activities must also be carried out optimally so as not to exceed the budget provided.\n",
        "\n",
        "Even though there are times when the company's sales target is not achieved and it is not uncommon to get a small profit, if the capital can be covered, then the company must be wise to find effective ways to increase its sales.\n",
        "\n",
        "The last thing that must be considered is that the value of revenue will be meaningless if the company is not able to maximize its work process. For that, make sure the amount of company revenue is in accordance with the profit value, and make sure the company's activities can run as efficiently as possible."
      ]
    },
    {
      "cell_type": "code",
      "source": [
        "#Show comparison revenue in 2021-2022\n",
        "df_rev_year = df_rev.groupby('Year').revenue.sum()\n",
        "df_rev_year = pd.DataFrame(df_rev_year)\n",
        "df_rev_year = df_rev_year.reset_index()\n",
        "df_rev_year"
      ],
      "metadata": {
        "colab": {
          "base_uri": "https://localhost:8080/",
          "height": 112
        },
        "id": "rJfpyqnVMsym",
        "outputId": "1748cf96-8849-4e9b-9bee-325a23c4e425"
      },
      "execution_count": null,
      "outputs": [
        {
          "output_type": "execute_result",
          "data": {
            "text/plain": [
              "   Year   revenue\n",
              "0  2021  89233850\n",
              "1  2022  18583025"
            ],
            "text/html": [
              "\n",
              "  <div id=\"df-8db73278-0686-4a22-9088-e537c2f327c1\">\n",
              "    <div class=\"colab-df-container\">\n",
              "      <div>\n",
              "<style scoped>\n",
              "    .dataframe tbody tr th:only-of-type {\n",
              "        vertical-align: middle;\n",
              "    }\n",
              "\n",
              "    .dataframe tbody tr th {\n",
              "        vertical-align: top;\n",
              "    }\n",
              "\n",
              "    .dataframe thead th {\n",
              "        text-align: right;\n",
              "    }\n",
              "</style>\n",
              "<table border=\"1\" class=\"dataframe\">\n",
              "  <thead>\n",
              "    <tr style=\"text-align: right;\">\n",
              "      <th></th>\n",
              "      <th>Year</th>\n",
              "      <th>revenue</th>\n",
              "    </tr>\n",
              "  </thead>\n",
              "  <tbody>\n",
              "    <tr>\n",
              "      <th>0</th>\n",
              "      <td>2021</td>\n",
              "      <td>89233850</td>\n",
              "    </tr>\n",
              "    <tr>\n",
              "      <th>1</th>\n",
              "      <td>2022</td>\n",
              "      <td>18583025</td>\n",
              "    </tr>\n",
              "  </tbody>\n",
              "</table>\n",
              "</div>\n",
              "      <button class=\"colab-df-convert\" onclick=\"convertToInteractive('df-8db73278-0686-4a22-9088-e537c2f327c1')\"\n",
              "              title=\"Convert this dataframe to an interactive table.\"\n",
              "              style=\"display:none;\">\n",
              "        \n",
              "  <svg xmlns=\"http://www.w3.org/2000/svg\" height=\"24px\"viewBox=\"0 0 24 24\"\n",
              "       width=\"24px\">\n",
              "    <path d=\"M0 0h24v24H0V0z\" fill=\"none\"/>\n",
              "    <path d=\"M18.56 5.44l.94 2.06.94-2.06 2.06-.94-2.06-.94-.94-2.06-.94 2.06-2.06.94zm-11 1L8.5 8.5l.94-2.06 2.06-.94-2.06-.94L8.5 2.5l-.94 2.06-2.06.94zm10 10l.94 2.06.94-2.06 2.06-.94-2.06-.94-.94-2.06-.94 2.06-2.06.94z\"/><path d=\"M17.41 7.96l-1.37-1.37c-.4-.4-.92-.59-1.43-.59-.52 0-1.04.2-1.43.59L10.3 9.45l-7.72 7.72c-.78.78-.78 2.05 0 2.83L4 21.41c.39.39.9.59 1.41.59.51 0 1.02-.2 1.41-.59l7.78-7.78 2.81-2.81c.8-.78.8-2.07 0-2.86zM5.41 20L4 18.59l7.72-7.72 1.47 1.35L5.41 20z\"/>\n",
              "  </svg>\n",
              "      </button>\n",
              "      \n",
              "  <style>\n",
              "    .colab-df-container {\n",
              "      display:flex;\n",
              "      flex-wrap:wrap;\n",
              "      gap: 12px;\n",
              "    }\n",
              "\n",
              "    .colab-df-convert {\n",
              "      background-color: #E8F0FE;\n",
              "      border: none;\n",
              "      border-radius: 50%;\n",
              "      cursor: pointer;\n",
              "      display: none;\n",
              "      fill: #1967D2;\n",
              "      height: 32px;\n",
              "      padding: 0 0 0 0;\n",
              "      width: 32px;\n",
              "    }\n",
              "\n",
              "    .colab-df-convert:hover {\n",
              "      background-color: #E2EBFA;\n",
              "      box-shadow: 0px 1px 2px rgba(60, 64, 67, 0.3), 0px 1px 3px 1px rgba(60, 64, 67, 0.15);\n",
              "      fill: #174EA6;\n",
              "    }\n",
              "\n",
              "    [theme=dark] .colab-df-convert {\n",
              "      background-color: #3B4455;\n",
              "      fill: #D2E3FC;\n",
              "    }\n",
              "\n",
              "    [theme=dark] .colab-df-convert:hover {\n",
              "      background-color: #434B5C;\n",
              "      box-shadow: 0px 1px 3px 1px rgba(0, 0, 0, 0.15);\n",
              "      filter: drop-shadow(0px 1px 2px rgba(0, 0, 0, 0.3));\n",
              "      fill: #FFFFFF;\n",
              "    }\n",
              "  </style>\n",
              "\n",
              "      <script>\n",
              "        const buttonEl =\n",
              "          document.querySelector('#df-8db73278-0686-4a22-9088-e537c2f327c1 button.colab-df-convert');\n",
              "        buttonEl.style.display =\n",
              "          google.colab.kernel.accessAllowed ? 'block' : 'none';\n",
              "\n",
              "        async function convertToInteractive(key) {\n",
              "          const element = document.querySelector('#df-8db73278-0686-4a22-9088-e537c2f327c1');\n",
              "          const dataTable =\n",
              "            await google.colab.kernel.invokeFunction('convertToInteractive',\n",
              "                                                     [key], {});\n",
              "          if (!dataTable) return;\n",
              "\n",
              "          const docLinkHtml = 'Like what you see? Visit the ' +\n",
              "            '<a target=\"_blank\" href=https://colab.research.google.com/notebooks/data_table.ipynb>data table notebook</a>'\n",
              "            + ' to learn more about interactive tables.';\n",
              "          element.innerHTML = '';\n",
              "          dataTable['output_type'] = 'display_data';\n",
              "          await google.colab.output.renderOutput(dataTable, element);\n",
              "          const docLink = document.createElement('div');\n",
              "          docLink.innerHTML = docLinkHtml;\n",
              "          element.appendChild(docLink);\n",
              "        }\n",
              "      </script>\n",
              "    </div>\n",
              "  </div>\n",
              "  "
            ]
          },
          "metadata": {},
          "execution_count": 29
        }
      ]
    },
    {
      "cell_type": "code",
      "source": [
        "revenue2022 = round(df_rev_year['revenue'].iloc[1]*100/df_rev_year['revenue'].iloc[0],2)\n",
        "print('Jumlah revenue pada tahun 2022 berada pada',revenue2022,'% dari jumlah revenue pada tahun 2021')"
      ],
      "metadata": {
        "colab": {
          "base_uri": "https://localhost:8080/"
        },
        "id": "MtSAW3z_Qmhv",
        "outputId": "8ef65e36-2868-4533-efb1-3eadcbbf7d48"
      },
      "execution_count": null,
      "outputs": [
        {
          "output_type": "stream",
          "name": "stdout",
          "text": [
            "Jumlah revenue pada tahun 2022 berada pada 20.83 % dari jumlah revenue pada tahun 2021\n"
          ]
        }
      ]
    },
    {
      "cell_type": "code",
      "source": [
        "plt.figure(figsize=(10,6))\n",
        "plt.bar(df_rev_year['Year'],df_rev_year['revenue']/1000)\n",
        "plt.title('Revenue in 2021-2022')\n",
        "plt.xlabel('Year')\n",
        "plt.ylabel('Revenue (K)')"
      ],
      "metadata": {
        "colab": {
          "base_uri": "https://localhost:8080/",
          "height": 421
        },
        "id": "_AzzOaC2NE2s",
        "outputId": "767c78d3-cbb3-4c02-eca0-9a13f6c06a37"
      },
      "execution_count": null,
      "outputs": [
        {
          "output_type": "execute_result",
          "data": {
            "text/plain": [
              "Text(0, 0.5, 'Revenue (K)')"
            ]
          },
          "metadata": {},
          "execution_count": 31
        },
        {
          "output_type": "display_data",
          "data": {
            "text/plain": [
              "<Figure size 720x432 with 1 Axes>"
            ],
            "image/png": "[encoded data removed]"
          },
          "metadata": {
            "needs_background": "light"
          }
        }
      ]
    },
    {
      "cell_type": "markdown",
      "source": [
        "In the two plots above, there is a very significant difference that occurs because the data provided is not complete enough. The data in 2021 has all the complete data from January to December, while in 2022 the data is only for two months, January and February. This is what causes the two plots above to become unbalanced.\n",
        "\n",
        "(Lack of this data can affect the results of our analysis, especially on sales data for 2022.)"
      ],
      "metadata": {
        "id": "VBxheBEHyf-4"
      }
    },
    {
      "cell_type": "code",
      "source": [
        "#Aggregating the total profit by Year and Month\n",
        "df_profit = df_all.groupby([\"Year\", \"Month\"]).profit.sum()\n",
        "df_profit = pd.DataFrame(df_profit)\n",
        "df_profit = df_profit.reset_index()"
      ],
      "metadata": {
        "id": "6tWfvgQVn5FY"
      },
      "execution_count": null,
      "outputs": []
    },
    {
      "cell_type": "code",
      "source": [
        "df_profit['Month'][df_profit['Month']=='01'] ='Jan'\n",
        "df_profit['Month'][df_profit['Month']=='02'] ='Feb'\n",
        "df_profit['Month'][df_profit['Month']=='03'] ='Mar'\n",
        "df_profit['Month'][df_profit['Month']=='04'] ='Apr'\n",
        "df_profit['Month'][df_profit['Month']=='05'] ='May'\n",
        "df_profit['Month'][df_profit['Month']=='06'] ='Jun'\n",
        "df_profit['Month'][df_profit['Month']=='07'] ='Jul'\n",
        "df_profit['Month'][df_profit['Month']=='08'] ='Aug'\n",
        "df_profit['Month'][df_profit['Month']=='09'] ='Sep'\n",
        "df_profit['Month'][df_profit['Month']=='10'] ='Oct'\n",
        "df_profit['Month'][df_profit['Month']=='11'] ='Nov'\n",
        "df_profit['Month'][df_profit['Month']=='12'] ='Dec'"
      ],
      "metadata": {
        "id": "hzxI89aMoSQ4"
      },
      "execution_count": null,
      "outputs": []
    },
    {
      "cell_type": "code",
      "source": [
        "df_profit['percent'] = round((df_profit['profit']*100)/sum(df_profit['profit']),2)\n",
        "df_profit['yearmonth'] = df_profit['Year']+' '+df_profit['Month']\n",
        "df_profit"
      ],
      "metadata": {
        "colab": {
          "base_uri": "https://localhost:8080/",
          "height": 457
        },
        "id": "fluJ6KZ1uORH",
        "outputId": "9359a7e1-aff9-4dc5-b44e-b140e8b0fa5b"
      },
      "execution_count": null,
      "outputs": [
        {
          "output_type": "execute_result",
          "data": {
            "text/plain": [
              "    Year Month      profit  percent yearmonth\n",
              "0   2021   Jan  2084961.00     6.83  2021 Jan\n",
              "1   2021   Feb  4778277.00    15.66  2021 Feb\n",
              "2   2021   Mar  2118898.20     6.95  2021 Mar\n",
              "3   2021   Apr  1374968.43     4.51  2021 Apr\n",
              "4   2021   May  3538028.39    11.60  2021 May\n",
              "5   2021   Jul  1898882.53     6.22  2021 Jul\n",
              "6   2021   Aug  2354480.59     7.72  2021 Aug\n",
              "7   2021   Sep   643183.48     2.11  2021 Sep\n",
              "8   2021   Oct  2692525.93     8.83  2021 Oct\n",
              "9   2021   Nov  2640653.63     8.66  2021 Nov\n",
              "10  2021   Dec  2684460.87     8.80  2021 Dec\n",
              "11  2022   Jan  2202351.32     7.22  2022 Jan\n",
              "12  2022   Feb  1497289.64     4.91  2022 Feb"
            ],
            "text/html": [
              "\n",
              "  <div id=\"df-a78dfc6d-6b94-41f0-912d-31e13f78a0d6\">\n",
              "    <div class=\"colab-df-container\">\n",
              "      <div>\n",
              "<style scoped>\n",
              "    .dataframe tbody tr th:only-of-type {\n",
              "        vertical-align: middle;\n",
              "    }\n",
              "\n",
              "    .dataframe tbody tr th {\n",
              "        vertical-align: top;\n",
              "    }\n",
              "\n",
              "    .dataframe thead th {\n",
              "        text-align: right;\n",
              "    }\n",
              "</style>\n",
              "<table border=\"1\" class=\"dataframe\">\n",
              "  <thead>\n",
              "    <tr style=\"text-align: right;\">\n",
              "      <th></th>\n",
              "      <th>Year</th>\n",
              "      <th>Month</th>\n",
              "      <th>profit</th>\n",
              "      <th>percent</th>\n",
              "      <th>yearmonth</th>\n",
              "    </tr>\n",
              "  </thead>\n",
              "  <tbody>\n",
              "    <tr>\n",
              "      <th>0</th>\n",
              "      <td>2021</td>\n",
              "      <td>Jan</td>\n",
              "      <td>2084961.00</td>\n",
              "      <td>6.83</td>\n",
              "      <td>2021 Jan</td>\n",
              "    </tr>\n",
              "    <tr>\n",
              "      <th>1</th>\n",
              "      <td>2021</td>\n",
              "      <td>Feb</td>\n",
              "      <td>4778277.00</td>\n",
              "      <td>15.66</td>\n",
              "      <td>2021 Feb</td>\n",
              "    </tr>\n",
              "    <tr>\n",
              "      <th>2</th>\n",
              "      <td>2021</td>\n",
              "      <td>Mar</td>\n",
              "      <td>2118898.20</td>\n",
              "      <td>6.95</td>\n",
              "      <td>2021 Mar</td>\n",
              "    </tr>\n",
              "    <tr>\n",
              "      <th>3</th>\n",
              "      <td>2021</td>\n",
              "      <td>Apr</td>\n",
              "      <td>1374968.43</td>\n",
              "      <td>4.51</td>\n",
              "      <td>2021 Apr</td>\n",
              "    </tr>\n",
              "    <tr>\n",
              "      <th>4</th>\n",
              "      <td>2021</td>\n",
              "      <td>May</td>\n",
              "      <td>3538028.39</td>\n",
              "      <td>11.60</td>\n",
              "      <td>2021 May</td>\n",
              "    </tr>\n",
              "    <tr>\n",
              "      <th>5</th>\n",
              "      <td>2021</td>\n",
              "      <td>Jul</td>\n",
              "      <td>1898882.53</td>\n",
              "      <td>6.22</td>\n",
              "      <td>2021 Jul</td>\n",
              "    </tr>\n",
              "    <tr>\n",
              "      <th>6</th>\n",
              "      <td>2021</td>\n",
              "      <td>Aug</td>\n",
              "      <td>2354480.59</td>\n",
              "      <td>7.72</td>\n",
              "      <td>2021 Aug</td>\n",
              "    </tr>\n",
              "    <tr>\n",
              "      <th>7</th>\n",
              "      <td>2021</td>\n",
              "      <td>Sep</td>\n",
              "      <td>643183.48</td>\n",
              "      <td>2.11</td>\n",
              "      <td>2021 Sep</td>\n",
              "    </tr>\n",
              "    <tr>\n",
              "      <th>8</th>\n",
              "      <td>2021</td>\n",
              "      <td>Oct</td>\n",
              "      <td>2692525.93</td>\n",
              "      <td>8.83</td>\n",
              "      <td>2021 Oct</td>\n",
              "    </tr>\n",
              "    <tr>\n",
              "      <th>9</th>\n",
              "      <td>2021</td>\n",
              "      <td>Nov</td>\n",
              "      <td>2640653.63</td>\n",
              "      <td>8.66</td>\n",
              "      <td>2021 Nov</td>\n",
              "    </tr>\n",
              "    <tr>\n",
              "      <th>10</th>\n",
              "      <td>2021</td>\n",
              "      <td>Dec</td>\n",
              "      <td>2684460.87</td>\n",
              "      <td>8.80</td>\n",
              "      <td>2021 Dec</td>\n",
              "    </tr>\n",
              "    <tr>\n",
              "      <th>11</th>\n",
              "      <td>2022</td>\n",
              "      <td>Jan</td>\n",
              "      <td>2202351.32</td>\n",
              "      <td>7.22</td>\n",
              "      <td>2022 Jan</td>\n",
              "    </tr>\n",
              "    <tr>\n",
              "      <th>12</th>\n",
              "      <td>2022</td>\n",
              "      <td>Feb</td>\n",
              "      <td>1497289.64</td>\n",
              "      <td>4.91</td>\n",
              "      <td>2022 Feb</td>\n",
              "    </tr>\n",
              "  </tbody>\n",
              "</table>\n",
              "</div>\n",
              "      <button class=\"colab-df-convert\" onclick=\"convertToInteractive('df-a78dfc6d-6b94-41f0-912d-31e13f78a0d6')\"\n",
              "              title=\"Convert this dataframe to an interactive table.\"\n",
              "              style=\"display:none;\">\n",
              "        \n",
              "  <svg xmlns=\"http://www.w3.org/2000/svg\" height=\"24px\"viewBox=\"0 0 24 24\"\n",
              "       width=\"24px\">\n",
              "    <path d=\"M0 0h24v24H0V0z\" fill=\"none\"/>\n",
              "    <path d=\"M18.56 5.44l.94 2.06.94-2.06 2.06-.94-2.06-.94-.94-2.06-.94 2.06-2.06.94zm-11 1L8.5 8.5l.94-2.06 2.06-.94-2.06-.94L8.5 2.5l-.94 2.06-2.06.94zm10 10l.94 2.06.94-2.06 2.06-.94-2.06-.94-.94-2.06-.94 2.06-2.06.94z\"/><path d=\"M17.41 7.96l-1.37-1.37c-.4-.4-.92-.59-1.43-.59-.52 0-1.04.2-1.43.59L10.3 9.45l-7.72 7.72c-.78.78-.78 2.05 0 2.83L4 21.41c.39.39.9.59 1.41.59.51 0 1.02-.2 1.41-.59l7.78-7.78 2.81-2.81c.8-.78.8-2.07 0-2.86zM5.41 20L4 18.59l7.72-7.72 1.47 1.35L5.41 20z\"/>\n",
              "  </svg>\n",
              "      </button>\n",
              "      \n",
              "  <style>\n",
              "    .colab-df-container {\n",
              "      display:flex;\n",
              "      flex-wrap:wrap;\n",
              "      gap: 12px;\n",
              "    }\n",
              "\n",
              "    .colab-df-convert {\n",
              "      background-color: #E8F0FE;\n",
              "      border: none;\n",
              "      border-radius: 50%;\n",
              "      cursor: pointer;\n",
              "      display: none;\n",
              "      fill: #1967D2;\n",
              "      height: 32px;\n",
              "      padding: 0 0 0 0;\n",
              "      width: 32px;\n",
              "    }\n",
              "\n",
              "    .colab-df-convert:hover {\n",
              "      background-color: #E2EBFA;\n",
              "      box-shadow: 0px 1px 2px rgba(60, 64, 67, 0.3), 0px 1px 3px 1px rgba(60, 64, 67, 0.15);\n",
              "      fill: #174EA6;\n",
              "    }\n",
              "\n",
              "    [theme=dark] .colab-df-convert {\n",
              "      background-color: #3B4455;\n",
              "      fill: #D2E3FC;\n",
              "    }\n",
              "\n",
              "    [theme=dark] .colab-df-convert:hover {\n",
              "      background-color: #434B5C;\n",
              "      box-shadow: 0px 1px 3px 1px rgba(0, 0, 0, 0.15);\n",
              "      filter: drop-shadow(0px 1px 2px rgba(0, 0, 0, 0.3));\n",
              "      fill: #FFFFFF;\n",
              "    }\n",
              "  </style>\n",
              "\n",
              "      <script>\n",
              "        const buttonEl =\n",
              "          document.querySelector('#df-a78dfc6d-6b94-41f0-912d-31e13f78a0d6 button.colab-df-convert');\n",
              "        buttonEl.style.display =\n",
              "          google.colab.kernel.accessAllowed ? 'block' : 'none';\n",
              "\n",
              "        async function convertToInteractive(key) {\n",
              "          const element = document.querySelector('#df-a78dfc6d-6b94-41f0-912d-31e13f78a0d6');\n",
              "          const dataTable =\n",
              "            await google.colab.kernel.invokeFunction('convertToInteractive',\n",
              "                                                     [key], {});\n",
              "          if (!dataTable) return;\n",
              "\n",
              "          const docLinkHtml = 'Like what you see? Visit the ' +\n",
              "            '<a target=\"_blank\" href=https://colab.research.google.com/notebooks/data_table.ipynb>data table notebook</a>'\n",
              "            + ' to learn more about interactive tables.';\n",
              "          element.innerHTML = '';\n",
              "          dataTable['output_type'] = 'display_data';\n",
              "          await google.colab.output.renderOutput(dataTable, element);\n",
              "          const docLink = document.createElement('div');\n",
              "          docLink.innerHTML = docLinkHtml;\n",
              "          element.appendChild(docLink);\n",
              "        }\n",
              "      </script>\n",
              "    </div>\n",
              "  </div>\n",
              "  "
            ]
          },
          "metadata": {},
          "execution_count": 34
        }
      ]
    },
    {
      "cell_type": "code",
      "source": [
        "plot_df(df_profit, x=df_profit.yearmonth, y=df_profit.profit/1000, title='Profit', ylabel='Profit (K)')"
      ],
      "metadata": {
        "colab": {
          "base_uri": "https://localhost:8080/",
          "height": 480
        },
        "id": "w3Oo-qlDxsLp",
        "outputId": "897ef4f8-3505-4352-a0d8-c91c72d02a86"
      },
      "execution_count": null,
      "outputs": [
        {
          "output_type": "display_data",
          "data": {
            "text/plain": [
              "<Figure size 1600x500 with 1 Axes>"
            ],
            "image/png": "[encoded data removed]"
          },
          "metadata": {
            "needs_background": "light"
          }
        }
      ]
    },
    {
      "cell_type": "code",
      "source": [
        "df_profit.describe()/1000"
      ],
      "metadata": {
        "colab": {
          "base_uri": "https://localhost:8080/",
          "height": 300
        },
        "id": "f3xzoGcleEAX",
        "outputId": "03a9a703-b710-493b-9519-a1e7c09e7f3b"
      },
      "execution_count": null,
      "outputs": [
        {
          "output_type": "execute_result",
          "data": {
            "text/plain": [
              "            profit   percent\n",
              "count     0.013000  0.013000\n",
              "mean   2346.843155  0.007694\n",
              "std    1023.127711  0.003353\n",
              "min     643.183480  0.002110\n",
              "25%    1898.882530  0.006220\n",
              "50%    2202.351320  0.007220\n",
              "75%    2684.460870  0.008800\n",
              "max    4778.277000  0.015660"
            ],
            "text/html": [
              "\n",
              "  <div id=\"df-e5c6ee3f-5f93-4e07-8abd-a4c0293cd6a7\">\n",
              "    <div class=\"colab-df-container\">\n",
              "      <div>\n",
              "<style scoped>\n",
              "    .dataframe tbody tr th:only-of-type {\n",
              "        vertical-align: middle;\n",
              "    }\n",
              "\n",
              "    .dataframe tbody tr th {\n",
              "        vertical-align: top;\n",
              "    }\n",
              "\n",
              "    .dataframe thead th {\n",
              "        text-align: right;\n",
              "    }\n",
              "</style>\n",
              "<table border=\"1\" class=\"dataframe\">\n",
              "  <thead>\n",
              "    <tr style=\"text-align: right;\">\n",
              "      <th></th>\n",
              "      <th>profit</th>\n",
              "      <th>percent</th>\n",
              "    </tr>\n",
              "  </thead>\n",
              "  <tbody>\n",
              "    <tr>\n",
              "      <th>count</th>\n",
              "      <td>0.013000</td>\n",
              "      <td>0.013000</td>\n",
              "    </tr>\n",
              "    <tr>\n",
              "      <th>mean</th>\n",
              "      <td>2346.843155</td>\n",
              "      <td>0.007694</td>\n",
              "    </tr>\n",
              "    <tr>\n",
              "      <th>std</th>\n",
              "      <td>1023.127711</td>\n",
              "      <td>0.003353</td>\n",
              "    </tr>\n",
              "    <tr>\n",
              "      <th>min</th>\n",
              "      <td>643.183480</td>\n",
              "      <td>0.002110</td>\n",
              "    </tr>\n",
              "    <tr>\n",
              "      <th>25%</th>\n",
              "      <td>1898.882530</td>\n",
              "      <td>0.006220</td>\n",
              "    </tr>\n",
              "    <tr>\n",
              "      <th>50%</th>\n",
              "      <td>2202.351320</td>\n",
              "      <td>0.007220</td>\n",
              "    </tr>\n",
              "    <tr>\n",
              "      <th>75%</th>\n",
              "      <td>2684.460870</td>\n",
              "      <td>0.008800</td>\n",
              "    </tr>\n",
              "    <tr>\n",
              "      <th>max</th>\n",
              "      <td>4778.277000</td>\n",
              "      <td>0.015660</td>\n",
              "    </tr>\n",
              "  </tbody>\n",
              "</table>\n",
              "</div>\n",
              "      <button class=\"colab-df-convert\" onclick=\"convertToInteractive('df-e5c6ee3f-5f93-4e07-8abd-a4c0293cd6a7')\"\n",
              "              title=\"Convert this dataframe to an interactive table.\"\n",
              "              style=\"display:none;\">\n",
              "        \n",
              "  <svg xmlns=\"http://www.w3.org/2000/svg\" height=\"24px\"viewBox=\"0 0 24 24\"\n",
              "       width=\"24px\">\n",
              "    <path d=\"M0 0h24v24H0V0z\" fill=\"none\"/>\n",
              "    <path d=\"M18.56 5.44l.94 2.06.94-2.06 2.06-.94-2.06-.94-.94-2.06-.94 2.06-2.06.94zm-11 1L8.5 8.5l.94-2.06 2.06-.94-2.06-.94L8.5 2.5l-.94 2.06-2.06.94zm10 10l.94 2.06.94-2.06 2.06-.94-2.06-.94-.94-2.06-.94 2.06-2.06.94z\"/><path d=\"M17.41 7.96l-1.37-1.37c-.4-.4-.92-.59-1.43-.59-.52 0-1.04.2-1.43.59L10.3 9.45l-7.72 7.72c-.78.78-.78 2.05 0 2.83L4 21.41c.39.39.9.59 1.41.59.51 0 1.02-.2 1.41-.59l7.78-7.78 2.81-2.81c.8-.78.8-2.07 0-2.86zM5.41 20L4 18.59l7.72-7.72 1.47 1.35L5.41 20z\"/>\n",
              "  </svg>\n",
              "      </button>\n",
              "      \n",
              "  <style>\n",
              "    .colab-df-container {\n",
              "      display:flex;\n",
              "      flex-wrap:wrap;\n",
              "      gap: 12px;\n",
              "    }\n",
              "\n",
              "    .colab-df-convert {\n",
              "      background-color: #E8F0FE;\n",
              "      border: none;\n",
              "      border-radius: 50%;\n",
              "      cursor: pointer;\n",
              "      display: none;\n",
              "      fill: #1967D2;\n",
              "      height: 32px;\n",
              "      padding: 0 0 0 0;\n",
              "      width: 32px;\n",
              "    }\n",
              "\n",
              "    .colab-df-convert:hover {\n",
              "      background-color: #E2EBFA;\n",
              "      box-shadow: 0px 1px 2px rgba(60, 64, 67, 0.3), 0px 1px 3px 1px rgba(60, 64, 67, 0.15);\n",
              "      fill: #174EA6;\n",
              "    }\n",
              "\n",
              "    [theme=dark] .colab-df-convert {\n",
              "      background-color: #3B4455;\n",
              "      fill: #D2E3FC;\n",
              "    }\n",
              "\n",
              "    [theme=dark] .colab-df-convert:hover {\n",
              "      background-color: #434B5C;\n",
              "      box-shadow: 0px 1px 3px 1px rgba(0, 0, 0, 0.15);\n",
              "      filter: drop-shadow(0px 1px 2px rgba(0, 0, 0, 0.3));\n",
              "      fill: #FFFFFF;\n",
              "    }\n",
              "  </style>\n",
              "\n",
              "      <script>\n",
              "        const buttonEl =\n",
              "          document.querySelector('#df-e5c6ee3f-5f93-4e07-8abd-a4c0293cd6a7 button.colab-df-convert');\n",
              "        buttonEl.style.display =\n",
              "          google.colab.kernel.accessAllowed ? 'block' : 'none';\n",
              "\n",
              "        async function convertToInteractive(key) {\n",
              "          const element = document.querySelector('#df-e5c6ee3f-5f93-4e07-8abd-a4c0293cd6a7');\n",
              "          const dataTable =\n",
              "            await google.colab.kernel.invokeFunction('convertToInteractive',\n",
              "                                                     [key], {});\n",
              "          if (!dataTable) return;\n",
              "\n",
              "          const docLinkHtml = 'Like what you see? Visit the ' +\n",
              "            '<a target=\"_blank\" href=https://colab.research.google.com/notebooks/data_table.ipynb>data table notebook</a>'\n",
              "            + ' to learn more about interactive tables.';\n",
              "          element.innerHTML = '';\n",
              "          dataTable['output_type'] = 'display_data';\n",
              "          await google.colab.output.renderOutput(dataTable, element);\n",
              "          const docLink = document.createElement('div');\n",
              "          docLink.innerHTML = docLinkHtml;\n",
              "          element.appendChild(docLink);\n",
              "        }\n",
              "      </script>\n",
              "    </div>\n",
              "  </div>\n",
              "  "
            ]
          },
          "metadata": {},
          "execution_count": 36
        }
      ]
    },
    {
      "cell_type": "markdown",
      "source": [
        "From describe and graph above we can see the general information on this data profit. we can see clearly that the average profit each month is Rp. 2,346,843 only 7.69%, the lowest amount of profit is Rp. Rp. 643.183.48 with a total percentage of 2.11%. and the highest amount of profit is Rp. Rp. 4,778,277 with a total percentage reaching 15.66%.\n",
        "\n",
        "It is very clear that February is the highest, like the previous visualization of revenue, because there is a Valentine's Day celebration in west culture and customers will give chocolate to their loved ones .Due to the influence of western globalization, local customers will also celebrate valentine, this will have an impact on the target market in the country, such as the chocolate snacks that Nicoa sells, which will also be sold in a positive trend.\n",
        "\n",
        "Apart from that, there is a lot that Nicoa can do to get more profit, not only in February but every month, by always following up on potential buyers. Never give up on contacting potential buyers who have interacted with Nicoa before. According to research by The Marketing Donut, 80% of sales require five follow-ups. Therefore, make sure to always follow up with prospective customers in the right way and at the right time.\n"
      ],
      "metadata": {
        "id": "O9zQrv-YaLv6"
      }
    },
    {
      "cell_type": "code",
      "source": [
        "#Show comparison total profit in 2021-2022\n",
        "df_profit_year = df_profit.groupby('Year').profit.sum()\n",
        "df_profit_year = pd.DataFrame(df_profit_year)\n",
        "df_profit_year = df_profit_year.reset_index()"
      ],
      "metadata": {
        "id": "nsnPUPAly4Uj"
      },
      "execution_count": null,
      "outputs": []
    },
    {
      "cell_type": "code",
      "source": [
        "profit2022 = round(df_profit_year['profit'].iloc[1]*100/df_profit_year['profit'].iloc[0],2)\n",
        "print('Jumlah profit pada tahun 2022 adalah sebesar',profit2022,'% dari jumlah profit pada tahun 2021')"
      ],
      "metadata": {
        "colab": {
          "base_uri": "https://localhost:8080/"
        },
        "id": "xk77gTAVReZi",
        "outputId": "943bc984-3f78-4c46-d327-1f9d824ffae7"
      },
      "execution_count": null,
      "outputs": [
        {
          "output_type": "stream",
          "name": "stdout",
          "text": [
            "Jumlah profit pada tahun 2022 adalah sebesar 13.8 % dari jumlah profit pada tahun 2021\n"
          ]
        }
      ]
    },
    {
      "cell_type": "code",
      "source": [
        "plt.figure(figsize=(10,6))\n",
        "plt.bar(df_profit_year['Year'],df_profit_year['profit']/1000)\n",
        "plt.title('Profit in 2021-2022')\n",
        "plt.xlabel('Year')\n",
        "plt.ylabel('Profit (K)')\n",
        "plt.show()"
      ],
      "metadata": {
        "colab": {
          "base_uri": "https://localhost:8080/",
          "height": 404
        },
        "id": "cPpTW-lNyyw7",
        "outputId": "98b658ff-2364-4126-f7bd-892f834a8faa"
      },
      "execution_count": null,
      "outputs": [
        {
          "output_type": "display_data",
          "data": {
            "text/plain": [
              "<Figure size 720x432 with 1 Axes>"
            ],
            "image/png": "[encoded data removed]"
          },
          "metadata": {
            "needs_background": "light"
          }
        }
      ]
    },
    {
      "cell_type": "markdown",
      "source": [
        "From a comparison of Revenue in 2021 and 2022 it can be seen that total profit in 2021 is much higher, this is because there are only 2 months of data for 2022."
      ],
      "metadata": {
        "id": "PE07Iv3Ra7hr"
      }
    },
    {
      "cell_type": "code",
      "source": [
        "#Aggregating the total cost by Year and Month\n",
        "df_cost = df_all.groupby([\"Year\", \"Month\"])['total cost'].sum()\n",
        "df_cost = pd.DataFrame(df_cost)\n",
        "df_cost = df_cost.reset_index()\n",
        "df_cost.head()"
      ],
      "metadata": {
        "colab": {
          "base_uri": "https://localhost:8080/",
          "height": 206
        },
        "id": "r1365dTMQ-E3",
        "outputId": "723a935b-4700-4221-9603-02e742a730cc"
      },
      "execution_count": null,
      "outputs": [
        {
          "output_type": "execute_result",
          "data": {
            "text/plain": [
              "   Year Month   total cost\n",
              "0  2021    01   5352789.00\n",
              "1  2021    02  10330522.00\n",
              "2  2021    03   6244851.80\n",
              "3  2021    04   3282781.64\n",
              "4  2021    05   6857971.42"
            ],
            "text/html": [
              "\n",
              "  <div id=\"df-2a360ba0-8b5b-49af-9ed3-74adc0121e30\">\n",
              "    <div class=\"colab-df-container\">\n",
              "      <div>\n",
              "<style scoped>\n",
              "    .dataframe tbody tr th:only-of-type {\n",
              "        vertical-align: middle;\n",
              "    }\n",
              "\n",
              "    .dataframe tbody tr th {\n",
              "        vertical-align: top;\n",
              "    }\n",
              "\n",
              "    .dataframe thead th {\n",
              "        text-align: right;\n",
              "    }\n",
              "</style>\n",
              "<table border=\"1\" class=\"dataframe\">\n",
              "  <thead>\n",
              "    <tr style=\"text-align: right;\">\n",
              "      <th></th>\n",
              "      <th>Year</th>\n",
              "      <th>Month</th>\n",
              "      <th>total cost</th>\n",
              "    </tr>\n",
              "  </thead>\n",
              "  <tbody>\n",
              "    <tr>\n",
              "      <th>0</th>\n",
              "      <td>2021</td>\n",
              "      <td>01</td>\n",
              "      <td>5352789.00</td>\n",
              "    </tr>\n",
              "    <tr>\n",
              "      <th>1</th>\n",
              "      <td>2021</td>\n",
              "      <td>02</td>\n",
              "      <td>10330522.00</td>\n",
              "    </tr>\n",
              "    <tr>\n",
              "      <th>2</th>\n",
              "      <td>2021</td>\n",
              "      <td>03</td>\n",
              "      <td>6244851.80</td>\n",
              "    </tr>\n",
              "    <tr>\n",
              "      <th>3</th>\n",
              "      <td>2021</td>\n",
              "      <td>04</td>\n",
              "      <td>3282781.64</td>\n",
              "    </tr>\n",
              "    <tr>\n",
              "      <th>4</th>\n",
              "      <td>2021</td>\n",
              "      <td>05</td>\n",
              "      <td>6857971.42</td>\n",
              "    </tr>\n",
              "  </tbody>\n",
              "</table>\n",
              "</div>\n",
              "      <button class=\"colab-df-convert\" onclick=\"convertToInteractive('df-2a360ba0-8b5b-49af-9ed3-74adc0121e30')\"\n",
              "              title=\"Convert this dataframe to an interactive table.\"\n",
              "              style=\"display:none;\">\n",
              "        \n",
              "  <svg xmlns=\"http://www.w3.org/2000/svg\" height=\"24px\"viewBox=\"0 0 24 24\"\n",
              "       width=\"24px\">\n",
              "    <path d=\"M0 0h24v24H0V0z\" fill=\"none\"/>\n",
              "    <path d=\"M18.56 5.44l.94 2.06.94-2.06 2.06-.94-2.06-.94-.94-2.06-.94 2.06-2.06.94zm-11 1L8.5 8.5l.94-2.06 2.06-.94-2.06-.94L8.5 2.5l-.94 2.06-2.06.94zm10 10l.94 2.06.94-2.06 2.06-.94-2.06-.94-.94-2.06-.94 2.06-2.06.94z\"/><path d=\"M17.41 7.96l-1.37-1.37c-.4-.4-.92-.59-1.43-.59-.52 0-1.04.2-1.43.59L10.3 9.45l-7.72 7.72c-.78.78-.78 2.05 0 2.83L4 21.41c.39.39.9.59 1.41.59.51 0 1.02-.2 1.41-.59l7.78-7.78 2.81-2.81c.8-.78.8-2.07 0-2.86zM5.41 20L4 18.59l7.72-7.72 1.47 1.35L5.41 20z\"/>\n",
              "  </svg>\n",
              "      </button>\n",
              "      \n",
              "  <style>\n",
              "    .colab-df-container {\n",
              "      display:flex;\n",
              "      flex-wrap:wrap;\n",
              "      gap: 12px;\n",
              "    }\n",
              "\n",
              "    .colab-df-convert {\n",
              "      background-color: #E8F0FE;\n",
              "      border: none;\n",
              "      border-radius: 50%;\n",
              "      cursor: pointer;\n",
              "      display: none;\n",
              "      fill: #1967D2;\n",
              "      height: 32px;\n",
              "      padding: 0 0 0 0;\n",
              "      width: 32px;\n",
              "    }\n",
              "\n",
              "    .colab-df-convert:hover {\n",
              "      background-color: #E2EBFA;\n",
              "      box-shadow: 0px 1px 2px rgba(60, 64, 67, 0.3), 0px 1px 3px 1px rgba(60, 64, 67, 0.15);\n",
              "      fill: #174EA6;\n",
              "    }\n",
              "\n",
              "    [theme=dark] .colab-df-convert {\n",
              "      background-color: #3B4455;\n",
              "      fill: #D2E3FC;\n",
              "    }\n",
              "\n",
              "    [theme=dark] .colab-df-convert:hover {\n",
              "      background-color: #434B5C;\n",
              "      box-shadow: 0px 1px 3px 1px rgba(0, 0, 0, 0.15);\n",
              "      filter: drop-shadow(0px 1px 2px rgba(0, 0, 0, 0.3));\n",
              "      fill: #FFFFFF;\n",
              "    }\n",
              "  </style>\n",
              "\n",
              "      <script>\n",
              "        const buttonEl =\n",
              "          document.querySelector('#df-2a360ba0-8b5b-49af-9ed3-74adc0121e30 button.colab-df-convert');\n",
              "        buttonEl.style.display =\n",
              "          google.colab.kernel.accessAllowed ? 'block' : 'none';\n",
              "\n",
              "        async function convertToInteractive(key) {\n",
              "          const element = document.querySelector('#df-2a360ba0-8b5b-49af-9ed3-74adc0121e30');\n",
              "          const dataTable =\n",
              "            await google.colab.kernel.invokeFunction('convertToInteractive',\n",
              "                                                     [key], {});\n",
              "          if (!dataTable) return;\n",
              "\n",
              "          const docLinkHtml = 'Like what you see? Visit the ' +\n",
              "            '<a target=\"_blank\" href=https://colab.research.google.com/notebooks/data_table.ipynb>data table notebook</a>'\n",
              "            + ' to learn more about interactive tables.';\n",
              "          element.innerHTML = '';\n",
              "          dataTable['output_type'] = 'display_data';\n",
              "          await google.colab.output.renderOutput(dataTable, element);\n",
              "          const docLink = document.createElement('div');\n",
              "          docLink.innerHTML = docLinkHtml;\n",
              "          element.appendChild(docLink);\n",
              "        }\n",
              "      </script>\n",
              "    </div>\n",
              "  </div>\n",
              "  "
            ]
          },
          "metadata": {},
          "execution_count": 40
        }
      ]
    },
    {
      "cell_type": "code",
      "source": [
        "df_cost['Month'][df_cost['Month']=='01'] ='Jan'\n",
        "df_cost['Month'][df_cost['Month']=='02'] ='Feb'\n",
        "df_cost['Month'][df_cost['Month']=='03'] ='Mar'\n",
        "df_cost['Month'][df_cost['Month']=='04'] ='Apr'\n",
        "df_cost['Month'][df_cost['Month']=='05'] ='May'\n",
        "df_cost['Month'][df_cost['Month']=='06'] ='Jun'\n",
        "df_cost['Month'][df_cost['Month']=='07'] ='Jul'\n",
        "df_cost['Month'][df_cost['Month']=='08'] ='Aug'\n",
        "df_cost['Month'][df_cost['Month']=='09'] ='Sep'\n",
        "df_cost['Month'][df_cost['Month']=='10'] ='Oct'\n",
        "df_cost['Month'][df_cost['Month']=='11'] ='Nov'\n",
        "df_cost['Month'][df_cost['Month']=='12'] ='Dec'"
      ],
      "metadata": {
        "id": "TgvRRmaxSXWB"
      },
      "execution_count": null,
      "outputs": []
    },
    {
      "cell_type": "code",
      "source": [
        "df_cost['percent'] = round((df_cost['total cost']*100)/sum(df_cost['total cost']),2)\n",
        "df_cost['yearmonth'] = df_cost['Year']+' '+df_cost['Month']"
      ],
      "metadata": {
        "id": "pMJAaUlxS2jo"
      },
      "execution_count": null,
      "outputs": []
    },
    {
      "cell_type": "code",
      "source": [
        "plot_df(df_cost, x=df_cost.yearmonth, y=df_cost['total cost']/1000, title='Total Cost 2021-2022', ylabel='Total Cost (K)')"
      ],
      "metadata": {
        "colab": {
          "base_uri": "https://localhost:8080/",
          "height": 480
        },
        "id": "VvXc1OXLTHbp",
        "outputId": "e2e84aa8-20ea-4fba-f142-2fecade61128"
      },
      "execution_count": null,
      "outputs": [
        {
          "output_type": "display_data",
          "data": {
            "text/plain": [
              "<Figure size 1600x500 with 1 Axes>"
            ],
            "image/png": "[encoded data removed]"
          },
          "metadata": {
            "needs_background": "light"
          }
        }
      ]
    },
    {
      "cell_type": "code",
      "execution_count": null,
      "metadata": {
        "id": "H1FSBUSZjlof",
        "colab": {
          "base_uri": "https://localhost:8080/",
          "height": 206
        },
        "outputId": "9838c65a-2d9f-441a-b60f-6620e445b6cc"
      },
      "outputs": [
        {
          "output_type": "execute_result",
          "data": {
            "text/plain": [
              "                  item name  qty  percent\n",
              "14    Sleeping Well - 35 gr  292     8.99\n",
              "13        Pregnancy - 90 gr  312     9.60\n",
              "7         Lactation - 35 gr  338    10.40\n",
              "16  Stress Reliever - 35 gr  343    10.56\n",
              "5    Immune Booster - 35 gr  349    10.74"
            ],
            "text/html": [
              "\n",
              "  <div id=\"df-8ebe614e-84a1-4b26-96a6-33790ddb2008\">\n",
              "    <div class=\"colab-df-container\">\n",
              "      <div>\n",
              "<style scoped>\n",
              "    .dataframe tbody tr th:only-of-type {\n",
              "        vertical-align: middle;\n",
              "    }\n",
              "\n",
              "    .dataframe tbody tr th {\n",
              "        vertical-align: top;\n",
              "    }\n",
              "\n",
              "    .dataframe thead th {\n",
              "        text-align: right;\n",
              "    }\n",
              "</style>\n",
              "<table border=\"1\" class=\"dataframe\">\n",
              "  <thead>\n",
              "    <tr style=\"text-align: right;\">\n",
              "      <th></th>\n",
              "      <th>item name</th>\n",
              "      <th>qty</th>\n",
              "      <th>percent</th>\n",
              "    </tr>\n",
              "  </thead>\n",
              "  <tbody>\n",
              "    <tr>\n",
              "      <th>14</th>\n",
              "      <td>Sleeping Well - 35 gr</td>\n",
              "      <td>292</td>\n",
              "      <td>8.99</td>\n",
              "    </tr>\n",
              "    <tr>\n",
              "      <th>13</th>\n",
              "      <td>Pregnancy - 90 gr</td>\n",
              "      <td>312</td>\n",
              "      <td>9.60</td>\n",
              "    </tr>\n",
              "    <tr>\n",
              "      <th>7</th>\n",
              "      <td>Lactation - 35 gr</td>\n",
              "      <td>338</td>\n",
              "      <td>10.40</td>\n",
              "    </tr>\n",
              "    <tr>\n",
              "      <th>16</th>\n",
              "      <td>Stress Reliever - 35 gr</td>\n",
              "      <td>343</td>\n",
              "      <td>10.56</td>\n",
              "    </tr>\n",
              "    <tr>\n",
              "      <th>5</th>\n",
              "      <td>Immune Booster - 35 gr</td>\n",
              "      <td>349</td>\n",
              "      <td>10.74</td>\n",
              "    </tr>\n",
              "  </tbody>\n",
              "</table>\n",
              "</div>\n",
              "      <button class=\"colab-df-convert\" onclick=\"convertToInteractive('df-8ebe614e-84a1-4b26-96a6-33790ddb2008')\"\n",
              "              title=\"Convert this dataframe to an interactive table.\"\n",
              "              style=\"display:none;\">\n",
              "        \n",
              "  <svg xmlns=\"http://www.w3.org/2000/svg\" height=\"24px\"viewBox=\"0 0 24 24\"\n",
              "       width=\"24px\">\n",
              "    <path d=\"M0 0h24v24H0V0z\" fill=\"none\"/>\n",
              "    <path d=\"M18.56 5.44l.94 2.06.94-2.06 2.06-.94-2.06-.94-.94-2.06-.94 2.06-2.06.94zm-11 1L8.5 8.5l.94-2.06 2.06-.94-2.06-.94L8.5 2.5l-.94 2.06-2.06.94zm10 10l.94 2.06.94-2.06 2.06-.94-2.06-.94-.94-2.06-.94 2.06-2.06.94z\"/><path d=\"M17.41 7.96l-1.37-1.37c-.4-.4-.92-.59-1.43-.59-.52 0-1.04.2-1.43.59L10.3 9.45l-7.72 7.72c-.78.78-.78 2.05 0 2.83L4 21.41c.39.39.9.59 1.41.59.51 0 1.02-.2 1.41-.59l7.78-7.78 2.81-2.81c.8-.78.8-2.07 0-2.86zM5.41 20L4 18.59l7.72-7.72 1.47 1.35L5.41 20z\"/>\n",
              "  </svg>\n",
              "      </button>\n",
              "      \n",
              "  <style>\n",
              "    .colab-df-container {\n",
              "      display:flex;\n",
              "      flex-wrap:wrap;\n",
              "      gap: 12px;\n",
              "    }\n",
              "\n",
              "    .colab-df-convert {\n",
              "      background-color: #E8F0FE;\n",
              "      border: none;\n",
              "      border-radius: 50%;\n",
              "      cursor: pointer;\n",
              "      display: none;\n",
              "      fill: #1967D2;\n",
              "      height: 32px;\n",
              "      padding: 0 0 0 0;\n",
              "      width: 32px;\n",
              "    }\n",
              "\n",
              "    .colab-df-convert:hover {\n",
              "      background-color: #E2EBFA;\n",
              "      box-shadow: 0px 1px 2px rgba(60, 64, 67, 0.3), 0px 1px 3px 1px rgba(60, 64, 67, 0.15);\n",
              "      fill: #174EA6;\n",
              "    }\n",
              "\n",
              "    [theme=dark] .colab-df-convert {\n",
              "      background-color: #3B4455;\n",
              "      fill: #D2E3FC;\n",
              "    }\n",
              "\n",
              "    [theme=dark] .colab-df-convert:hover {\n",
              "      background-color: #434B5C;\n",
              "      box-shadow: 0px 1px 3px 1px rgba(0, 0, 0, 0.15);\n",
              "      filter: drop-shadow(0px 1px 2px rgba(0, 0, 0, 0.3));\n",
              "      fill: #FFFFFF;\n",
              "    }\n",
              "  </style>\n",
              "\n",
              "      <script>\n",
              "        const buttonEl =\n",
              "          document.querySelector('#df-8ebe614e-84a1-4b26-96a6-33790ddb2008 button.colab-df-convert');\n",
              "        buttonEl.style.display =\n",
              "          google.colab.kernel.accessAllowed ? 'block' : 'none';\n",
              "\n",
              "        async function convertToInteractive(key) {\n",
              "          const element = document.querySelector('#df-8ebe614e-84a1-4b26-96a6-33790ddb2008');\n",
              "          const dataTable =\n",
              "            await google.colab.kernel.invokeFunction('convertToInteractive',\n",
              "                                                     [key], {});\n",
              "          if (!dataTable) return;\n",
              "\n",
              "          const docLinkHtml = 'Like what you see? Visit the ' +\n",
              "            '<a target=\"_blank\" href=https://colab.research.google.com/notebooks/data_table.ipynb>data table notebook</a>'\n",
              "            + ' to learn more about interactive tables.';\n",
              "          element.innerHTML = '';\n",
              "          dataTable['output_type'] = 'display_data';\n",
              "          await google.colab.output.renderOutput(dataTable, element);\n",
              "          const docLink = document.createElement('div');\n",
              "          docLink.innerHTML = docLinkHtml;\n",
              "          element.appendChild(docLink);\n",
              "        }\n",
              "      </script>\n",
              "    </div>\n",
              "  </div>\n",
              "  "
            ]
          },
          "metadata": {},
          "execution_count": 44
        }
      ],
      "source": [
        "df_item = df_all.groupby('item name').qty.sum()\n",
        "df_item = pd.DataFrame(df_item)\n",
        "df_item = df_item.reset_index()\n",
        "df_item['percent'] = round(df_item['qty']*100/sum(df_item['qty']),2)\n",
        "df_item_top5 = df_item.sort_values(by=['qty']).tail()\n",
        "df_item_top5"
      ]
    },
    {
      "cell_type": "code",
      "execution_count": null,
      "metadata": {
        "id": "S4E2-CUnlFdl",
        "colab": {
          "base_uri": "https://localhost:8080/",
          "height": 421
        },
        "outputId": "9a010fd2-12fd-4e9f-9d34-1a765619984f"
      },
      "outputs": [
        {
          "output_type": "execute_result",
          "data": {
            "text/plain": [
              "Text(0, 0.5, 'qty')"
            ]
          },
          "metadata": {},
          "execution_count": 45
        },
        {
          "output_type": "display_data",
          "data": {
            "text/plain": [
              "<Figure size 720x432 with 1 Axes>"
            ],
            "image/png": "[encoded data removed]"
          },
          "metadata": {
            "needs_background": "light"
          }
        }
      ],
      "source": [
        "plt.figure(figsize=(10,6))\n",
        "plt.bar(df_item_top5['item name'],df_item_top5['qty'])\n",
        "plt.title('Top 5 Chocolate Sold')\n",
        "plt.xlabel('Item Name')\n",
        "plt.ylabel('qty')"
      ]
    },
    {
      "cell_type": "code",
      "execution_count": null,
      "metadata": {
        "id": "HRPlSITToA_k",
        "colab": {
          "base_uri": "https://localhost:8080/",
          "height": 206
        },
        "outputId": "d67a7a12-996f-4fd1-8cb2-4bd0d1ab4f53"
      },
      "outputs": [
        {
          "output_type": "execute_result",
          "data": {
            "text/plain": [
              "    price  order no  percent\n",
              "13  32000        33     2.59\n",
              "23  56000        34     2.67\n",
              "11  30000        47     3.69\n",
              "20  46000       402    31.55\n",
              "9   28000       679    53.30"
            ],
            "text/html": [
              "\n",
              "  <div id=\"df-f6ce6e52-b370-4f41-95df-f8893268cd8d\">\n",
              "    <div class=\"colab-df-container\">\n",
              "      <div>\n",
              "<style scoped>\n",
              "    .dataframe tbody tr th:only-of-type {\n",
              "        vertical-align: middle;\n",
              "    }\n",
              "\n",
              "    .dataframe tbody tr th {\n",
              "        vertical-align: top;\n",
              "    }\n",
              "\n",
              "    .dataframe thead th {\n",
              "        text-align: right;\n",
              "    }\n",
              "</style>\n",
              "<table border=\"1\" class=\"dataframe\">\n",
              "  <thead>\n",
              "    <tr style=\"text-align: right;\">\n",
              "      <th></th>\n",
              "      <th>price</th>\n",
              "      <th>order no</th>\n",
              "      <th>percent</th>\n",
              "    </tr>\n",
              "  </thead>\n",
              "  <tbody>\n",
              "    <tr>\n",
              "      <th>13</th>\n",
              "      <td>32000</td>\n",
              "      <td>33</td>\n",
              "      <td>2.59</td>\n",
              "    </tr>\n",
              "    <tr>\n",
              "      <th>23</th>\n",
              "      <td>56000</td>\n",
              "      <td>34</td>\n",
              "      <td>2.67</td>\n",
              "    </tr>\n",
              "    <tr>\n",
              "      <th>11</th>\n",
              "      <td>30000</td>\n",
              "      <td>47</td>\n",
              "      <td>3.69</td>\n",
              "    </tr>\n",
              "    <tr>\n",
              "      <th>20</th>\n",
              "      <td>46000</td>\n",
              "      <td>402</td>\n",
              "      <td>31.55</td>\n",
              "    </tr>\n",
              "    <tr>\n",
              "      <th>9</th>\n",
              "      <td>28000</td>\n",
              "      <td>679</td>\n",
              "      <td>53.30</td>\n",
              "    </tr>\n",
              "  </tbody>\n",
              "</table>\n",
              "</div>\n",
              "      <button class=\"colab-df-convert\" onclick=\"convertToInteractive('df-f6ce6e52-b370-4f41-95df-f8893268cd8d')\"\n",
              "              title=\"Convert this dataframe to an interactive table.\"\n",
              "              style=\"display:none;\">\n",
              "        \n",
              "  <svg xmlns=\"http://www.w3.org/2000/svg\" height=\"24px\"viewBox=\"0 0 24 24\"\n",
              "       width=\"24px\">\n",
              "    <path d=\"M0 0h24v24H0V0z\" fill=\"none\"/>\n",
              "    <path d=\"M18.56 5.44l.94 2.06.94-2.06 2.06-.94-2.06-.94-.94-2.06-.94 2.06-2.06.94zm-11 1L8.5 8.5l.94-2.06 2.06-.94-2.06-.94L8.5 2.5l-.94 2.06-2.06.94zm10 10l.94 2.06.94-2.06 2.06-.94-2.06-.94-.94-2.06-.94 2.06-2.06.94z\"/><path d=\"M17.41 7.96l-1.37-1.37c-.4-.4-.92-.59-1.43-.59-.52 0-1.04.2-1.43.59L10.3 9.45l-7.72 7.72c-.78.78-.78 2.05 0 2.83L4 21.41c.39.39.9.59 1.41.59.51 0 1.02-.2 1.41-.59l7.78-7.78 2.81-2.81c.8-.78.8-2.07 0-2.86zM5.41 20L4 18.59l7.72-7.72 1.47 1.35L5.41 20z\"/>\n",
              "  </svg>\n",
              "      </button>\n",
              "      \n",
              "  <style>\n",
              "    .colab-df-container {\n",
              "      display:flex;\n",
              "      flex-wrap:wrap;\n",
              "      gap: 12px;\n",
              "    }\n",
              "\n",
              "    .colab-df-convert {\n",
              "      background-color: #E8F0FE;\n",
              "      border: none;\n",
              "      border-radius: 50%;\n",
              "      cursor: pointer;\n",
              "      display: none;\n",
              "      fill: #1967D2;\n",
              "      height: 32px;\n",
              "      padding: 0 0 0 0;\n",
              "      width: 32px;\n",
              "    }\n",
              "\n",
              "    .colab-df-convert:hover {\n",
              "      background-color: #E2EBFA;\n",
              "      box-shadow: 0px 1px 2px rgba(60, 64, 67, 0.3), 0px 1px 3px 1px rgba(60, 64, 67, 0.15);\n",
              "      fill: #174EA6;\n",
              "    }\n",
              "\n",
              "    [theme=dark] .colab-df-convert {\n",
              "      background-color: #3B4455;\n",
              "      fill: #D2E3FC;\n",
              "    }\n",
              "\n",
              "    [theme=dark] .colab-df-convert:hover {\n",
              "      background-color: #434B5C;\n",
              "      box-shadow: 0px 1px 3px 1px rgba(0, 0, 0, 0.15);\n",
              "      filter: drop-shadow(0px 1px 2px rgba(0, 0, 0, 0.3));\n",
              "      fill: #FFFFFF;\n",
              "    }\n",
              "  </style>\n",
              "\n",
              "      <script>\n",
              "        const buttonEl =\n",
              "          document.querySelector('#df-f6ce6e52-b370-4f41-95df-f8893268cd8d button.colab-df-convert');\n",
              "        buttonEl.style.display =\n",
              "          google.colab.kernel.accessAllowed ? 'block' : 'none';\n",
              "\n",
              "        async function convertToInteractive(key) {\n",
              "          const element = document.querySelector('#df-f6ce6e52-b370-4f41-95df-f8893268cd8d');\n",
              "          const dataTable =\n",
              "            await google.colab.kernel.invokeFunction('convertToInteractive',\n",
              "                                                     [key], {});\n",
              "          if (!dataTable) return;\n",
              "\n",
              "          const docLinkHtml = 'Like what you see? Visit the ' +\n",
              "            '<a target=\"_blank\" href=https://colab.research.google.com/notebooks/data_table.ipynb>data table notebook</a>'\n",
              "            + ' to learn more about interactive tables.';\n",
              "          element.innerHTML = '';\n",
              "          dataTable['output_type'] = 'display_data';\n",
              "          await google.colab.output.renderOutput(dataTable, element);\n",
              "          const docLink = document.createElement('div');\n",
              "          docLink.innerHTML = docLinkHtml;\n",
              "          element.appendChild(docLink);\n",
              "        }\n",
              "      </script>\n",
              "    </div>\n",
              "  </div>\n",
              "  "
            ]
          },
          "metadata": {},
          "execution_count": 46
        }
      ],
      "source": [
        "df_price = df_all.groupby('price')['order no'].count()\n",
        "df_price = pd.DataFrame(df_price)\n",
        "df_price = df_price.reset_index()\n",
        "df_price['percent'] = round(df_price['order no']*100/sum(df_price['order no']),2)\n",
        "df_price_top5 = df_price.sort_values(by=['order no']).tail()\n",
        "df_price_top5"
      ]
    },
    {
      "cell_type": "markdown",
      "metadata": {
        "id": "toQmx3YxxBpS"
      },
      "source": [
        "From the graph above it can be seen that the 5 types of chocolate that are often purchased by customers are Immune Booster with percentage 10.74%, Stress Reliever with percentage 10.56%, Lactation with percentage 10.40%, Pregnancy with percentage 9.60% and Sleeping Well with percentage 8.99%.\n",
        "\n",
        "Based on our analysis, Immune Booster is the best-selling chocolate bar, and I can conclude that sales for this type of chocolate bar are the best-selling due to the impact of Covid in early 2021, which is quite high; customers prefer healthy and high-quality snacks. The ingridients of ginger and honey in Nichoa Immune Booster Chocolate Bar helps improve and optimize the body's immune system.\n",
        "\n",
        "A size of 35 grams with a price correlation of Rp. 28,000 with precentage 53.30% is the size that sells best of a product called immune booster. I can conclude that customers will prefer snacks that are cheaper and healthier because of the influence of COVID, which has also shaken the world economy, so consumer purchasing power has decreased.\n",
        "\n"
      ]
    },
    {
      "cell_type": "code",
      "source": [
        "df_platform = df_all.groupby('platform')['order no'].count()\n",
        "df_platform= pd.DataFrame(df_platform)\n",
        "df_platform = df_platform.reset_index()\n",
        "df_platform['percent'] = round(df_platform['order no']*100/sum(df_platform['order no']),2)\n",
        "df_platform_top5 = df_platform.sort_values(by=['order no']).tail(3)\n",
        "df_platform_top5"
      ],
      "metadata": {
        "colab": {
          "base_uri": "https://localhost:8080/",
          "height": 144
        },
        "id": "OcWglxABBaPl",
        "outputId": "ba80464e-d253-4048-c4c5-9749fb612f41"
      },
      "execution_count": null,
      "outputs": [
        {
          "output_type": "execute_result",
          "data": {
            "text/plain": [
              "               platform  order no  percent\n",
              "7             Tokopedia       122     9.58\n",
              "4  Pembelian Via Shopee       318    24.96\n",
              "8              Whatsapp       764    59.97"
            ],
            "text/html": [
              "\n",
              "  <div id=\"df-e8066951-530e-45df-823a-12e75b0574be\">\n",
              "    <div class=\"colab-df-container\">\n",
              "      <div>\n",
              "<style scoped>\n",
              "    .dataframe tbody tr th:only-of-type {\n",
              "        vertical-align: middle;\n",
              "    }\n",
              "\n",
              "    .dataframe tbody tr th {\n",
              "        vertical-align: top;\n",
              "    }\n",
              "\n",
              "    .dataframe thead th {\n",
              "        text-align: right;\n",
              "    }\n",
              "</style>\n",
              "<table border=\"1\" class=\"dataframe\">\n",
              "  <thead>\n",
              "    <tr style=\"text-align: right;\">\n",
              "      <th></th>\n",
              "      <th>platform</th>\n",
              "      <th>order no</th>\n",
              "      <th>percent</th>\n",
              "    </tr>\n",
              "  </thead>\n",
              "  <tbody>\n",
              "    <tr>\n",
              "      <th>7</th>\n",
              "      <td>Tokopedia</td>\n",
              "      <td>122</td>\n",
              "      <td>9.58</td>\n",
              "    </tr>\n",
              "    <tr>\n",
              "      <th>4</th>\n",
              "      <td>Pembelian Via Shopee</td>\n",
              "      <td>318</td>\n",
              "      <td>24.96</td>\n",
              "    </tr>\n",
              "    <tr>\n",
              "      <th>8</th>\n",
              "      <td>Whatsapp</td>\n",
              "      <td>764</td>\n",
              "      <td>59.97</td>\n",
              "    </tr>\n",
              "  </tbody>\n",
              "</table>\n",
              "</div>\n",
              "      <button class=\"colab-df-convert\" onclick=\"convertToInteractive('df-e8066951-530e-45df-823a-12e75b0574be')\"\n",
              "              title=\"Convert this dataframe to an interactive table.\"\n",
              "              style=\"display:none;\">\n",
              "        \n",
              "  <svg xmlns=\"http://www.w3.org/2000/svg\" height=\"24px\"viewBox=\"0 0 24 24\"\n",
              "       width=\"24px\">\n",
              "    <path d=\"M0 0h24v24H0V0z\" fill=\"none\"/>\n",
              "    <path d=\"M18.56 5.44l.94 2.06.94-2.06 2.06-.94-2.06-.94-.94-2.06-.94 2.06-2.06.94zm-11 1L8.5 8.5l.94-2.06 2.06-.94-2.06-.94L8.5 2.5l-.94 2.06-2.06.94zm10 10l.94 2.06.94-2.06 2.06-.94-2.06-.94-.94-2.06-.94 2.06-2.06.94z\"/><path d=\"M17.41 7.96l-1.37-1.37c-.4-.4-.92-.59-1.43-.59-.52 0-1.04.2-1.43.59L10.3 9.45l-7.72 7.72c-.78.78-.78 2.05 0 2.83L4 21.41c.39.39.9.59 1.41.59.51 0 1.02-.2 1.41-.59l7.78-7.78 2.81-2.81c.8-.78.8-2.07 0-2.86zM5.41 20L4 18.59l7.72-7.72 1.47 1.35L5.41 20z\"/>\n",
              "  </svg>\n",
              "      </button>\n",
              "      \n",
              "  <style>\n",
              "    .colab-df-container {\n",
              "      display:flex;\n",
              "      flex-wrap:wrap;\n",
              "      gap: 12px;\n",
              "    }\n",
              "\n",
              "    .colab-df-convert {\n",
              "      background-color: #E8F0FE;\n",
              "      border: none;\n",
              "      border-radius: 50%;\n",
              "      cursor: pointer;\n",
              "      display: none;\n",
              "      fill: #1967D2;\n",
              "      height: 32px;\n",
              "      padding: 0 0 0 0;\n",
              "      width: 32px;\n",
              "    }\n",
              "\n",
              "    .colab-df-convert:hover {\n",
              "      background-color: #E2EBFA;\n",
              "      box-shadow: 0px 1px 2px rgba(60, 64, 67, 0.3), 0px 1px 3px 1px rgba(60, 64, 67, 0.15);\n",
              "      fill: #174EA6;\n",
              "    }\n",
              "\n",
              "    [theme=dark] .colab-df-convert {\n",
              "      background-color: #3B4455;\n",
              "      fill: #D2E3FC;\n",
              "    }\n",
              "\n",
              "    [theme=dark] .colab-df-convert:hover {\n",
              "      background-color: #434B5C;\n",
              "      box-shadow: 0px 1px 3px 1px rgba(0, 0, 0, 0.15);\n",
              "      filter: drop-shadow(0px 1px 2px rgba(0, 0, 0, 0.3));\n",
              "      fill: #FFFFFF;\n",
              "    }\n",
              "  </style>\n",
              "\n",
              "      <script>\n",
              "        const buttonEl =\n",
              "          document.querySelector('#df-e8066951-530e-45df-823a-12e75b0574be button.colab-df-convert');\n",
              "        buttonEl.style.display =\n",
              "          google.colab.kernel.accessAllowed ? 'block' : 'none';\n",
              "\n",
              "        async function convertToInteractive(key) {\n",
              "          const element = document.querySelector('#df-e8066951-530e-45df-823a-12e75b0574be');\n",
              "          const dataTable =\n",
              "            await google.colab.kernel.invokeFunction('convertToInteractive',\n",
              "                                                     [key], {});\n",
              "          if (!dataTable) return;\n",
              "\n",
              "          const docLinkHtml = 'Like what you see? Visit the ' +\n",
              "            '<a target=\"_blank\" href=https://colab.research.google.com/notebooks/data_table.ipynb>data table notebook</a>'\n",
              "            + ' to learn more about interactive tables.';\n",
              "          element.innerHTML = '';\n",
              "          dataTable['output_type'] = 'display_data';\n",
              "          await google.colab.output.renderOutput(dataTable, element);\n",
              "          const docLink = document.createElement('div');\n",
              "          docLink.innerHTML = docLinkHtml;\n",
              "          element.appendChild(docLink);\n",
              "        }\n",
              "      </script>\n",
              "    </div>\n",
              "  </div>\n",
              "  "
            ]
          },
          "metadata": {},
          "execution_count": 102
        }
      ]
    },
    {
      "cell_type": "code",
      "source": [
        "plt.figure(figsize=(10,6))\n",
        "plt.barh(df_platform_top5['platform'],df_platform_top5['order no'])\n",
        "plt.title('Top 3 Platforms')\n",
        "plt.xlabel('Platform')\n",
        "plt.ylabel('Total Customers')"
      ],
      "metadata": {
        "colab": {
          "base_uri": "https://localhost:8080/",
          "height": 421
        },
        "id": "KrbnOqpsB6EU",
        "outputId": "01452e24-8c05-46e7-d9b9-fbcaa8a57fda"
      },
      "execution_count": null,
      "outputs": [
        {
          "output_type": "execute_result",
          "data": {
            "text/plain": [
              "Text(0, 0.5, 'Total Customers')"
            ]
          },
          "metadata": {},
          "execution_count": 103
        },
        {
          "output_type": "display_data",
          "data": {
            "text/plain": [
              "<Figure size 720x432 with 1 Axes>"
            ],
            "image/png": "[encoded data removed]"
          },
          "metadata": {
            "needs_background": "light"
          }
        }
      ]
    },
    {
      "cell_type": "markdown",
      "source": [
        "as we can see that the most used purchasing platform is Whatsapp with 45.37%, for purchases via shopee with 24.96%, and CASH with 10.99%. then Tokopedia 9.58%, while Bukalapak only 3.92%\n",
        "\n",
        "Purchasing via Whatasapp means that customers already know and are well acquainted with Nicoa's products. because these customers must have interacted with Nicoa before"
      ],
      "metadata": {
        "id": "4YwdcwWg_AdD"
      }
    },
    {
      "cell_type": "markdown",
      "metadata": {
        "id": "KaGsEKqLJOZ9"
      },
      "source": [
        "# RFM Analysis\n",
        "\n",
        "Recency Frequency Monetary (RFM)\n",
        "\n",
        "RFM analysis allows you to segment customers by the frequency and value of purchases and identify those customers who append the most money.\n",
        "\n",
        "Recency - how long it's been since a customer bought something from us.\n",
        "\n",
        "Frequency - how often a customer buys from us\n",
        "\n",
        "Monetary value - the total value of purchases a customer has made."
      ]
    },
    {
      "cell_type": "markdown",
      "metadata": {
        "id": "iSFfjwVPhQf3"
      },
      "source": [
        "### Preprocessing"
      ]
    },
    {
      "cell_type": "code",
      "execution_count": null,
      "metadata": {
        "id": "nVW0NumHhT4W",
        "colab": {
          "base_uri": "https://localhost:8080/"
        },
        "outputId": "62723735-f859-40c7-e1a7-d833f187166b"
      },
      "outputs": [
        {
          "output_type": "stream",
          "name": "stdout",
          "text": [
            "2021-01-02 15:15:36\n",
            "2022-02-24 16:08:23\n"
          ]
        }
      ],
      "source": [
        "# Timebound\n",
        "\n",
        "print(df_all['order time'].min())\n",
        "print(df_all['order time'].max())"
      ]
    },
    {
      "cell_type": "code",
      "execution_count": null,
      "metadata": {
        "id": "QJAEIQOiiaAX"
      },
      "outputs": [],
      "source": [
        "NOW = dt.date(2022,2,24)\n",
        "df_all['Date'] = pd.DatetimeIndex(df_all.order_time).date"
      ]
    },
    {
      "cell_type": "code",
      "execution_count": null,
      "metadata": {
        "id": "ONOmKmEmi1H3",
        "colab": {
          "base_uri": "https://localhost:8080/"
        },
        "outputId": "0d608cdd-8c25-46c1-be22-665cd1ea0dc6"
      },
      "outputs": [
        {
          "output_type": "execute_result",
          "data": {
            "text/plain": [
              "             order no  Recency\n",
              "0  065321010200000075      415\n",
              "1  065321010200000076      414\n",
              "2  065321010500000077      415\n",
              "3  065321010600000078      414\n",
              "4  065321010800000079      412"
            ],
            "text/html": [
              "\n",
              "  <div id=\"df-491b5dd7-3ac2-4108-b5b0-591f00f28a99\">\n",
              "    <div class=\"colab-df-container\">\n",
              "      <div>\n",
              "<style scoped>\n",
              "    .dataframe tbody tr th:only-of-type {\n",
              "        vertical-align: middle;\n",
              "    }\n",
              "\n",
              "    .dataframe tbody tr th {\n",
              "        vertical-align: top;\n",
              "    }\n",
              "\n",
              "    .dataframe thead th {\n",
              "        text-align: right;\n",
              "    }\n",
              "</style>\n",
              "<table border=\"1\" class=\"dataframe\">\n",
              "  <thead>\n",
              "    <tr style=\"text-align: right;\">\n",
              "      <th></th>\n",
              "      <th>order no</th>\n",
              "      <th>Recency</th>\n",
              "    </tr>\n",
              "  </thead>\n",
              "  <tbody>\n",
              "    <tr>\n",
              "      <th>0</th>\n",
              "      <td>065321010200000075</td>\n",
              "      <td>415</td>\n",
              "    </tr>\n",
              "    <tr>\n",
              "      <th>1</th>\n",
              "      <td>065321010200000076</td>\n",
              "      <td>414</td>\n",
              "    </tr>\n",
              "    <tr>\n",
              "      <th>2</th>\n",
              "      <td>065321010500000077</td>\n",
              "      <td>415</td>\n",
              "    </tr>\n",
              "    <tr>\n",
              "      <th>3</th>\n",
              "      <td>065321010600000078</td>\n",
              "      <td>414</td>\n",
              "    </tr>\n",
              "    <tr>\n",
              "      <th>4</th>\n",
              "      <td>065321010800000079</td>\n",
              "      <td>412</td>\n",
              "    </tr>\n",
              "  </tbody>\n",
              "</table>\n",
              "</div>\n",
              "      <button class=\"colab-df-convert\" onclick=\"convertToInteractive('df-491b5dd7-3ac2-4108-b5b0-591f00f28a99')\"\n",
              "              title=\"Convert this dataframe to an interactive table.\"\n",
              "              style=\"display:none;\">\n",
              "        \n",
              "  <svg xmlns=\"http://www.w3.org/2000/svg\" height=\"24px\"viewBox=\"0 0 24 24\"\n",
              "       width=\"24px\">\n",
              "    <path d=\"M0 0h24v24H0V0z\" fill=\"none\"/>\n",
              "    <path d=\"M18.56 5.44l.94 2.06.94-2.06 2.06-.94-2.06-.94-.94-2.06-.94 2.06-2.06.94zm-11 1L8.5 8.5l.94-2.06 2.06-.94-2.06-.94L8.5 2.5l-.94 2.06-2.06.94zm10 10l.94 2.06.94-2.06 2.06-.94-2.06-.94-.94-2.06-.94 2.06-2.06.94z\"/><path d=\"M17.41 7.96l-1.37-1.37c-.4-.4-.92-.59-1.43-.59-.52 0-1.04.2-1.43.59L10.3 9.45l-7.72 7.72c-.78.78-.78 2.05 0 2.83L4 21.41c.39.39.9.59 1.41.59.51 0 1.02-.2 1.41-.59l7.78-7.78 2.81-2.81c.8-.78.8-2.07 0-2.86zM5.41 20L4 18.59l7.72-7.72 1.47 1.35L5.41 20z\"/>\n",
              "  </svg>\n",
              "      </button>\n",
              "      \n",
              "  <style>\n",
              "    .colab-df-container {\n",
              "      display:flex;\n",
              "      flex-wrap:wrap;\n",
              "      gap: 12px;\n",
              "    }\n",
              "\n",
              "    .colab-df-convert {\n",
              "      background-color: #E8F0FE;\n",
              "      border: none;\n",
              "      border-radius: 50%;\n",
              "      cursor: pointer;\n",
              "      display: none;\n",
              "      fill: #1967D2;\n",
              "      height: 32px;\n",
              "      padding: 0 0 0 0;\n",
              "      width: 32px;\n",
              "    }\n",
              "\n",
              "    .colab-df-convert:hover {\n",
              "      background-color: #E2EBFA;\n",
              "      box-shadow: 0px 1px 2px rgba(60, 64, 67, 0.3), 0px 1px 3px 1px rgba(60, 64, 67, 0.15);\n",
              "      fill: #174EA6;\n",
              "    }\n",
              "\n",
              "    [theme=dark] .colab-df-convert {\n",
              "      background-color: #3B4455;\n",
              "      fill: #D2E3FC;\n",
              "    }\n",
              "\n",
              "    [theme=dark] .colab-df-convert:hover {\n",
              "      background-color: #434B5C;\n",
              "      box-shadow: 0px 1px 3px 1px rgba(0, 0, 0, 0.15);\n",
              "      filter: drop-shadow(0px 1px 2px rgba(0, 0, 0, 0.3));\n",
              "      fill: #FFFFFF;\n",
              "    }\n",
              "  </style>\n",
              "\n",
              "      <script>\n",
              "        const buttonEl =\n",
              "          document.querySelector('#df-491b5dd7-3ac2-4108-b5b0-591f00f28a99 button.colab-df-convert');\n",
              "        buttonEl.style.display =\n",
              "          google.colab.kernel.accessAllowed ? 'block' : 'none';\n",
              "\n",
              "        async function convertToInteractive(key) {\n",
              "          const element = document.querySelector('#df-491b5dd7-3ac2-4108-b5b0-591f00f28a99');\n",
              "          const dataTable =\n",
              "            await google.colab.kernel.invokeFunction('convertToInteractive',\n",
              "                                                     [key], {});\n",
              "          if (!dataTable) return;\n",
              "\n",
              "          const docLinkHtml = 'Like what you see? Visit the ' +\n",
              "            '<a target=\"_blank\" href=https://colab.research.google.com/notebooks/data_table.ipynb>data table notebook</a>'\n",
              "            + ' to learn more about interactive tables.';\n",
              "          element.innerHTML = '';\n",
              "          dataTable['output_type'] = 'display_data';\n",
              "          await google.colab.output.renderOutput(dataTable, element);\n",
              "          const docLink = document.createElement('div');\n",
              "          docLink.innerHTML = docLinkHtml;\n",
              "          element.appendChild(docLink);\n",
              "        }\n",
              "      </script>\n",
              "    </div>\n",
              "  </div>\n",
              "  "
            ]
          },
          "metadata": {},
          "execution_count": 51
        }
      ],
      "source": [
        "# Recency\n",
        "\n",
        "df_recency = df_all.groupby(['order no'],as_index=False)['Date'].max()\n",
        "df_recency.columns = ['order no','Last_Purchase_Date']\n",
        "\n",
        "df_recency['Recency'] = df_recency.Last_Purchase_Date.apply(lambda x:(NOW - x).days)\n",
        "df_recency.drop(columns=['Last_Purchase_Date'],inplace=True)\n",
        "df_recency.head()"
      ]
    },
    {
      "cell_type": "code",
      "execution_count": null,
      "metadata": {
        "id": "W377KtHCkmVP"
      },
      "outputs": [],
      "source": [
        "# Frequency - Monetary\n",
        "\n",
        "FM_Table = df_all.groupby('order no').agg({'order no':lambda x:len(x),\n",
        "                                        'revenue':lambda x:x.sum()})\n",
        "FM_Table.rename(columns = {'order no' :'Frequency',\n",
        "                           'revenue':'Monetary'},inplace= True)"
      ]
    },
    {
      "cell_type": "code",
      "execution_count": null,
      "metadata": {
        "id": "fh_WotnGk38d",
        "colab": {
          "base_uri": "https://localhost:8080/"
        },
        "outputId": "932e6d78-ae8a-49ee-f0cd-81c6b5d9d62a"
      },
      "outputs": [
        {
          "output_type": "execute_result",
          "data": {
            "text/plain": [
              "             order no  Recency  Frequency  Monetary\n",
              "0  065321010200000075      415          4    112000\n",
              "1  065321010200000076      414          4    142000\n",
              "2  065321010500000077      415          2     74000\n",
              "3  065321010600000078      414          4     95750\n",
              "4  065321010800000079      412          3     84000"
            ],
            "text/html": [
              "\n",
              "  <div id=\"df-369e3567-36d3-4e8d-8c9b-576760ddddd2\">\n",
              "    <div class=\"colab-df-container\">\n",
              "      <div>\n",
              "<style scoped>\n",
              "    .dataframe tbody tr th:only-of-type {\n",
              "        vertical-align: middle;\n",
              "    }\n",
              "\n",
              "    .dataframe tbody tr th {\n",
              "        vertical-align: top;\n",
              "    }\n",
              "\n",
              "    .dataframe thead th {\n",
              "        text-align: right;\n",
              "    }\n",
              "</style>\n",
              "<table border=\"1\" class=\"dataframe\">\n",
              "  <thead>\n",
              "    <tr style=\"text-align: right;\">\n",
              "      <th></th>\n",
              "      <th>order no</th>\n",
              "      <th>Recency</th>\n",
              "      <th>Frequency</th>\n",
              "      <th>Monetary</th>\n",
              "    </tr>\n",
              "  </thead>\n",
              "  <tbody>\n",
              "    <tr>\n",
              "      <th>0</th>\n",
              "      <td>065321010200000075</td>\n",
              "      <td>415</td>\n",
              "      <td>4</td>\n",
              "      <td>112000</td>\n",
              "    </tr>\n",
              "    <tr>\n",
              "      <th>1</th>\n",
              "      <td>065321010200000076</td>\n",
              "      <td>414</td>\n",
              "      <td>4</td>\n",
              "      <td>142000</td>\n",
              "    </tr>\n",
              "    <tr>\n",
              "      <th>2</th>\n",
              "      <td>065321010500000077</td>\n",
              "      <td>415</td>\n",
              "      <td>2</td>\n",
              "      <td>74000</td>\n",
              "    </tr>\n",
              "    <tr>\n",
              "      <th>3</th>\n",
              "      <td>065321010600000078</td>\n",
              "      <td>414</td>\n",
              "      <td>4</td>\n",
              "      <td>95750</td>\n",
              "    </tr>\n",
              "    <tr>\n",
              "      <th>4</th>\n",
              "      <td>065321010800000079</td>\n",
              "      <td>412</td>\n",
              "      <td>3</td>\n",
              "      <td>84000</td>\n",
              "    </tr>\n",
              "  </tbody>\n",
              "</table>\n",
              "</div>\n",
              "      <button class=\"colab-df-convert\" onclick=\"convertToInteractive('df-369e3567-36d3-4e8d-8c9b-576760ddddd2')\"\n",
              "              title=\"Convert this dataframe to an interactive table.\"\n",
              "              style=\"display:none;\">\n",
              "        \n",
              "  <svg xmlns=\"http://www.w3.org/2000/svg\" height=\"24px\"viewBox=\"0 0 24 24\"\n",
              "       width=\"24px\">\n",
              "    <path d=\"M0 0h24v24H0V0z\" fill=\"none\"/>\n",
              "    <path d=\"M18.56 5.44l.94 2.06.94-2.06 2.06-.94-2.06-.94-.94-2.06-.94 2.06-2.06.94zm-11 1L8.5 8.5l.94-2.06 2.06-.94-2.06-.94L8.5 2.5l-.94 2.06-2.06.94zm10 10l.94 2.06.94-2.06 2.06-.94-2.06-.94-.94-2.06-.94 2.06-2.06.94z\"/><path d=\"M17.41 7.96l-1.37-1.37c-.4-.4-.92-.59-1.43-.59-.52 0-1.04.2-1.43.59L10.3 9.45l-7.72 7.72c-.78.78-.78 2.05 0 2.83L4 21.41c.39.39.9.59 1.41.59.51 0 1.02-.2 1.41-.59l7.78-7.78 2.81-2.81c.8-.78.8-2.07 0-2.86zM5.41 20L4 18.59l7.72-7.72 1.47 1.35L5.41 20z\"/>\n",
              "  </svg>\n",
              "      </button>\n",
              "      \n",
              "  <style>\n",
              "    .colab-df-container {\n",
              "      display:flex;\n",
              "      flex-wrap:wrap;\n",
              "      gap: 12px;\n",
              "    }\n",
              "\n",
              "    .colab-df-convert {\n",
              "      background-color: #E8F0FE;\n",
              "      border: none;\n",
              "      border-radius: 50%;\n",
              "      cursor: pointer;\n",
              "      display: none;\n",
              "      fill: #1967D2;\n",
              "      height: 32px;\n",
              "      padding: 0 0 0 0;\n",
              "      width: 32px;\n",
              "    }\n",
              "\n",
              "    .colab-df-convert:hover {\n",
              "      background-color: #E2EBFA;\n",
              "      box-shadow: 0px 1px 2px rgba(60, 64, 67, 0.3), 0px 1px 3px 1px rgba(60, 64, 67, 0.15);\n",
              "      fill: #174EA6;\n",
              "    }\n",
              "\n",
              "    [theme=dark] .colab-df-convert {\n",
              "      background-color: #3B4455;\n",
              "      fill: #D2E3FC;\n",
              "    }\n",
              "\n",
              "    [theme=dark] .colab-df-convert:hover {\n",
              "      background-color: #434B5C;\n",
              "      box-shadow: 0px 1px 3px 1px rgba(0, 0, 0, 0.15);\n",
              "      filter: drop-shadow(0px 1px 2px rgba(0, 0, 0, 0.3));\n",
              "      fill: #FFFFFF;\n",
              "    }\n",
              "  </style>\n",
              "\n",
              "      <script>\n",
              "        const buttonEl =\n",
              "          document.querySelector('#df-369e3567-36d3-4e8d-8c9b-576760ddddd2 button.colab-df-convert');\n",
              "        buttonEl.style.display =\n",
              "          google.colab.kernel.accessAllowed ? 'block' : 'none';\n",
              "\n",
              "        async function convertToInteractive(key) {\n",
              "          const element = document.querySelector('#df-369e3567-36d3-4e8d-8c9b-576760ddddd2');\n",
              "          const dataTable =\n",
              "            await google.colab.kernel.invokeFunction('convertToInteractive',\n",
              "                                                     [key], {});\n",
              "          if (!dataTable) return;\n",
              "\n",
              "          const docLinkHtml = 'Like what you see? Visit the ' +\n",
              "            '<a target=\"_blank\" href=https://colab.research.google.com/notebooks/data_table.ipynb>data table notebook</a>'\n",
              "            + ' to learn more about interactive tables.';\n",
              "          element.innerHTML = '';\n",
              "          dataTable['output_type'] = 'display_data';\n",
              "          await google.colab.output.renderOutput(dataTable, element);\n",
              "          const docLink = document.createElement('div');\n",
              "          docLink.innerHTML = docLinkHtml;\n",
              "          element.appendChild(docLink);\n",
              "        }\n",
              "      </script>\n",
              "    </div>\n",
              "  </div>\n",
              "  "
            ]
          },
          "metadata": {},
          "execution_count": 53
        }
      ],
      "source": [
        "RFM_Table = df_recency.merge(FM_Table,left_on='order no',right_on='order no')\n",
        "RFM_Table.head()"
      ]
    },
    {
      "cell_type": "markdown",
      "metadata": {
        "id": "x7TycOmQlFU4"
      },
      "source": [
        "### Modeling Data : RFM Quantiles\n",
        "\n",
        "- Now we split the metrics into segments using quantiles.\n",
        "- We will assign a score from 1 to 4 to each Recency, Frequency and Monetary respectively.\n",
        "- 1 is the highest value, and 4 is the lowest value.\n",
        "- A final RFM score (Overall Value) is calculated simply by combining individual RFM score numbers."
      ]
    },
    {
      "cell_type": "code",
      "execution_count": null,
      "metadata": {
        "id": "2-2wXnIVlCaG",
        "colab": {
          "base_uri": "https://localhost:8080/"
        },
        "outputId": "a1e508d1-c7fb-4ea9-e155-c03875a5de43"
      },
      "outputs": [
        {
          "output_type": "execute_result",
          "data": {
            "text/plain": [
              "{'Recency': {0.25: 120.25, 0.5: 235.0, 0.75: 346.0},\n",
              " 'Frequency': {0.25: 1.0, 0.5: 2.0, 0.75: 3.0},\n",
              " 'Monetary': {0.25: 56000.0, 0.5: 92000.0, 0.75: 148000.0}}"
            ]
          },
          "metadata": {},
          "execution_count": 54
        }
      ],
      "source": [
        "# split RFM segment using quantiles\n",
        "\n",
        "quantiles = RFM_Table.quantile(q=[0.25,0.50,0.75])\n",
        "quantiles = quantiles.to_dict()\n",
        "quantiles"
      ]
    },
    {
      "cell_type": "code",
      "execution_count": null,
      "metadata": {
        "id": "M_xcoK-klKYF"
      },
      "outputs": [],
      "source": [
        "segmented_rfm = RFM_Table.copy()"
      ]
    },
    {
      "cell_type": "code",
      "execution_count": null,
      "metadata": {
        "id": "oX3FvsMXlNz9"
      },
      "outputs": [],
      "source": [
        "# function to get quantiles score\n",
        "# arguments : (x = value, p = recency, monetary_value, frequency, k = quartiles dict)\n",
        "def RScore(x,p,d):\n",
        "    if x <= d[p][0.25]:\n",
        "        return 1\n",
        "    elif x <= d[p][0.50]:\n",
        "        return 2\n",
        "    elif x<= d[p][0.75]:\n",
        "        return 3\n",
        "    else:\n",
        "        return 4\n",
        "\n",
        "def FMScore(x,p,d):\n",
        "    if x <= d[p][0.25]:\n",
        "        return 4\n",
        "    elif x <= d[p][0.50]:\n",
        "        return 3\n",
        "    elif x<= d[p][0.75]:\n",
        "        return 2\n",
        "    else:\n",
        "        return 1"
      ]
    },
    {
      "cell_type": "code",
      "execution_count": null,
      "metadata": {
        "id": "J6uTW41TlRJt",
        "colab": {
          "base_uri": "https://localhost:8080/"
        },
        "outputId": "d57ddcae-427f-45f7-8c36-1778c775f167"
      },
      "outputs": [
        {
          "output_type": "execute_result",
          "data": {
            "text/plain": [
              "               order no  Recency  Frequency  Monetary  R_quartile  F_quartile  \\\n",
              "500  E39422022400000584        0          2     92000           1           3   \n",
              "501  FF8021052700000001      273          5    140000           3           1   \n",
              "502    OL21070300000031      236          2    138000           3           3   \n",
              "503    OL21070300000032      236          3    138000           3           2   \n",
              "504    OL21070300000033      236          2    138000           3           3   \n",
              "505    OL21071600000040      223          5   4224000           2           1   \n",
              "506    OL21120600000072      121          8    900000           2           1   \n",
              "507    OL21120800000073       78          3    612000           1           2   \n",
              "508    OL22010700000079       55          2   2028600           1           3   \n",
              "509    OL22011400000080       86          1   2070000           1           4   \n",
              "\n",
              "     M_quartile  \n",
              "500           3  \n",
              "501           2  \n",
              "502           2  \n",
              "503           2  \n",
              "504           2  \n",
              "505           1  \n",
              "506           1  \n",
              "507           1  \n",
              "508           1  \n",
              "509           1  "
            ],
            "text/html": [
              "\n",
              "  <div id=\"df-4fedef9e-f77f-4ffc-acd9-754a3108a763\">\n",
              "    <div class=\"colab-df-container\">\n",
              "      <div>\n",
              "<style scoped>\n",
              "    .dataframe tbody tr th:only-of-type {\n",
              "        vertical-align: middle;\n",
              "    }\n",
              "\n",
              "    .dataframe tbody tr th {\n",
              "        vertical-align: top;\n",
              "    }\n",
              "\n",
              "    .dataframe thead th {\n",
              "        text-align: right;\n",
              "    }\n",
              "</style>\n",
              "<table border=\"1\" class=\"dataframe\">\n",
              "  <thead>\n",
              "    <tr style=\"text-align: right;\">\n",
              "      <th></th>\n",
              "      <th>order no</th>\n",
              "      <th>Recency</th>\n",
              "      <th>Frequency</th>\n",
              "      <th>Monetary</th>\n",
              "      <th>R_quartile</th>\n",
              "      <th>F_quartile</th>\n",
              "      <th>M_quartile</th>\n",
              "    </tr>\n",
              "  </thead>\n",
              "  <tbody>\n",
              "    <tr>\n",
              "      <th>500</th>\n",
              "      <td>E39422022400000584</td>\n",
              "      <td>0</td>\n",
              "      <td>2</td>\n",
              "      <td>92000</td>\n",
              "      <td>1</td>\n",
              "      <td>3</td>\n",
              "      <td>3</td>\n",
              "    </tr>\n",
              "    <tr>\n",
              "      <th>501</th>\n",
              "      <td>FF8021052700000001</td>\n",
              "      <td>273</td>\n",
              "      <td>5</td>\n",
              "      <td>140000</td>\n",
              "      <td>3</td>\n",
              "      <td>1</td>\n",
              "      <td>2</td>\n",
              "    </tr>\n",
              "    <tr>\n",
              "      <th>502</th>\n",
              "      <td>OL21070300000031</td>\n",
              "      <td>236</td>\n",
              "      <td>2</td>\n",
              "      <td>138000</td>\n",
              "      <td>3</td>\n",
              "      <td>3</td>\n",
              "      <td>2</td>\n",
              "    </tr>\n",
              "    <tr>\n",
              "      <th>503</th>\n",
              "      <td>OL21070300000032</td>\n",
              "      <td>236</td>\n",
              "      <td>3</td>\n",
              "      <td>138000</td>\n",
              "      <td>3</td>\n",
              "      <td>2</td>\n",
              "      <td>2</td>\n",
              "    </tr>\n",
              "    <tr>\n",
              "      <th>504</th>\n",
              "      <td>OL21070300000033</td>\n",
              "      <td>236</td>\n",
              "      <td>2</td>\n",
              "      <td>138000</td>\n",
              "      <td>3</td>\n",
              "      <td>3</td>\n",
              "      <td>2</td>\n",
              "    </tr>\n",
              "    <tr>\n",
              "      <th>505</th>\n",
              "      <td>OL21071600000040</td>\n",
              "      <td>223</td>\n",
              "      <td>5</td>\n",
              "      <td>4224000</td>\n",
              "      <td>2</td>\n",
              "      <td>1</td>\n",
              "      <td>1</td>\n",
              "    </tr>\n",
              "    <tr>\n",
              "      <th>506</th>\n",
              "      <td>OL21120600000072</td>\n",
              "      <td>121</td>\n",
              "      <td>8</td>\n",
              "      <td>900000</td>\n",
              "      <td>2</td>\n",
              "      <td>1</td>\n",
              "      <td>1</td>\n",
              "    </tr>\n",
              "    <tr>\n",
              "      <th>507</th>\n",
              "      <td>OL21120800000073</td>\n",
              "      <td>78</td>\n",
              "      <td>3</td>\n",
              "      <td>612000</td>\n",
              "      <td>1</td>\n",
              "      <td>2</td>\n",
              "      <td>1</td>\n",
              "    </tr>\n",
              "    <tr>\n",
              "      <th>508</th>\n",
              "      <td>OL22010700000079</td>\n",
              "      <td>55</td>\n",
              "      <td>2</td>\n",
              "      <td>2028600</td>\n",
              "      <td>1</td>\n",
              "      <td>3</td>\n",
              "      <td>1</td>\n",
              "    </tr>\n",
              "    <tr>\n",
              "      <th>509</th>\n",
              "      <td>OL22011400000080</td>\n",
              "      <td>86</td>\n",
              "      <td>1</td>\n",
              "      <td>2070000</td>\n",
              "      <td>1</td>\n",
              "      <td>4</td>\n",
              "      <td>1</td>\n",
              "    </tr>\n",
              "  </tbody>\n",
              "</table>\n",
              "</div>\n",
              "      <button class=\"colab-df-convert\" onclick=\"convertToInteractive('df-4fedef9e-f77f-4ffc-acd9-754a3108a763')\"\n",
              "              title=\"Convert this dataframe to an interactive table.\"\n",
              "              style=\"display:none;\">\n",
              "        \n",
              "  <svg xmlns=\"http://www.w3.org/2000/svg\" height=\"24px\"viewBox=\"0 0 24 24\"\n",
              "       width=\"24px\">\n",
              "    <path d=\"M0 0h24v24H0V0z\" fill=\"none\"/>\n",
              "    <path d=\"M18.56 5.44l.94 2.06.94-2.06 2.06-.94-2.06-.94-.94-2.06-.94 2.06-2.06.94zm-11 1L8.5 8.5l.94-2.06 2.06-.94-2.06-.94L8.5 2.5l-.94 2.06-2.06.94zm10 10l.94 2.06.94-2.06 2.06-.94-2.06-.94-.94-2.06-.94 2.06-2.06.94z\"/><path d=\"M17.41 7.96l-1.37-1.37c-.4-.4-.92-.59-1.43-.59-.52 0-1.04.2-1.43.59L10.3 9.45l-7.72 7.72c-.78.78-.78 2.05 0 2.83L4 21.41c.39.39.9.59 1.41.59.51 0 1.02-.2 1.41-.59l7.78-7.78 2.81-2.81c.8-.78.8-2.07 0-2.86zM5.41 20L4 18.59l7.72-7.72 1.47 1.35L5.41 20z\"/>\n",
              "  </svg>\n",
              "      </button>\n",
              "      \n",
              "  <style>\n",
              "    .colab-df-container {\n",
              "      display:flex;\n",
              "      flex-wrap:wrap;\n",
              "      gap: 12px;\n",
              "    }\n",
              "\n",
              "    .colab-df-convert {\n",
              "      background-color: #E8F0FE;\n",
              "      border: none;\n",
              "      border-radius: 50%;\n",
              "      cursor: pointer;\n",
              "      display: none;\n",
              "      fill: #1967D2;\n",
              "      height: 32px;\n",
              "      padding: 0 0 0 0;\n",
              "      width: 32px;\n",
              "    }\n",
              "\n",
              "    .colab-df-convert:hover {\n",
              "      background-color: #E2EBFA;\n",
              "      box-shadow: 0px 1px 2px rgba(60, 64, 67, 0.3), 0px 1px 3px 1px rgba(60, 64, 67, 0.15);\n",
              "      fill: #174EA6;\n",
              "    }\n",
              "\n",
              "    [theme=dark] .colab-df-convert {\n",
              "      background-color: #3B4455;\n",
              "      fill: #D2E3FC;\n",
              "    }\n",
              "\n",
              "    [theme=dark] .colab-df-convert:hover {\n",
              "      background-color: #434B5C;\n",
              "      box-shadow: 0px 1px 3px 1px rgba(0, 0, 0, 0.15);\n",
              "      filter: drop-shadow(0px 1px 2px rgba(0, 0, 0, 0.3));\n",
              "      fill: #FFFFFF;\n",
              "    }\n",
              "  </style>\n",
              "\n",
              "      <script>\n",
              "        const buttonEl =\n",
              "          document.querySelector('#df-4fedef9e-f77f-4ffc-acd9-754a3108a763 button.colab-df-convert');\n",
              "        buttonEl.style.display =\n",
              "          google.colab.kernel.accessAllowed ? 'block' : 'none';\n",
              "\n",
              "        async function convertToInteractive(key) {\n",
              "          const element = document.querySelector('#df-4fedef9e-f77f-4ffc-acd9-754a3108a763');\n",
              "          const dataTable =\n",
              "            await google.colab.kernel.invokeFunction('convertToInteractive',\n",
              "                                                     [key], {});\n",
              "          if (!dataTable) return;\n",
              "\n",
              "          const docLinkHtml = 'Like what you see? Visit the ' +\n",
              "            '<a target=\"_blank\" href=https://colab.research.google.com/notebooks/data_table.ipynb>data table notebook</a>'\n",
              "            + ' to learn more about interactive tables.';\n",
              "          element.innerHTML = '';\n",
              "          dataTable['output_type'] = 'display_data';\n",
              "          await google.colab.output.renderOutput(dataTable, element);\n",
              "          const docLink = document.createElement('div');\n",
              "          docLink.innerHTML = docLinkHtml;\n",
              "          element.appendChild(docLink);\n",
              "        }\n",
              "      </script>\n",
              "    </div>\n",
              "  </div>\n",
              "  "
            ]
          },
          "metadata": {},
          "execution_count": 57
        }
      ],
      "source": [
        "segmented_rfm['R_quartile'] = segmented_rfm['Recency'].apply(RScore, args=('Recency',quantiles))\n",
        "segmented_rfm['F_quartile'] = segmented_rfm['Frequency'].apply(FMScore, args=('Frequency',quantiles))\n",
        "segmented_rfm['M_quartile'] = segmented_rfm['Monetary'].apply(FMScore, args=('Monetary',quantiles))\n",
        "segmented_rfm.tail(10)"
      ]
    },
    {
      "cell_type": "code",
      "execution_count": null,
      "metadata": {
        "id": "a3To1siZlf5u"
      },
      "outputs": [],
      "source": [
        "segmented_rfm['RFM_Segment'] = segmented_rfm.R_quartile.map(str)+segmented_rfm.F_quartile.map(str)+segmented_rfm.M_quartile.map(str)"
      ]
    },
    {
      "cell_type": "code",
      "execution_count": null,
      "metadata": {
        "id": "6MCuuMbClkJ1"
      },
      "outputs": [],
      "source": [
        "segmented_rfm['RFM_Score'] = segmented_rfm[['R_quartile', 'F_quartile', 'M_quartile']].sum(axis=1)"
      ]
    },
    {
      "cell_type": "code",
      "execution_count": null,
      "metadata": {
        "id": "QwQXE6vJllnW",
        "colab": {
          "base_uri": "https://localhost:8080/"
        },
        "outputId": "e6000dd8-9b52-4ee6-e51f-2b4e125b4811"
      },
      "outputs": [
        {
          "output_type": "execute_result",
          "data": {
            "text/plain": [
              "               order no  Recency  Frequency  Monetary  R_quartile  F_quartile  \\\n",
              "500  E39422022400000584        0          2     92000           1           3   \n",
              "501  FF8021052700000001      273          5    140000           3           1   \n",
              "502    OL21070300000031      236          2    138000           3           3   \n",
              "503    OL21070300000032      236          3    138000           3           2   \n",
              "504    OL21070300000033      236          2    138000           3           3   \n",
              "505    OL21071600000040      223          5   4224000           2           1   \n",
              "506    OL21120600000072      121          8    900000           2           1   \n",
              "507    OL21120800000073       78          3    612000           1           2   \n",
              "508    OL22010700000079       55          2   2028600           1           3   \n",
              "509    OL22011400000080       86          1   2070000           1           4   \n",
              "\n",
              "     M_quartile RFM_Segment  RFM_Score  \n",
              "500           3         133          7  \n",
              "501           2         312          6  \n",
              "502           2         332          8  \n",
              "503           2         322          7  \n",
              "504           2         332          8  \n",
              "505           1         211          4  \n",
              "506           1         211          4  \n",
              "507           1         121          4  \n",
              "508           1         131          5  \n",
              "509           1         141          6  "
            ],
            "text/html": [
              "\n",
              "  <div id=\"df-84e24d84-dca4-45f9-8caf-dd76d4372bfc\">\n",
              "    <div class=\"colab-df-container\">\n",
              "      <div>\n",
              "<style scoped>\n",
              "    .dataframe tbody tr th:only-of-type {\n",
              "        vertical-align: middle;\n",
              "    }\n",
              "\n",
              "    .dataframe tbody tr th {\n",
              "        vertical-align: top;\n",
              "    }\n",
              "\n",
              "    .dataframe thead th {\n",
              "        text-align: right;\n",
              "    }\n",
              "</style>\n",
              "<table border=\"1\" class=\"dataframe\">\n",
              "  <thead>\n",
              "    <tr style=\"text-align: right;\">\n",
              "      <th></th>\n",
              "      <th>order no</th>\n",
              "      <th>Recency</th>\n",
              "      <th>Frequency</th>\n",
              "      <th>Monetary</th>\n",
              "      <th>R_quartile</th>\n",
              "      <th>F_quartile</th>\n",
              "      <th>M_quartile</th>\n",
              "      <th>RFM_Segment</th>\n",
              "      <th>RFM_Score</th>\n",
              "    </tr>\n",
              "  </thead>\n",
              "  <tbody>\n",
              "    <tr>\n",
              "      <th>500</th>\n",
              "      <td>E39422022400000584</td>\n",
              "      <td>0</td>\n",
              "      <td>2</td>\n",
              "      <td>92000</td>\n",
              "      <td>1</td>\n",
              "      <td>3</td>\n",
              "      <td>3</td>\n",
              "      <td>133</td>\n",
              "      <td>7</td>\n",
              "    </tr>\n",
              "    <tr>\n",
              "      <th>501</th>\n",
              "      <td>FF8021052700000001</td>\n",
              "      <td>273</td>\n",
              "      <td>5</td>\n",
              "      <td>140000</td>\n",
              "      <td>3</td>\n",
              "      <td>1</td>\n",
              "      <td>2</td>\n",
              "      <td>312</td>\n",
              "      <td>6</td>\n",
              "    </tr>\n",
              "    <tr>\n",
              "      <th>502</th>\n",
              "      <td>OL21070300000031</td>\n",
              "      <td>236</td>\n",
              "      <td>2</td>\n",
              "      <td>138000</td>\n",
              "      <td>3</td>\n",
              "      <td>3</td>\n",
              "      <td>2</td>\n",
              "      <td>332</td>\n",
              "      <td>8</td>\n",
              "    </tr>\n",
              "    <tr>\n",
              "      <th>503</th>\n",
              "      <td>OL21070300000032</td>\n",
              "      <td>236</td>\n",
              "      <td>3</td>\n",
              "      <td>138000</td>\n",
              "      <td>3</td>\n",
              "      <td>2</td>\n",
              "      <td>2</td>\n",
              "      <td>322</td>\n",
              "      <td>7</td>\n",
              "    </tr>\n",
              "    <tr>\n",
              "      <th>504</th>\n",
              "      <td>OL21070300000033</td>\n",
              "      <td>236</td>\n",
              "      <td>2</td>\n",
              "      <td>138000</td>\n",
              "      <td>3</td>\n",
              "      <td>3</td>\n",
              "      <td>2</td>\n",
              "      <td>332</td>\n",
              "      <td>8</td>\n",
              "    </tr>\n",
              "    <tr>\n",
              "      <th>505</th>\n",
              "      <td>OL21071600000040</td>\n",
              "      <td>223</td>\n",
              "      <td>5</td>\n",
              "      <td>4224000</td>\n",
              "      <td>2</td>\n",
              "      <td>1</td>\n",
              "      <td>1</td>\n",
              "      <td>211</td>\n",
              "      <td>4</td>\n",
              "    </tr>\n",
              "    <tr>\n",
              "      <th>506</th>\n",
              "      <td>OL21120600000072</td>\n",
              "      <td>121</td>\n",
              "      <td>8</td>\n",
              "      <td>900000</td>\n",
              "      <td>2</td>\n",
              "      <td>1</td>\n",
              "      <td>1</td>\n",
              "      <td>211</td>\n",
              "      <td>4</td>\n",
              "    </tr>\n",
              "    <tr>\n",
              "      <th>507</th>\n",
              "      <td>OL21120800000073</td>\n",
              "      <td>78</td>\n",
              "      <td>3</td>\n",
              "      <td>612000</td>\n",
              "      <td>1</td>\n",
              "      <td>2</td>\n",
              "      <td>1</td>\n",
              "      <td>121</td>\n",
              "      <td>4</td>\n",
              "    </tr>\n",
              "    <tr>\n",
              "      <th>508</th>\n",
              "      <td>OL22010700000079</td>\n",
              "      <td>55</td>\n",
              "      <td>2</td>\n",
              "      <td>2028600</td>\n",
              "      <td>1</td>\n",
              "      <td>3</td>\n",
              "      <td>1</td>\n",
              "      <td>131</td>\n",
              "      <td>5</td>\n",
              "    </tr>\n",
              "    <tr>\n",
              "      <th>509</th>\n",
              "      <td>OL22011400000080</td>\n",
              "      <td>86</td>\n",
              "      <td>1</td>\n",
              "      <td>2070000</td>\n",
              "      <td>1</td>\n",
              "      <td>4</td>\n",
              "      <td>1</td>\n",
              "      <td>141</td>\n",
              "      <td>6</td>\n",
              "    </tr>\n",
              "  </tbody>\n",
              "</table>\n",
              "</div>\n",
              "      <button class=\"colab-df-convert\" onclick=\"convertToInteractive('df-84e24d84-dca4-45f9-8caf-dd76d4372bfc')\"\n",
              "              title=\"Convert this dataframe to an interactive table.\"\n",
              "              style=\"display:none;\">\n",
              "        \n",
              "  <svg xmlns=\"http://www.w3.org/2000/svg\" height=\"24px\"viewBox=\"0 0 24 24\"\n",
              "       width=\"24px\">\n",
              "    <path d=\"M0 0h24v24H0V0z\" fill=\"none\"/>\n",
              "    <path d=\"M18.56 5.44l.94 2.06.94-2.06 2.06-.94-2.06-.94-.94-2.06-.94 2.06-2.06.94zm-11 1L8.5 8.5l.94-2.06 2.06-.94-2.06-.94L8.5 2.5l-.94 2.06-2.06.94zm10 10l.94 2.06.94-2.06 2.06-.94-2.06-.94-.94-2.06-.94 2.06-2.06.94z\"/><path d=\"M17.41 7.96l-1.37-1.37c-.4-.4-.92-.59-1.43-.59-.52 0-1.04.2-1.43.59L10.3 9.45l-7.72 7.72c-.78.78-.78 2.05 0 2.83L4 21.41c.39.39.9.59 1.41.59.51 0 1.02-.2 1.41-.59l7.78-7.78 2.81-2.81c.8-.78.8-2.07 0-2.86zM5.41 20L4 18.59l7.72-7.72 1.47 1.35L5.41 20z\"/>\n",
              "  </svg>\n",
              "      </button>\n",
              "      \n",
              "  <style>\n",
              "    .colab-df-container {\n",
              "      display:flex;\n",
              "      flex-wrap:wrap;\n",
              "      gap: 12px;\n",
              "    }\n",
              "\n",
              "    .colab-df-convert {\n",
              "      background-color: #E8F0FE;\n",
              "      border: none;\n",
              "      border-radius: 50%;\n",
              "      cursor: pointer;\n",
              "      display: none;\n",
              "      fill: #1967D2;\n",
              "      height: 32px;\n",
              "      padding: 0 0 0 0;\n",
              "      width: 32px;\n",
              "    }\n",
              "\n",
              "    .colab-df-convert:hover {\n",
              "      background-color: #E2EBFA;\n",
              "      box-shadow: 0px 1px 2px rgba(60, 64, 67, 0.3), 0px 1px 3px 1px rgba(60, 64, 67, 0.15);\n",
              "      fill: #174EA6;\n",
              "    }\n",
              "\n",
              "    [theme=dark] .colab-df-convert {\n",
              "      background-color: #3B4455;\n",
              "      fill: #D2E3FC;\n",
              "    }\n",
              "\n",
              "    [theme=dark] .colab-df-convert:hover {\n",
              "      background-color: #434B5C;\n",
              "      box-shadow: 0px 1px 3px 1px rgba(0, 0, 0, 0.15);\n",
              "      filter: drop-shadow(0px 1px 2px rgba(0, 0, 0, 0.3));\n",
              "      fill: #FFFFFF;\n",
              "    }\n",
              "  </style>\n",
              "\n",
              "      <script>\n",
              "        const buttonEl =\n",
              "          document.querySelector('#df-84e24d84-dca4-45f9-8caf-dd76d4372bfc button.colab-df-convert');\n",
              "        buttonEl.style.display =\n",
              "          google.colab.kernel.accessAllowed ? 'block' : 'none';\n",
              "\n",
              "        async function convertToInteractive(key) {\n",
              "          const element = document.querySelector('#df-84e24d84-dca4-45f9-8caf-dd76d4372bfc');\n",
              "          const dataTable =\n",
              "            await google.colab.kernel.invokeFunction('convertToInteractive',\n",
              "                                                     [key], {});\n",
              "          if (!dataTable) return;\n",
              "\n",
              "          const docLinkHtml = 'Like what you see? Visit the ' +\n",
              "            '<a target=\"_blank\" href=https://colab.research.google.com/notebooks/data_table.ipynb>data table notebook</a>'\n",
              "            + ' to learn more about interactive tables.';\n",
              "          element.innerHTML = '';\n",
              "          dataTable['output_type'] = 'display_data';\n",
              "          await google.colab.output.renderOutput(dataTable, element);\n",
              "          const docLink = document.createElement('div');\n",
              "          docLink.innerHTML = docLinkHtml;\n",
              "          element.appendChild(docLink);\n",
              "        }\n",
              "      </script>\n",
              "    </div>\n",
              "  </div>\n",
              "  "
            ]
          },
          "metadata": {},
          "execution_count": 60
        }
      ],
      "source": [
        "segmented_rfm.tail(10)"
      ]
    },
    {
      "cell_type": "code",
      "source": [
        "sns.boxplot(segmented_rfm['Frequency'])"
      ],
      "metadata": {
        "id": "n8kNI7Y3JkZY",
        "colab": {
          "base_uri": "https://localhost:8080/"
        },
        "outputId": "1a3b5afa-31f5-4de5-9cb3-69bba4bdbe30"
      },
      "execution_count": null,
      "outputs": [
        {
          "output_type": "execute_result",
          "data": {
            "text/plain": [
              "<matplotlib.axes._subplots.AxesSubplot at 0x7f10773e89d0>"
            ]
          },
          "metadata": {},
          "execution_count": 61
        },
        {
          "output_type": "display_data",
          "data": {
            "text/plain": [
              "<Figure size 432x288 with 1 Axes>"
            ],
            "image/png": "[encoded data removed]"
          },
          "metadata": {
            "needs_background": "light"
          }
        }
      ]
    },
    {
      "cell_type": "markdown",
      "source": [],
      "metadata": {
        "id": "NCdpQjq2ZXk0"
      }
    },
    {
      "cell_type": "code",
      "source": [
        "sns.boxplot(segmented_rfm['Recency'])"
      ],
      "metadata": {
        "colab": {
          "base_uri": "https://localhost:8080/"
        },
        "id": "0Z8yBwKMPzEb",
        "outputId": "f297adcc-6bab-4f83-9997-7867b5689a8b"
      },
      "execution_count": null,
      "outputs": [
        {
          "output_type": "execute_result",
          "data": {
            "text/plain": [
              "<matplotlib.axes._subplots.AxesSubplot at 0x7f1077387f40>"
            ]
          },
          "metadata": {},
          "execution_count": 62
        },
        {
          "output_type": "display_data",
          "data": {
            "text/plain": [
              "<Figure size 432x288 with 1 Axes>"
            ],
            "image/png": "[encoded data removed]"
          },
          "metadata": {
            "needs_background": "light"
          }
        }
      ]
    },
    {
      "cell_type": "code",
      "source": [
        "sns.boxplot(segmented_rfm['Monetary']/1000)"
      ],
      "metadata": {
        "colab": {
          "base_uri": "https://localhost:8080/"
        },
        "id": "r0bIKfeYP3kH",
        "outputId": "e223e179-57a9-458f-8b0f-ad3650ecd84e"
      },
      "execution_count": null,
      "outputs": [
        {
          "output_type": "execute_result",
          "data": {
            "text/plain": [
              "<matplotlib.axes._subplots.AxesSubplot at 0x7f10770d2280>"
            ]
          },
          "metadata": {},
          "execution_count": 63
        },
        {
          "output_type": "display_data",
          "data": {
            "text/plain": [
              "<Figure size 432x288 with 1 Axes>"
            ],
            "image/png": "[encoded data removed]"
          },
          "metadata": {
            "needs_background": "light"
          }
        }
      ]
    },
    {
      "cell_type": "code",
      "source": [
        "lower_out = [find_outliers(segmented_rfm[i])[0] for i in segmented_rfm.columns[segmented_rfm.dtypes != object]]\n",
        "upper_out = [find_outliers(segmented_rfm[i])[1] for i in segmented_rfm.columns[segmented_rfm.dtypes != object]]\n",
        "\n",
        "outlier = pd.DataFrame({\n",
        "    \"Jumlah Outlier\":[len(i) + len(j) for i, j in zip(lower_out, upper_out)],\n",
        "    \"Persentace Outlier\":[(len(i) + len(j)) / len(segmented_rfm) * 100 for i,j in zip(lower_out, upper_out)]\n",
        "}).set_index(segmented_rfm.columns[segmented_rfm.dtypes != object]).sort_values('Jumlah Outlier', ascending=False)\n",
        "outlier                    "
      ],
      "metadata": {
        "colab": {
          "base_uri": "https://localhost:8080/"
        },
        "id": "nZOzbXD4ZTjd",
        "outputId": "3a509831-6a47-4046-e16b-5bd1c833631a"
      },
      "execution_count": null,
      "outputs": [
        {
          "output_type": "execute_result",
          "data": {
            "text/plain": [
              "            Jumlah Outlier  Persentace Outlier\n",
              "Monetary                47            9.215686\n",
              "Frequency               17            3.333333\n",
              "Recency                  0            0.000000\n",
              "R_quartile               0            0.000000\n",
              "F_quartile               0            0.000000\n",
              "M_quartile               0            0.000000\n",
              "RFM_Score                0            0.000000"
            ],
            "text/html": [
              "\n",
              "  <div id=\"df-ef745f46-1fbb-443b-9edf-8889c94f0232\">\n",
              "    <div class=\"colab-df-container\">\n",
              "      <div>\n",
              "<style scoped>\n",
              "    .dataframe tbody tr th:only-of-type {\n",
              "        vertical-align: middle;\n",
              "    }\n",
              "\n",
              "    .dataframe tbody tr th {\n",
              "        vertical-align: top;\n",
              "    }\n",
              "\n",
              "    .dataframe thead th {\n",
              "        text-align: right;\n",
              "    }\n",
              "</style>\n",
              "<table border=\"1\" class=\"dataframe\">\n",
              "  <thead>\n",
              "    <tr style=\"text-align: right;\">\n",
              "      <th></th>\n",
              "      <th>Jumlah Outlier</th>\n",
              "      <th>Persentace Outlier</th>\n",
              "    </tr>\n",
              "  </thead>\n",
              "  <tbody>\n",
              "    <tr>\n",
              "      <th>Monetary</th>\n",
              "      <td>47</td>\n",
              "      <td>9.215686</td>\n",
              "    </tr>\n",
              "    <tr>\n",
              "      <th>Frequency</th>\n",
              "      <td>17</td>\n",
              "      <td>3.333333</td>\n",
              "    </tr>\n",
              "    <tr>\n",
              "      <th>Recency</th>\n",
              "      <td>0</td>\n",
              "      <td>0.000000</td>\n",
              "    </tr>\n",
              "    <tr>\n",
              "      <th>R_quartile</th>\n",
              "      <td>0</td>\n",
              "      <td>0.000000</td>\n",
              "    </tr>\n",
              "    <tr>\n",
              "      <th>F_quartile</th>\n",
              "      <td>0</td>\n",
              "      <td>0.000000</td>\n",
              "    </tr>\n",
              "    <tr>\n",
              "      <th>M_quartile</th>\n",
              "      <td>0</td>\n",
              "      <td>0.000000</td>\n",
              "    </tr>\n",
              "    <tr>\n",
              "      <th>RFM_Score</th>\n",
              "      <td>0</td>\n",
              "      <td>0.000000</td>\n",
              "    </tr>\n",
              "  </tbody>\n",
              "</table>\n",
              "</div>\n",
              "      <button class=\"colab-df-convert\" onclick=\"convertToInteractive('df-ef745f46-1fbb-443b-9edf-8889c94f0232')\"\n",
              "              title=\"Convert this dataframe to an interactive table.\"\n",
              "              style=\"display:none;\">\n",
              "        \n",
              "  <svg xmlns=\"http://www.w3.org/2000/svg\" height=\"24px\"viewBox=\"0 0 24 24\"\n",
              "       width=\"24px\">\n",
              "    <path d=\"M0 0h24v24H0V0z\" fill=\"none\"/>\n",
              "    <path d=\"M18.56 5.44l.94 2.06.94-2.06 2.06-.94-2.06-.94-.94-2.06-.94 2.06-2.06.94zm-11 1L8.5 8.5l.94-2.06 2.06-.94-2.06-.94L8.5 2.5l-.94 2.06-2.06.94zm10 10l.94 2.06.94-2.06 2.06-.94-2.06-.94-.94-2.06-.94 2.06-2.06.94z\"/><path d=\"M17.41 7.96l-1.37-1.37c-.4-.4-.92-.59-1.43-.59-.52 0-1.04.2-1.43.59L10.3 9.45l-7.72 7.72c-.78.78-.78 2.05 0 2.83L4 21.41c.39.39.9.59 1.41.59.51 0 1.02-.2 1.41-.59l7.78-7.78 2.81-2.81c.8-.78.8-2.07 0-2.86zM5.41 20L4 18.59l7.72-7.72 1.47 1.35L5.41 20z\"/>\n",
              "  </svg>\n",
              "      </button>\n",
              "      \n",
              "  <style>\n",
              "    .colab-df-container {\n",
              "      display:flex;\n",
              "      flex-wrap:wrap;\n",
              "      gap: 12px;\n",
              "    }\n",
              "\n",
              "    .colab-df-convert {\n",
              "      background-color: #E8F0FE;\n",
              "      border: none;\n",
              "      border-radius: 50%;\n",
              "      cursor: pointer;\n",
              "      display: none;\n",
              "      fill: #1967D2;\n",
              "      height: 32px;\n",
              "      padding: 0 0 0 0;\n",
              "      width: 32px;\n",
              "    }\n",
              "\n",
              "    .colab-df-convert:hover {\n",
              "      background-color: #E2EBFA;\n",
              "      box-shadow: 0px 1px 2px rgba(60, 64, 67, 0.3), 0px 1px 3px 1px rgba(60, 64, 67, 0.15);\n",
              "      fill: #174EA6;\n",
              "    }\n",
              "\n",
              "    [theme=dark] .colab-df-convert {\n",
              "      background-color: #3B4455;\n",
              "      fill: #D2E3FC;\n",
              "    }\n",
              "\n",
              "    [theme=dark] .colab-df-convert:hover {\n",
              "      background-color: #434B5C;\n",
              "      box-shadow: 0px 1px 3px 1px rgba(0, 0, 0, 0.15);\n",
              "      filter: drop-shadow(0px 1px 2px rgba(0, 0, 0, 0.3));\n",
              "      fill: #FFFFFF;\n",
              "    }\n",
              "  </style>\n",
              "\n",
              "      <script>\n",
              "        const buttonEl =\n",
              "          document.querySelector('#df-ef745f46-1fbb-443b-9edf-8889c94f0232 button.colab-df-convert');\n",
              "        buttonEl.style.display =\n",
              "          google.colab.kernel.accessAllowed ? 'block' : 'none';\n",
              "\n",
              "        async function convertToInteractive(key) {\n",
              "          const element = document.querySelector('#df-ef745f46-1fbb-443b-9edf-8889c94f0232');\n",
              "          const dataTable =\n",
              "            await google.colab.kernel.invokeFunction('convertToInteractive',\n",
              "                                                     [key], {});\n",
              "          if (!dataTable) return;\n",
              "\n",
              "          const docLinkHtml = 'Like what you see? Visit the ' +\n",
              "            '<a target=\"_blank\" href=https://colab.research.google.com/notebooks/data_table.ipynb>data table notebook</a>'\n",
              "            + ' to learn more about interactive tables.';\n",
              "          element.innerHTML = '';\n",
              "          dataTable['output_type'] = 'display_data';\n",
              "          await google.colab.output.renderOutput(dataTable, element);\n",
              "          const docLink = document.createElement('div');\n",
              "          docLink.innerHTML = docLinkHtml;\n",
              "          element.appendChild(docLink);\n",
              "        }\n",
              "      </script>\n",
              "    </div>\n",
              "  </div>\n",
              "  "
            ]
          },
          "metadata": {},
          "execution_count": 64
        }
      ]
    },
    {
      "cell_type": "markdown",
      "source": [
        "We don't need to handle outliers because in RFM modeling, outliers can be a useful value for companies in getting the right insight for each segment.\n",
        "\n",
        "- Monetary has 47 outliers with a percentage of 9.2%. We can see this in the visualization of the boxplot and table above. It can be concluded that there are transactions with monetary amounts that are far outside the IQR limit, meaning this can be a good insight for companies due to outliers in the monetary segment. is the money spent in making product purchase transactions that are far above the distribution of data\n",
        "\n",
        "- Frequency has 17 outliers with a percentage of 3.3%. We can see in the visualization of the boxplot and table above. It can be concluded that there are customers with a number of frequencies far beyond the upper wishkers limit. This means that this can be bad insight for the company because the outliers in the frequency segment are customers. I rarely shop at our store\n",
        "\n",
        "- Recency Has no outliers there is no insight we can get from recency "
      ],
      "metadata": {
        "id": "coFjl5p9bg5O"
      }
    },
    {
      "cell_type": "markdown",
      "metadata": {
        "id": "keYozkg_mX7N"
      },
      "source": [
        "# Labeling"
      ]
    },
    {
      "cell_type": "code",
      "execution_count": null,
      "metadata": {
        "id": "L490cTLzmWZX"
      },
      "outputs": [],
      "source": [
        "# Setting up the label for each client and adding the column \"Label\" to the dataframe\n",
        "\n",
        "label = [0] * len(segmented_rfm)\n",
        "\n",
        "for i in range(0,len(segmented_rfm)):\n",
        "    if segmented_rfm['RFM_Segment'][i] == '111':\n",
        "        label[i] = \"Best Customers\"\n",
        "    elif segmented_rfm['RFM_Segment'][i] == '444':\n",
        "        label[i] = \"Lost Cheap Customers\"\n",
        "    elif segmented_rfm['R_quartile'][i] == 3:\n",
        "        label[i] = \"Almost Lost\"\n",
        "    elif segmented_rfm['R_quartile'][i] == 4:\n",
        "        label[i] = \"Lost Customers\"\n",
        "    elif segmented_rfm['F_quartile'][i] == 1:\n",
        "        label[i] = \"Loyal Customers\"\n",
        "    elif segmented_rfm['M_quartile'][i] == 1:\n",
        "        label[i] = \"Big Spenders\"\n",
        "    else:\n",
        "        label[i] = \"Others\""
      ]
    },
    {
      "cell_type": "code",
      "execution_count": null,
      "metadata": {
        "id": "6VZo-lkumf2E"
      },
      "outputs": [],
      "source": [
        "# Adding the 'Label' column to our dataframe\n",
        "\n",
        "segmented_rfm['Label'] = label"
      ]
    },
    {
      "cell_type": "code",
      "execution_count": null,
      "metadata": {
        "id": "MSzTT-7wmiXV",
        "colab": {
          "base_uri": "https://localhost:8080/"
        },
        "outputId": "69c589d5-ca66-4c7f-8dcb-ce7acabe7aa9"
      },
      "outputs": [
        {
          "output_type": "execute_result",
          "data": {
            "text/plain": [
              "Others                  187\n",
              "Almost Lost             128\n",
              "Lost Customers          102\n",
              "Loyal Customers          26\n",
              "Lost Cheap Customers     25\n",
              "Big Spenders             24\n",
              "Best Customers           18\n",
              "Name: Label, dtype: int64"
            ]
          },
          "metadata": {},
          "execution_count": 67
        }
      ],
      "source": [
        "# Count the frequency that a value occurs in a dataframe column for the labels.\n",
        "\n",
        "segmented_rfm['Label'].value_counts()"
      ]
    },
    {
      "cell_type": "code",
      "execution_count": null,
      "metadata": {
        "id": "B-FxDQRlmnkd",
        "colab": {
          "base_uri": "https://localhost:8080/"
        },
        "outputId": "d8a5e45c-b756-41ec-a0ab-c61e11d968f1"
      },
      "outputs": [
        {
          "output_type": "execute_result",
          "data": {
            "text/plain": [
              "                      Percent\n",
              "Others                  36.67\n",
              "Almost Lost             25.10\n",
              "Lost Customers          20.00\n",
              "Loyal Customers          5.10\n",
              "Lost Cheap Customers     4.90\n",
              "Big Spenders             4.71\n",
              "Best Customers           3.53"
            ],
            "text/html": [
              "\n",
              "  <div id=\"df-3c55fee4-62d2-4755-8d45-3113d1c3589d\">\n",
              "    <div class=\"colab-df-container\">\n",
              "      <div>\n",
              "<style scoped>\n",
              "    .dataframe tbody tr th:only-of-type {\n",
              "        vertical-align: middle;\n",
              "    }\n",
              "\n",
              "    .dataframe tbody tr th {\n",
              "        vertical-align: top;\n",
              "    }\n",
              "\n",
              "    .dataframe thead th {\n",
              "        text-align: right;\n",
              "    }\n",
              "</style>\n",
              "<table border=\"1\" class=\"dataframe\">\n",
              "  <thead>\n",
              "    <tr style=\"text-align: right;\">\n",
              "      <th></th>\n",
              "      <th>Percent</th>\n",
              "    </tr>\n",
              "  </thead>\n",
              "  <tbody>\n",
              "    <tr>\n",
              "      <th>Others</th>\n",
              "      <td>36.67</td>\n",
              "    </tr>\n",
              "    <tr>\n",
              "      <th>Almost Lost</th>\n",
              "      <td>25.10</td>\n",
              "    </tr>\n",
              "    <tr>\n",
              "      <th>Lost Customers</th>\n",
              "      <td>20.00</td>\n",
              "    </tr>\n",
              "    <tr>\n",
              "      <th>Loyal Customers</th>\n",
              "      <td>5.10</td>\n",
              "    </tr>\n",
              "    <tr>\n",
              "      <th>Lost Cheap Customers</th>\n",
              "      <td>4.90</td>\n",
              "    </tr>\n",
              "    <tr>\n",
              "      <th>Big Spenders</th>\n",
              "      <td>4.71</td>\n",
              "    </tr>\n",
              "    <tr>\n",
              "      <th>Best Customers</th>\n",
              "      <td>3.53</td>\n",
              "    </tr>\n",
              "  </tbody>\n",
              "</table>\n",
              "</div>\n",
              "      <button class=\"colab-df-convert\" onclick=\"convertToInteractive('df-3c55fee4-62d2-4755-8d45-3113d1c3589d')\"\n",
              "              title=\"Convert this dataframe to an interactive table.\"\n",
              "              style=\"display:none;\">\n",
              "        \n",
              "  <svg xmlns=\"http://www.w3.org/2000/svg\" height=\"24px\"viewBox=\"0 0 24 24\"\n",
              "       width=\"24px\">\n",
              "    <path d=\"M0 0h24v24H0V0z\" fill=\"none\"/>\n",
              "    <path d=\"M18.56 5.44l.94 2.06.94-2.06 2.06-.94-2.06-.94-.94-2.06-.94 2.06-2.06.94zm-11 1L8.5 8.5l.94-2.06 2.06-.94-2.06-.94L8.5 2.5l-.94 2.06-2.06.94zm10 10l.94 2.06.94-2.06 2.06-.94-2.06-.94-.94-2.06-.94 2.06-2.06.94z\"/><path d=\"M17.41 7.96l-1.37-1.37c-.4-.4-.92-.59-1.43-.59-.52 0-1.04.2-1.43.59L10.3 9.45l-7.72 7.72c-.78.78-.78 2.05 0 2.83L4 21.41c.39.39.9.59 1.41.59.51 0 1.02-.2 1.41-.59l7.78-7.78 2.81-2.81c.8-.78.8-2.07 0-2.86zM5.41 20L4 18.59l7.72-7.72 1.47 1.35L5.41 20z\"/>\n",
              "  </svg>\n",
              "      </button>\n",
              "      \n",
              "  <style>\n",
              "    .colab-df-container {\n",
              "      display:flex;\n",
              "      flex-wrap:wrap;\n",
              "      gap: 12px;\n",
              "    }\n",
              "\n",
              "    .colab-df-convert {\n",
              "      background-color: #E8F0FE;\n",
              "      border: none;\n",
              "      border-radius: 50%;\n",
              "      cursor: pointer;\n",
              "      display: none;\n",
              "      fill: #1967D2;\n",
              "      height: 32px;\n",
              "      padding: 0 0 0 0;\n",
              "      width: 32px;\n",
              "    }\n",
              "\n",
              "    .colab-df-convert:hover {\n",
              "      background-color: #E2EBFA;\n",
              "      box-shadow: 0px 1px 2px rgba(60, 64, 67, 0.3), 0px 1px 3px 1px rgba(60, 64, 67, 0.15);\n",
              "      fill: #174EA6;\n",
              "    }\n",
              "\n",
              "    [theme=dark] .colab-df-convert {\n",
              "      background-color: #3B4455;\n",
              "      fill: #D2E3FC;\n",
              "    }\n",
              "\n",
              "    [theme=dark] .colab-df-convert:hover {\n",
              "      background-color: #434B5C;\n",
              "      box-shadow: 0px 1px 3px 1px rgba(0, 0, 0, 0.15);\n",
              "      filter: drop-shadow(0px 1px 2px rgba(0, 0, 0, 0.3));\n",
              "      fill: #FFFFFF;\n",
              "    }\n",
              "  </style>\n",
              "\n",
              "      <script>\n",
              "        const buttonEl =\n",
              "          document.querySelector('#df-3c55fee4-62d2-4755-8d45-3113d1c3589d button.colab-df-convert');\n",
              "        buttonEl.style.display =\n",
              "          google.colab.kernel.accessAllowed ? 'block' : 'none';\n",
              "\n",
              "        async function convertToInteractive(key) {\n",
              "          const element = document.querySelector('#df-3c55fee4-62d2-4755-8d45-3113d1c3589d');\n",
              "          const dataTable =\n",
              "            await google.colab.kernel.invokeFunction('convertToInteractive',\n",
              "                                                     [key], {});\n",
              "          if (!dataTable) return;\n",
              "\n",
              "          const docLinkHtml = 'Like what you see? Visit the ' +\n",
              "            '<a target=\"_blank\" href=https://colab.research.google.com/notebooks/data_table.ipynb>data table notebook</a>'\n",
              "            + ' to learn more about interactive tables.';\n",
              "          element.innerHTML = '';\n",
              "          dataTable['output_type'] = 'display_data';\n",
              "          await google.colab.output.renderOutput(dataTable, element);\n",
              "          const docLink = document.createElement('div');\n",
              "          docLink.innerHTML = docLinkHtml;\n",
              "          element.appendChild(docLink);\n",
              "        }\n",
              "      </script>\n",
              "    </div>\n",
              "  </div>\n",
              "  "
            ]
          },
          "metadata": {},
          "execution_count": 68
        }
      ],
      "source": [
        "percent = pd.DataFrame(round(segmented_rfm.Label.value_counts()*100/segmented_rfm.Label.count(),2))\n",
        "percent = percent.rename(columns={'Label':'Percent'})\n",
        "percent.head(7)"
      ]
    },
    {
      "cell_type": "markdown",
      "metadata": {
        "id": "cbr6FIyNReyi"
      },
      "source": [
        "From the label above we can describe each segment\n",
        "\n",
        " - Almost Lost & Lost Customers = Haven’t purchased for some time, but purchased frequently and spend the most\n",
        "\n",
        "- Best Customers = Bought most recently and most often, and spend the most\n",
        "\n",
        "- Loyal Customers = Buy most frequently\n",
        "\n",
        "- Big Spenders = Spend the most\n",
        "\n",
        "- Lost Cheap Customers = Last purchased long ago, purchased few, and spent little\n",
        "\n"
      ]
    },
    {
      "cell_type": "code",
      "execution_count": null,
      "metadata": {
        "id": "sqkmeXLHmrCN",
        "colab": {
          "base_uri": "https://localhost:8080/"
        },
        "outputId": "8d0d694d-c697-45ff-e657-7b267b8ec6d7"
      },
      "outputs": [
        {
          "output_type": "display_data",
          "data": {
            "text/plain": [
              "<Figure size 864x576 with 1 Axes>"
            ],
            "image/png": "[encoded data removed]"
          },
          "metadata": {
            "needs_background": "light"
          }
        }
      ],
      "source": [
        "sq1=segmented_rfm.groupby('Label')['order no'].nunique().sort_values(ascending=False).reset_index()\n",
        "plt.figure(figsize=(12,8))\n",
        "sns.barplot(data=sq1, x=\"Label\", y=\"order no\", palette = \"Reds_d\");"
      ]
    },
    {
      "cell_type": "markdown",
      "metadata": {
        "id": "w3wkBvBt16rp"
      },
      "source": [
        "# EDA segment"
      ]
    },
    {
      "cell_type": "code",
      "execution_count": null,
      "metadata": {
        "id": "II1kYrKs5UgC",
        "colab": {
          "base_uri": "https://localhost:8080/"
        },
        "outputId": "2946dfcf-0407-425c-d7fc-4546d7e2f1eb"
      },
      "outputs": [
        {
          "output_type": "display_data",
          "data": {
            "text/plain": [
              "<Figure size 504x504 with 1 Axes>"
            ],
            "image/png": "[encoded data removed]"
          },
          "metadata": {}
        }
      ],
      "source": [
        "# visualisasi hasil\n",
        "plt.figure(figsize=(7,7))\n",
        "plt.pie(sq1[\"order no\"], \n",
        "        autopct = '%.1f%%', \n",
        "        textprops = {'fontsize' : 10, \n",
        "                     'color' : 'white'})\n",
        "plt.title(\"RFM Segmentation\", fontsize=20)\n",
        "plt.legend(sq1[\"Label\"], loc='lower right', prop={'size': 7.7})\n",
        "plt.tight_layout()\n",
        "plt.show()"
      ]
    },
    {
      "cell_type": "markdown",
      "source": [
        "- The number of \"Other\" is still 36.7%; this segment is more dominant than the whole segment, therefore further analysis is needed.\n",
        "- The number of \"almost lost\" or \"lost customer\" segments is above 20%; to attract these customers, it is necessary to retarget them, such as by making product innovations that suit the needs of this customer.\n",
        "- The number of \"loyal customers\" in this segment is 5.1%, which means that the number of healthy customers is still low. Campaign programs or special promotions can be made to increase the number of customers in this category.\n",
        "- The percentages of \"big spenders\" and \"lost cheap customers\" are nearly identical, at 4.9% and 4.7%, respectively.It is better to make an interesting program in order to keep these customers making transactions.\n",
        "- The number of \"best customers\" is the segment with the smallest percentage, which can be increased by increasing marketing through social media. in order to attract these customers."
      ],
      "metadata": {
        "id": "C2UmU7XrvpLW"
      }
    },
    {
      "cell_type": "code",
      "execution_count": null,
      "metadata": {
        "id": "XtPW5rNz4Z9K"
      },
      "outputs": [],
      "source": [
        "res = pd.merge(df_all, segmented_rfm, on = \"order no\")"
      ]
    },
    {
      "cell_type": "code",
      "execution_count": null,
      "metadata": {
        "id": "JMqtC1Ls1yya"
      },
      "outputs": [],
      "source": [
        "other = res[(res['Label'] == 'Others')]\n",
        "loyal_customers = res[(res['Label'] == 'Loyal Customers')]\n",
        "big_spenders = res[(res['Label'] == 'Big Spenders')]\n",
        "almost_lost = res[(res['Label'] == 'Almost Lost')]\n",
        "lost_customers = res[(res['Label'] == 'Lost Customers')]\n",
        "best_customers = res[(res['Label'] == 'Best Customers')]\n",
        "lost_cheap_customers = res[(res['Label'] == 'Lost Cheap Customers')]"
      ]
    },
    {
      "cell_type": "markdown",
      "source": [
        "## Segment Other"
      ],
      "metadata": {
        "id": "4JQT0syngalR"
      }
    },
    {
      "cell_type": "code",
      "execution_count": null,
      "metadata": {
        "id": "mM0Z0ywi5VUh"
      },
      "outputs": [],
      "source": [
        "df_other = other.groupby('item name').qty.sum()\n",
        "df_other = pd.DataFrame(df_other)\n",
        "df_other = df_other.reset_index()\n",
        "df_other['percent'] = round(df_other['qty']*100/sum(df_other['qty']),2)\n",
        "df_other_top5 = df_other.sort_values(by=['qty']).tail()"
      ]
    },
    {
      "cell_type": "code",
      "execution_count": null,
      "metadata": {
        "id": "1gwA9UVAaQhC",
        "colab": {
          "base_uri": "https://localhost:8080/"
        },
        "outputId": "1a402fe5-177a-4a05-e74a-c236e04e2219"
      },
      "outputs": [
        {
          "output_type": "execute_result",
          "data": {
            "text/plain": [
              "Text(0, 0.5, 'qty')"
            ]
          },
          "metadata": {},
          "execution_count": 74
        },
        {
          "output_type": "display_data",
          "data": {
            "text/plain": [
              "<Figure size 720x432 with 1 Axes>"
            ],
            "image/png": "[encoded data removed]"
          },
          "metadata": {
            "needs_background": "light"
          }
        }
      ],
      "source": [
        "plt.figure(figsize=(10,6))\n",
        "plt.bar(df_other_top5['item name'],df_other_top5['qty'])\n",
        "plt.title('Top 5 Chocolate Sold in Segment Other')\n",
        "plt.xlabel('Item Name')\n",
        "plt.ylabel('qty')"
      ]
    },
    {
      "cell_type": "code",
      "source": [
        "df_other_top5"
      ],
      "metadata": {
        "id": "jShLbOn1vUKI",
        "colab": {
          "base_uri": "https://localhost:8080/"
        },
        "outputId": "e63ebe4f-b118-4063-ae15-16f0044b8197"
      },
      "execution_count": null,
      "outputs": [
        {
          "output_type": "execute_result",
          "data": {
            "text/plain": [
              "                  item name  qty  percent\n",
              "12        Pregnancy - 90 gr   35     8.58\n",
              "13    Sleeping Well - 35 gr   41    10.05\n",
              "15  Stress Reliever - 35 gr   43    10.54\n",
              "6         Lactation - 35 gr   45    11.03\n",
              "7         Lactation - 90 gr   47    11.52"
            ],
            "text/html": [
              "\n",
              "  <div id=\"df-db1843b9-7af3-4de0-b9ed-e507fc79a6d6\">\n",
              "    <div class=\"colab-df-container\">\n",
              "      <div>\n",
              "<style scoped>\n",
              "    .dataframe tbody tr th:only-of-type {\n",
              "        vertical-align: middle;\n",
              "    }\n",
              "\n",
              "    .dataframe tbody tr th {\n",
              "        vertical-align: top;\n",
              "    }\n",
              "\n",
              "    .dataframe thead th {\n",
              "        text-align: right;\n",
              "    }\n",
              "</style>\n",
              "<table border=\"1\" class=\"dataframe\">\n",
              "  <thead>\n",
              "    <tr style=\"text-align: right;\">\n",
              "      <th></th>\n",
              "      <th>item name</th>\n",
              "      <th>qty</th>\n",
              "      <th>percent</th>\n",
              "    </tr>\n",
              "  </thead>\n",
              "  <tbody>\n",
              "    <tr>\n",
              "      <th>12</th>\n",
              "      <td>Pregnancy - 90 gr</td>\n",
              "      <td>35</td>\n",
              "      <td>8.58</td>\n",
              "    </tr>\n",
              "    <tr>\n",
              "      <th>13</th>\n",
              "      <td>Sleeping Well - 35 gr</td>\n",
              "      <td>41</td>\n",
              "      <td>10.05</td>\n",
              "    </tr>\n",
              "    <tr>\n",
              "      <th>15</th>\n",
              "      <td>Stress Reliever - 35 gr</td>\n",
              "      <td>43</td>\n",
              "      <td>10.54</td>\n",
              "    </tr>\n",
              "    <tr>\n",
              "      <th>6</th>\n",
              "      <td>Lactation - 35 gr</td>\n",
              "      <td>45</td>\n",
              "      <td>11.03</td>\n",
              "    </tr>\n",
              "    <tr>\n",
              "      <th>7</th>\n",
              "      <td>Lactation - 90 gr</td>\n",
              "      <td>47</td>\n",
              "      <td>11.52</td>\n",
              "    </tr>\n",
              "  </tbody>\n",
              "</table>\n",
              "</div>\n",
              "      <button class=\"colab-df-convert\" onclick=\"convertToInteractive('df-db1843b9-7af3-4de0-b9ed-e507fc79a6d6')\"\n",
              "              title=\"Convert this dataframe to an interactive table.\"\n",
              "              style=\"display:none;\">\n",
              "        \n",
              "  <svg xmlns=\"http://www.w3.org/2000/svg\" height=\"24px\"viewBox=\"0 0 24 24\"\n",
              "       width=\"24px\">\n",
              "    <path d=\"M0 0h24v24H0V0z\" fill=\"none\"/>\n",
              "    <path d=\"M18.56 5.44l.94 2.06.94-2.06 2.06-.94-2.06-.94-.94-2.06-.94 2.06-2.06.94zm-11 1L8.5 8.5l.94-2.06 2.06-.94-2.06-.94L8.5 2.5l-.94 2.06-2.06.94zm10 10l.94 2.06.94-2.06 2.06-.94-2.06-.94-.94-2.06-.94 2.06-2.06.94z\"/><path d=\"M17.41 7.96l-1.37-1.37c-.4-.4-.92-.59-1.43-.59-.52 0-1.04.2-1.43.59L10.3 9.45l-7.72 7.72c-.78.78-.78 2.05 0 2.83L4 21.41c.39.39.9.59 1.41.59.51 0 1.02-.2 1.41-.59l7.78-7.78 2.81-2.81c.8-.78.8-2.07 0-2.86zM5.41 20L4 18.59l7.72-7.72 1.47 1.35L5.41 20z\"/>\n",
              "  </svg>\n",
              "      </button>\n",
              "      \n",
              "  <style>\n",
              "    .colab-df-container {\n",
              "      display:flex;\n",
              "      flex-wrap:wrap;\n",
              "      gap: 12px;\n",
              "    }\n",
              "\n",
              "    .colab-df-convert {\n",
              "      background-color: #E8F0FE;\n",
              "      border: none;\n",
              "      border-radius: 50%;\n",
              "      cursor: pointer;\n",
              "      display: none;\n",
              "      fill: #1967D2;\n",
              "      height: 32px;\n",
              "      padding: 0 0 0 0;\n",
              "      width: 32px;\n",
              "    }\n",
              "\n",
              "    .colab-df-convert:hover {\n",
              "      background-color: #E2EBFA;\n",
              "      box-shadow: 0px 1px 2px rgba(60, 64, 67, 0.3), 0px 1px 3px 1px rgba(60, 64, 67, 0.15);\n",
              "      fill: #174EA6;\n",
              "    }\n",
              "\n",
              "    [theme=dark] .colab-df-convert {\n",
              "      background-color: #3B4455;\n",
              "      fill: #D2E3FC;\n",
              "    }\n",
              "\n",
              "    [theme=dark] .colab-df-convert:hover {\n",
              "      background-color: #434B5C;\n",
              "      box-shadow: 0px 1px 3px 1px rgba(0, 0, 0, 0.15);\n",
              "      filter: drop-shadow(0px 1px 2px rgba(0, 0, 0, 0.3));\n",
              "      fill: #FFFFFF;\n",
              "    }\n",
              "  </style>\n",
              "\n",
              "      <script>\n",
              "        const buttonEl =\n",
              "          document.querySelector('#df-db1843b9-7af3-4de0-b9ed-e507fc79a6d6 button.colab-df-convert');\n",
              "        buttonEl.style.display =\n",
              "          google.colab.kernel.accessAllowed ? 'block' : 'none';\n",
              "\n",
              "        async function convertToInteractive(key) {\n",
              "          const element = document.querySelector('#df-db1843b9-7af3-4de0-b9ed-e507fc79a6d6');\n",
              "          const dataTable =\n",
              "            await google.colab.kernel.invokeFunction('convertToInteractive',\n",
              "                                                     [key], {});\n",
              "          if (!dataTable) return;\n",
              "\n",
              "          const docLinkHtml = 'Like what you see? Visit the ' +\n",
              "            '<a target=\"_blank\" href=https://colab.research.google.com/notebooks/data_table.ipynb>data table notebook</a>'\n",
              "            + ' to learn more about interactive tables.';\n",
              "          element.innerHTML = '';\n",
              "          dataTable['output_type'] = 'display_data';\n",
              "          await google.colab.output.renderOutput(dataTable, element);\n",
              "          const docLink = document.createElement('div');\n",
              "          docLink.innerHTML = docLinkHtml;\n",
              "          element.appendChild(docLink);\n",
              "        }\n",
              "      </script>\n",
              "    </div>\n",
              "  </div>\n",
              "  "
            ]
          },
          "metadata": {},
          "execution_count": 75
        }
      ]
    },
    {
      "cell_type": "code",
      "source": [
        "#segmented_rfm.to_csv('data_nichoa.csv')"
      ],
      "metadata": {
        "id": "PA_Z_4Ayb8ta"
      },
      "execution_count": null,
      "outputs": []
    },
    {
      "cell_type": "markdown",
      "metadata": {
        "id": "R5EwRwOtDL_x"
      },
      "source": [
        "###Other Segment is a segment which have not been labeled###\n",
        "\n",
        "other adalah customers yang berbelanja ke toko dalam rentang waktu kurang dari 8 bulan, customers others cenderung cenderung customers yang masih aman, others juga berpotensi menjadi best customers jika customers pada segment ini sering berbelanja.\n",
        "\n",
        "The Choclate Bar type product with the name \"Lactation -- 90 gr.\" with precentage 11.52% is the best-selling product in the Other Segment, so we can assume that most customers in the Other Segment buy this product.\n",
        "are mothers who are breastfeeding.\n",
        "\n",
        "\n",
        "Each product has different ingredients; the best-selling products in this segment contain ingredients that are healthy and safe for customers who are breastfeeding. This product innovation also makes it clear that in this segment, the average buyer is female and breastfeeding.\n",
        "\n",
        "for the largest purchase size is a product with a size of 90 gr chocolate, meaning that buyers in this segment are quite exclusive because if we look at the price for a 90 gr size, it is Rp. 46,000. Customers in this segment are dominated by established buyers in the sense that they have a fairly stable economy.\n",
        "\n"
      ]
    },
    {
      "cell_type": "markdown",
      "source": [
        "## Segment Loyal Customers"
      ],
      "metadata": {
        "id": "hyeOy2aEgf5U"
      }
    },
    {
      "cell_type": "code",
      "execution_count": null,
      "metadata": {
        "id": "PAQcdWfV_94y"
      },
      "outputs": [],
      "source": [
        "df_loyal_customers = loyal_customers.groupby('item name').qty.sum()\n",
        "df_loyal_customers = pd.DataFrame(df_loyal_customers)\n",
        "df_loyal_customers = df_loyal_customers.reset_index()\n",
        "df_loyal_customers['percent'] = round(df_loyal_customers['qty']*100/sum(df_loyal_customers['qty']),2)\n",
        "df_loyal_customers_top5 = df_loyal_customers.sort_values(by=['qty']).tail()"
      ]
    },
    {
      "cell_type": "code",
      "execution_count": null,
      "metadata": {
        "id": "_dOSx63UBOF_",
        "colab": {
          "base_uri": "https://localhost:8080/"
        },
        "outputId": "f8a0b63e-fa33-4872-bc11-f9ae43eecef5"
      },
      "outputs": [
        {
          "output_type": "execute_result",
          "data": {
            "text/plain": [
              "Text(0, 0.5, 'qty')"
            ]
          },
          "metadata": {},
          "execution_count": 78
        },
        {
          "output_type": "display_data",
          "data": {
            "text/plain": [
              "<Figure size 720x432 with 1 Axes>"
            ],
            "image/png": "[encoded data removed]"
          },
          "metadata": {
            "needs_background": "light"
          }
        }
      ],
      "source": [
        "plt.figure(figsize=(10,6))\n",
        "plt.bar(df_loyal_customers_top5['item name'],df_loyal_customers_top5['qty'])\n",
        "plt.title('Top 5 Chocolate Sold in Segment Loyal Customers')\n",
        "plt.xlabel('Item Name')\n",
        "plt.ylabel('qty')"
      ]
    },
    {
      "cell_type": "code",
      "execution_count": null,
      "metadata": {
        "id": "ATaM5e0knkZD",
        "colab": {
          "base_uri": "https://localhost:8080/"
        },
        "outputId": "a5c16eb7-9417-473f-b7b6-3e3d014104ad"
      },
      "outputs": [
        {
          "output_type": "execute_result",
          "data": {
            "text/plain": [
              "                  item name  qty  percent\n",
              "10        Pregnancy - 90 gr   25     9.69\n",
              "12    Sleeping Well - 90 gr   30    11.63\n",
              "5         Lactation - 35 gr   32    12.40\n",
              "3    Immune Booster - 35 gr   44    17.05\n",
              "13  Stress Reliever - 35 gr   46    17.83"
            ],
            "text/html": [
              "\n",
              "  <div id=\"df-782e396c-3804-4519-b0a2-728ff6305c2c\">\n",
              "    <div class=\"colab-df-container\">\n",
              "      <div>\n",
              "<style scoped>\n",
              "    .dataframe tbody tr th:only-of-type {\n",
              "        vertical-align: middle;\n",
              "    }\n",
              "\n",
              "    .dataframe tbody tr th {\n",
              "        vertical-align: top;\n",
              "    }\n",
              "\n",
              "    .dataframe thead th {\n",
              "        text-align: right;\n",
              "    }\n",
              "</style>\n",
              "<table border=\"1\" class=\"dataframe\">\n",
              "  <thead>\n",
              "    <tr style=\"text-align: right;\">\n",
              "      <th></th>\n",
              "      <th>item name</th>\n",
              "      <th>qty</th>\n",
              "      <th>percent</th>\n",
              "    </tr>\n",
              "  </thead>\n",
              "  <tbody>\n",
              "    <tr>\n",
              "      <th>10</th>\n",
              "      <td>Pregnancy - 90 gr</td>\n",
              "      <td>25</td>\n",
              "      <td>9.69</td>\n",
              "    </tr>\n",
              "    <tr>\n",
              "      <th>12</th>\n",
              "      <td>Sleeping Well - 90 gr</td>\n",
              "      <td>30</td>\n",
              "      <td>11.63</td>\n",
              "    </tr>\n",
              "    <tr>\n",
              "      <th>5</th>\n",
              "      <td>Lactation - 35 gr</td>\n",
              "      <td>32</td>\n",
              "      <td>12.40</td>\n",
              "    </tr>\n",
              "    <tr>\n",
              "      <th>3</th>\n",
              "      <td>Immune Booster - 35 gr</td>\n",
              "      <td>44</td>\n",
              "      <td>17.05</td>\n",
              "    </tr>\n",
              "    <tr>\n",
              "      <th>13</th>\n",
              "      <td>Stress Reliever - 35 gr</td>\n",
              "      <td>46</td>\n",
              "      <td>17.83</td>\n",
              "    </tr>\n",
              "  </tbody>\n",
              "</table>\n",
              "</div>\n",
              "      <button class=\"colab-df-convert\" onclick=\"convertToInteractive('df-782e396c-3804-4519-b0a2-728ff6305c2c')\"\n",
              "              title=\"Convert this dataframe to an interactive table.\"\n",
              "              style=\"display:none;\">\n",
              "        \n",
              "  <svg xmlns=\"http://www.w3.org/2000/svg\" height=\"24px\"viewBox=\"0 0 24 24\"\n",
              "       width=\"24px\">\n",
              "    <path d=\"M0 0h24v24H0V0z\" fill=\"none\"/>\n",
              "    <path d=\"M18.56 5.44l.94 2.06.94-2.06 2.06-.94-2.06-.94-.94-2.06-.94 2.06-2.06.94zm-11 1L8.5 8.5l.94-2.06 2.06-.94-2.06-.94L8.5 2.5l-.94 2.06-2.06.94zm10 10l.94 2.06.94-2.06 2.06-.94-2.06-.94-.94-2.06-.94 2.06-2.06.94z\"/><path d=\"M17.41 7.96l-1.37-1.37c-.4-.4-.92-.59-1.43-.59-.52 0-1.04.2-1.43.59L10.3 9.45l-7.72 7.72c-.78.78-.78 2.05 0 2.83L4 21.41c.39.39.9.59 1.41.59.51 0 1.02-.2 1.41-.59l7.78-7.78 2.81-2.81c.8-.78.8-2.07 0-2.86zM5.41 20L4 18.59l7.72-7.72 1.47 1.35L5.41 20z\"/>\n",
              "  </svg>\n",
              "      </button>\n",
              "      \n",
              "  <style>\n",
              "    .colab-df-container {\n",
              "      display:flex;\n",
              "      flex-wrap:wrap;\n",
              "      gap: 12px;\n",
              "    }\n",
              "\n",
              "    .colab-df-convert {\n",
              "      background-color: #E8F0FE;\n",
              "      border: none;\n",
              "      border-radius: 50%;\n",
              "      cursor: pointer;\n",
              "      display: none;\n",
              "      fill: #1967D2;\n",
              "      height: 32px;\n",
              "      padding: 0 0 0 0;\n",
              "      width: 32px;\n",
              "    }\n",
              "\n",
              "    .colab-df-convert:hover {\n",
              "      background-color: #E2EBFA;\n",
              "      box-shadow: 0px 1px 2px rgba(60, 64, 67, 0.3), 0px 1px 3px 1px rgba(60, 64, 67, 0.15);\n",
              "      fill: #174EA6;\n",
              "    }\n",
              "\n",
              "    [theme=dark] .colab-df-convert {\n",
              "      background-color: #3B4455;\n",
              "      fill: #D2E3FC;\n",
              "    }\n",
              "\n",
              "    [theme=dark] .colab-df-convert:hover {\n",
              "      background-color: #434B5C;\n",
              "      box-shadow: 0px 1px 3px 1px rgba(0, 0, 0, 0.15);\n",
              "      filter: drop-shadow(0px 1px 2px rgba(0, 0, 0, 0.3));\n",
              "      fill: #FFFFFF;\n",
              "    }\n",
              "  </style>\n",
              "\n",
              "      <script>\n",
              "        const buttonEl =\n",
              "          document.querySelector('#df-782e396c-3804-4519-b0a2-728ff6305c2c button.colab-df-convert');\n",
              "        buttonEl.style.display =\n",
              "          google.colab.kernel.accessAllowed ? 'block' : 'none';\n",
              "\n",
              "        async function convertToInteractive(key) {\n",
              "          const element = document.querySelector('#df-782e396c-3804-4519-b0a2-728ff6305c2c');\n",
              "          const dataTable =\n",
              "            await google.colab.kernel.invokeFunction('convertToInteractive',\n",
              "                                                     [key], {});\n",
              "          if (!dataTable) return;\n",
              "\n",
              "          const docLinkHtml = 'Like what you see? Visit the ' +\n",
              "            '<a target=\"_blank\" href=https://colab.research.google.com/notebooks/data_table.ipynb>data table notebook</a>'\n",
              "            + ' to learn more about interactive tables.';\n",
              "          element.innerHTML = '';\n",
              "          dataTable['output_type'] = 'display_data';\n",
              "          await google.colab.output.renderOutput(dataTable, element);\n",
              "          const docLink = document.createElement('div');\n",
              "          docLink.innerHTML = docLinkHtml;\n",
              "          element.appendChild(docLink);\n",
              "        }\n",
              "      </script>\n",
              "    </div>\n",
              "  </div>\n",
              "  "
            ]
          },
          "metadata": {},
          "execution_count": 79
        }
      ],
      "source": [
        "df_loyal_customers_top5"
      ]
    },
    {
      "cell_type": "markdown",
      "metadata": {
        "id": "Ejhp68SZwpsn"
      },
      "source": [
        "###Loyal Customers are customers Buy most frequently ###\n",
        "\n",
        "\n",
        "In this segment, the chocolate bar-type product with the name \"Stress Reliever-35gr\" with precentage 17.05% is the best-selling product. We can assume that customers in this segment are more likely to choose healthy snacks because the ingredients in chocolate can help give you energy and make you relax.\n",
        "\n",
        "Even though the percentage of the loyal customer segment is quite small only 5.1%, this segment is the one with the most frequent product purchases in stores, so Nicoa should pay attention to this segment.\n",
        "\n",
        "I assume that in this segment, most of them are customers who already know the quality and taste of the product and tend to give positive reviews about it.\n",
        "\n",
        "Customer loyalty is built on a foundation of consistently high-quality products, outstanding customer service, positive customer experiences, and ultimately, customer satisfaction, which Nicoa can sustain because this impacts a customer's readiness to make repeat purchases and consistently prefer one nichoa offering over a competitor's.\n",
        "."
      ]
    },
    {
      "cell_type": "markdown",
      "source": [
        "## Big Spenders"
      ],
      "metadata": {
        "id": "XG7Vhqj99ZWD"
      }
    },
    {
      "cell_type": "code",
      "execution_count": null,
      "metadata": {
        "id": "OACtg16qBS2Q"
      },
      "outputs": [],
      "source": [
        "df_big_spenders = big_spenders.groupby('item name').qty.sum()\n",
        "df_big_spenders = pd.DataFrame(df_big_spenders)\n",
        "df_big_spenders = df_big_spenders.reset_index()\n",
        "df_big_spenders['percent'] = round(df_big_spenders['qty']*100/sum(df_big_spenders['qty']),2)\n",
        "df_big_spenders_top5 = df_big_spenders.sort_values(by=['qty']).tail()"
      ]
    },
    {
      "cell_type": "code",
      "execution_count": null,
      "metadata": {
        "id": "-Z15ATX4o1Iz",
        "colab": {
          "base_uri": "https://localhost:8080/"
        },
        "outputId": "e8fbd82a-a91b-4bd4-ddf3-6b3fcf29e7fd"
      },
      "outputs": [
        {
          "output_type": "execute_result",
          "data": {
            "text/plain": [
              "Text(0, 0.5, 'qty')"
            ]
          },
          "metadata": {},
          "execution_count": 81
        },
        {
          "output_type": "display_data",
          "data": {
            "text/plain": [
              "<Figure size 720x432 with 1 Axes>"
            ],
            "image/png": "[encoded data removed]"
          },
          "metadata": {
            "needs_background": "light"
          }
        }
      ],
      "source": [
        "plt.figure(figsize=(10,6))\n",
        "plt.bar(df_big_spenders_top5['item name'],df_big_spenders_top5['qty'])\n",
        "plt.title('Top 5 Chocolate Sold in Segment Big Spenders')\n",
        "plt.xlabel('Item Name')\n",
        "plt.ylabel('qty')"
      ]
    },
    {
      "cell_type": "code",
      "execution_count": null,
      "metadata": {
        "id": "aXHYwrEiBWEJ",
        "colab": {
          "base_uri": "https://localhost:8080/"
        },
        "outputId": "071d7776-6be0-4fee-da56-f140cd239508"
      },
      "outputs": [
        {
          "output_type": "execute_result",
          "data": {
            "text/plain": [
              "                  item name  qty  percent\n",
              "3    Immune Booster - 35 gr   41     9.26\n",
              "11    Sleeping Well - 35 gr   47    10.61\n",
              "13  Stress Reliever - 35 gr   56    12.64\n",
              "5         Lactation - 35 gr   56    12.64\n",
              "10        Pregnancy - 90 gr   98    22.12"
            ],
            "text/html": [
              "\n",
              "  <div id=\"df-2062375f-a5b8-4c7c-9ea4-68430239061c\">\n",
              "    <div class=\"colab-df-container\">\n",
              "      <div>\n",
              "<style scoped>\n",
              "    .dataframe tbody tr th:only-of-type {\n",
              "        vertical-align: middle;\n",
              "    }\n",
              "\n",
              "    .dataframe tbody tr th {\n",
              "        vertical-align: top;\n",
              "    }\n",
              "\n",
              "    .dataframe thead th {\n",
              "        text-align: right;\n",
              "    }\n",
              "</style>\n",
              "<table border=\"1\" class=\"dataframe\">\n",
              "  <thead>\n",
              "    <tr style=\"text-align: right;\">\n",
              "      <th></th>\n",
              "      <th>item name</th>\n",
              "      <th>qty</th>\n",
              "      <th>percent</th>\n",
              "    </tr>\n",
              "  </thead>\n",
              "  <tbody>\n",
              "    <tr>\n",
              "      <th>3</th>\n",
              "      <td>Immune Booster - 35 gr</td>\n",
              "      <td>41</td>\n",
              "      <td>9.26</td>\n",
              "    </tr>\n",
              "    <tr>\n",
              "      <th>11</th>\n",
              "      <td>Sleeping Well - 35 gr</td>\n",
              "      <td>47</td>\n",
              "      <td>10.61</td>\n",
              "    </tr>\n",
              "    <tr>\n",
              "      <th>13</th>\n",
              "      <td>Stress Reliever - 35 gr</td>\n",
              "      <td>56</td>\n",
              "      <td>12.64</td>\n",
              "    </tr>\n",
              "    <tr>\n",
              "      <th>5</th>\n",
              "      <td>Lactation - 35 gr</td>\n",
              "      <td>56</td>\n",
              "      <td>12.64</td>\n",
              "    </tr>\n",
              "    <tr>\n",
              "      <th>10</th>\n",
              "      <td>Pregnancy - 90 gr</td>\n",
              "      <td>98</td>\n",
              "      <td>22.12</td>\n",
              "    </tr>\n",
              "  </tbody>\n",
              "</table>\n",
              "</div>\n",
              "      <button class=\"colab-df-convert\" onclick=\"convertToInteractive('df-2062375f-a5b8-4c7c-9ea4-68430239061c')\"\n",
              "              title=\"Convert this dataframe to an interactive table.\"\n",
              "              style=\"display:none;\">\n",
              "        \n",
              "  <svg xmlns=\"http://www.w3.org/2000/svg\" height=\"24px\"viewBox=\"0 0 24 24\"\n",
              "       width=\"24px\">\n",
              "    <path d=\"M0 0h24v24H0V0z\" fill=\"none\"/>\n",
              "    <path d=\"M18.56 5.44l.94 2.06.94-2.06 2.06-.94-2.06-.94-.94-2.06-.94 2.06-2.06.94zm-11 1L8.5 8.5l.94-2.06 2.06-.94-2.06-.94L8.5 2.5l-.94 2.06-2.06.94zm10 10l.94 2.06.94-2.06 2.06-.94-2.06-.94-.94-2.06-.94 2.06-2.06.94z\"/><path d=\"M17.41 7.96l-1.37-1.37c-.4-.4-.92-.59-1.43-.59-.52 0-1.04.2-1.43.59L10.3 9.45l-7.72 7.72c-.78.78-.78 2.05 0 2.83L4 21.41c.39.39.9.59 1.41.59.51 0 1.02-.2 1.41-.59l7.78-7.78 2.81-2.81c.8-.78.8-2.07 0-2.86zM5.41 20L4 18.59l7.72-7.72 1.47 1.35L5.41 20z\"/>\n",
              "  </svg>\n",
              "      </button>\n",
              "      \n",
              "  <style>\n",
              "    .colab-df-container {\n",
              "      display:flex;\n",
              "      flex-wrap:wrap;\n",
              "      gap: 12px;\n",
              "    }\n",
              "\n",
              "    .colab-df-convert {\n",
              "      background-color: #E8F0FE;\n",
              "      border: none;\n",
              "      border-radius: 50%;\n",
              "      cursor: pointer;\n",
              "      display: none;\n",
              "      fill: #1967D2;\n",
              "      height: 32px;\n",
              "      padding: 0 0 0 0;\n",
              "      width: 32px;\n",
              "    }\n",
              "\n",
              "    .colab-df-convert:hover {\n",
              "      background-color: #E2EBFA;\n",
              "      box-shadow: 0px 1px 2px rgba(60, 64, 67, 0.3), 0px 1px 3px 1px rgba(60, 64, 67, 0.15);\n",
              "      fill: #174EA6;\n",
              "    }\n",
              "\n",
              "    [theme=dark] .colab-df-convert {\n",
              "      background-color: #3B4455;\n",
              "      fill: #D2E3FC;\n",
              "    }\n",
              "\n",
              "    [theme=dark] .colab-df-convert:hover {\n",
              "      background-color: #434B5C;\n",
              "      box-shadow: 0px 1px 3px 1px rgba(0, 0, 0, 0.15);\n",
              "      filter: drop-shadow(0px 1px 2px rgba(0, 0, 0, 0.3));\n",
              "      fill: #FFFFFF;\n",
              "    }\n",
              "  </style>\n",
              "\n",
              "      <script>\n",
              "        const buttonEl =\n",
              "          document.querySelector('#df-2062375f-a5b8-4c7c-9ea4-68430239061c button.colab-df-convert');\n",
              "        buttonEl.style.display =\n",
              "          google.colab.kernel.accessAllowed ? 'block' : 'none';\n",
              "\n",
              "        async function convertToInteractive(key) {\n",
              "          const element = document.querySelector('#df-2062375f-a5b8-4c7c-9ea4-68430239061c');\n",
              "          const dataTable =\n",
              "            await google.colab.kernel.invokeFunction('convertToInteractive',\n",
              "                                                     [key], {});\n",
              "          if (!dataTable) return;\n",
              "\n",
              "          const docLinkHtml = 'Like what you see? Visit the ' +\n",
              "            '<a target=\"_blank\" href=https://colab.research.google.com/notebooks/data_table.ipynb>data table notebook</a>'\n",
              "            + ' to learn more about interactive tables.';\n",
              "          element.innerHTML = '';\n",
              "          dataTable['output_type'] = 'display_data';\n",
              "          await google.colab.output.renderOutput(dataTable, element);\n",
              "          const docLink = document.createElement('div');\n",
              "          docLink.innerHTML = docLinkHtml;\n",
              "          element.appendChild(docLink);\n",
              "        }\n",
              "      </script>\n",
              "    </div>\n",
              "  </div>\n",
              "  "
            ]
          },
          "metadata": {},
          "execution_count": 82
        }
      ],
      "source": [
        "df_big_spenders_top5"
      ]
    },
    {
      "cell_type": "markdown",
      "metadata": {
        "id": "Cd4P4WGlGApO"
      },
      "source": [
        "###Big Spenders are Customers Spend the most### \n",
        "\n",
        "\n",
        "In the Big Spender segment, for this chocolate bar type product, the most purchased are \"lactation-35gr\" with presentage 12.64% and \"pregnancy-90gr\" with precentage 22.12%, Customers in this segment may tend to be dominated by pregnant and lactating mothers. \n",
        "\n",
        "For this segment, the target market has been identified, namely women and mothers. For product innovation, Nicoa has been successful in creating high-quality chocolate that is safe for pregnant women to consume. So, for this segment, it is clear who the customers are.\n",
        "\n",
        "This is the most exclusive segment and the one that must be considered the most, because in this segment, customers with very well-established economies must be kept keep transactions to always purchase products, This can be seen by buying 90-gr chocolate at a price of Rp. 46,000, you can be sure that customers in this segment are more concerned with taste and quality than price\n",
        "\n",
        "\n",
        "Because the percentage is quite small, only 4.7%, Nicoa can do various things to increase or retain customers in this segment, including maintaining product quality, continuing to follow up with prospective buyers who have interacted with Nicoa before, and promoting it through recommendations or testimonials to buyers who have purchased Nicoa products, or you can also say \"\n",
        "Word-of-mouth marketing\"\n",
        "\n"
      ]
    },
    {
      "cell_type": "markdown",
      "source": [
        "## Segment Almost Lost"
      ],
      "metadata": {
        "id": "TlaWY7aTdvbH"
      }
    },
    {
      "cell_type": "code",
      "execution_count": null,
      "metadata": {
        "id": "Ud50CeoeBeTe"
      },
      "outputs": [],
      "source": [
        "df_almost_lost = almost_lost.groupby('item name').qty.sum()\n",
        "df_almost_lost = pd.DataFrame(df_almost_lost)\n",
        "df_almost_lost = df_almost_lost.reset_index()\n",
        "df_almost_lost['percent'] = round(df_almost_lost['qty']*100/sum(df_almost_lost['qty']),2)\n",
        "df_almost_lost_top5 = df_almost_lost.sort_values(by=['qty']).tail()"
      ]
    },
    {
      "cell_type": "code",
      "execution_count": null,
      "metadata": {
        "id": "3pHH_2pDpg0g",
        "colab": {
          "base_uri": "https://localhost:8080/"
        },
        "outputId": "8fe1c1f2-5a92-4662-ee7b-c910102d1714"
      },
      "outputs": [
        {
          "output_type": "execute_result",
          "data": {
            "text/plain": [
              "Text(0, 0.5, 'qty')"
            ]
          },
          "metadata": {},
          "execution_count": 84
        },
        {
          "output_type": "display_data",
          "data": {
            "text/plain": [
              "<Figure size 720x432 with 1 Axes>"
            ],
            "image/png": "[encoded data removed]"
          },
          "metadata": {
            "needs_background": "light"
          }
        }
      ],
      "source": [
        "plt.figure(figsize=(10,6))\n",
        "plt.bar(df_almost_lost_top5['item name'],df_almost_lost_top5['qty'])\n",
        "plt.title('Top 5 Chocolate Sold in Segment Almost Lost')\n",
        "plt.xlabel('Item Name')\n",
        "plt.ylabel('qty')"
      ]
    },
    {
      "cell_type": "code",
      "execution_count": null,
      "metadata": {
        "id": "L4Ed1K0wp931",
        "colab": {
          "base_uri": "https://localhost:8080/"
        },
        "outputId": "5ffdc5da-8a7e-4769-aa5d-5a28b21b0b89"
      },
      "outputs": [
        {
          "output_type": "execute_result",
          "data": {
            "text/plain": [
              "                  item name  qty  percent\n",
              "15  Stress Reliever - 35 gr   55     8.69\n",
              "9     Mind Relaxing - 35 gr   56     8.85\n",
              "4    Immune Booster - 35 gr   57     9.00\n",
              "13    Sleeping Well - 35 gr   62     9.79\n",
              "12        Pregnancy - 90 gr   80    12.64"
            ],
            "text/html": [
              "\n",
              "  <div id=\"df-0de84d7f-1122-4cda-9b54-590aaf8bf1fd\">\n",
              "    <div class=\"colab-df-container\">\n",
              "      <div>\n",
              "<style scoped>\n",
              "    .dataframe tbody tr th:only-of-type {\n",
              "        vertical-align: middle;\n",
              "    }\n",
              "\n",
              "    .dataframe tbody tr th {\n",
              "        vertical-align: top;\n",
              "    }\n",
              "\n",
              "    .dataframe thead th {\n",
              "        text-align: right;\n",
              "    }\n",
              "</style>\n",
              "<table border=\"1\" class=\"dataframe\">\n",
              "  <thead>\n",
              "    <tr style=\"text-align: right;\">\n",
              "      <th></th>\n",
              "      <th>item name</th>\n",
              "      <th>qty</th>\n",
              "      <th>percent</th>\n",
              "    </tr>\n",
              "  </thead>\n",
              "  <tbody>\n",
              "    <tr>\n",
              "      <th>15</th>\n",
              "      <td>Stress Reliever - 35 gr</td>\n",
              "      <td>55</td>\n",
              "      <td>8.69</td>\n",
              "    </tr>\n",
              "    <tr>\n",
              "      <th>9</th>\n",
              "      <td>Mind Relaxing - 35 gr</td>\n",
              "      <td>56</td>\n",
              "      <td>8.85</td>\n",
              "    </tr>\n",
              "    <tr>\n",
              "      <th>4</th>\n",
              "      <td>Immune Booster - 35 gr</td>\n",
              "      <td>57</td>\n",
              "      <td>9.00</td>\n",
              "    </tr>\n",
              "    <tr>\n",
              "      <th>13</th>\n",
              "      <td>Sleeping Well - 35 gr</td>\n",
              "      <td>62</td>\n",
              "      <td>9.79</td>\n",
              "    </tr>\n",
              "    <tr>\n",
              "      <th>12</th>\n",
              "      <td>Pregnancy - 90 gr</td>\n",
              "      <td>80</td>\n",
              "      <td>12.64</td>\n",
              "    </tr>\n",
              "  </tbody>\n",
              "</table>\n",
              "</div>\n",
              "      <button class=\"colab-df-convert\" onclick=\"convertToInteractive('df-0de84d7f-1122-4cda-9b54-590aaf8bf1fd')\"\n",
              "              title=\"Convert this dataframe to an interactive table.\"\n",
              "              style=\"display:none;\">\n",
              "        \n",
              "  <svg xmlns=\"http://www.w3.org/2000/svg\" height=\"24px\"viewBox=\"0 0 24 24\"\n",
              "       width=\"24px\">\n",
              "    <path d=\"M0 0h24v24H0V0z\" fill=\"none\"/>\n",
              "    <path d=\"M18.56 5.44l.94 2.06.94-2.06 2.06-.94-2.06-.94-.94-2.06-.94 2.06-2.06.94zm-11 1L8.5 8.5l.94-2.06 2.06-.94-2.06-.94L8.5 2.5l-.94 2.06-2.06.94zm10 10l.94 2.06.94-2.06 2.06-.94-2.06-.94-.94-2.06-.94 2.06-2.06.94z\"/><path d=\"M17.41 7.96l-1.37-1.37c-.4-.4-.92-.59-1.43-.59-.52 0-1.04.2-1.43.59L10.3 9.45l-7.72 7.72c-.78.78-.78 2.05 0 2.83L4 21.41c.39.39.9.59 1.41.59.51 0 1.02-.2 1.41-.59l7.78-7.78 2.81-2.81c.8-.78.8-2.07 0-2.86zM5.41 20L4 18.59l7.72-7.72 1.47 1.35L5.41 20z\"/>\n",
              "  </svg>\n",
              "      </button>\n",
              "      \n",
              "  <style>\n",
              "    .colab-df-container {\n",
              "      display:flex;\n",
              "      flex-wrap:wrap;\n",
              "      gap: 12px;\n",
              "    }\n",
              "\n",
              "    .colab-df-convert {\n",
              "      background-color: #E8F0FE;\n",
              "      border: none;\n",
              "      border-radius: 50%;\n",
              "      cursor: pointer;\n",
              "      display: none;\n",
              "      fill: #1967D2;\n",
              "      height: 32px;\n",
              "      padding: 0 0 0 0;\n",
              "      width: 32px;\n",
              "    }\n",
              "\n",
              "    .colab-df-convert:hover {\n",
              "      background-color: #E2EBFA;\n",
              "      box-shadow: 0px 1px 2px rgba(60, 64, 67, 0.3), 0px 1px 3px 1px rgba(60, 64, 67, 0.15);\n",
              "      fill: #174EA6;\n",
              "    }\n",
              "\n",
              "    [theme=dark] .colab-df-convert {\n",
              "      background-color: #3B4455;\n",
              "      fill: #D2E3FC;\n",
              "    }\n",
              "\n",
              "    [theme=dark] .colab-df-convert:hover {\n",
              "      background-color: #434B5C;\n",
              "      box-shadow: 0px 1px 3px 1px rgba(0, 0, 0, 0.15);\n",
              "      filter: drop-shadow(0px 1px 2px rgba(0, 0, 0, 0.3));\n",
              "      fill: #FFFFFF;\n",
              "    }\n",
              "  </style>\n",
              "\n",
              "      <script>\n",
              "        const buttonEl =\n",
              "          document.querySelector('#df-0de84d7f-1122-4cda-9b54-590aaf8bf1fd button.colab-df-convert');\n",
              "        buttonEl.style.display =\n",
              "          google.colab.kernel.accessAllowed ? 'block' : 'none';\n",
              "\n",
              "        async function convertToInteractive(key) {\n",
              "          const element = document.querySelector('#df-0de84d7f-1122-4cda-9b54-590aaf8bf1fd');\n",
              "          const dataTable =\n",
              "            await google.colab.kernel.invokeFunction('convertToInteractive',\n",
              "                                                     [key], {});\n",
              "          if (!dataTable) return;\n",
              "\n",
              "          const docLinkHtml = 'Like what you see? Visit the ' +\n",
              "            '<a target=\"_blank\" href=https://colab.research.google.com/notebooks/data_table.ipynb>data table notebook</a>'\n",
              "            + ' to learn more about interactive tables.';\n",
              "          element.innerHTML = '';\n",
              "          dataTable['output_type'] = 'display_data';\n",
              "          await google.colab.output.renderOutput(dataTable, element);\n",
              "          const docLink = document.createElement('div');\n",
              "          docLink.innerHTML = docLinkHtml;\n",
              "          element.appendChild(docLink);\n",
              "        }\n",
              "      </script>\n",
              "    </div>\n",
              "  </div>\n",
              "  "
            ]
          },
          "metadata": {},
          "execution_count": 85
        }
      ],
      "source": [
        "df_almost_lost_top5"
      ]
    },
    {
      "cell_type": "markdown",
      "metadata": {
        "id": "lx7uKkxHZbRT"
      },
      "source": [
        "\n",
        "### Almost Lost are Customers Haven’t purchased for some time ###\n",
        "\n",
        "Customers in this segment are at risk of churn or losing customers; the percentage is quite high, reaching 25.1% of the total data; this segment also needs to be considered by Nichoa because these customers are prone to leaving, making it necessary to carry out the right strategy for these customers.\n",
        "\n",
        "Just like the previous segment, the customers were dominated by women, including pregnant women.\n",
        "\n",
        "The way to be able to retarget these consumers is to broaden the target market and determine the target market according to the target, which is usually distinguished by gender, age, demographics, location, and so on.\n",
        "\n",
        "However, to increase the company's revenue, there is nothing wrong with trying to find new sales targets. Reach them by leveraging existing technology. For example, using social media like TikTok to reach younger sales targets or members of generation Z"
      ]
    },
    {
      "cell_type": "markdown",
      "source": [
        "## Segment Lost Customers"
      ],
      "metadata": {
        "id": "f-nUL8augpxR"
      }
    },
    {
      "cell_type": "code",
      "execution_count": null,
      "metadata": {
        "id": "4Ww16LPeBkwZ"
      },
      "outputs": [],
      "source": [
        "df_lost_customers = lost_customers.groupby('item name').qty.sum()\n",
        "df_lost_customers = pd.DataFrame(df_lost_customers)\n",
        "df_lost_customers = df_lost_customers.reset_index()\n",
        "df_lost_customers['percent'] = round(df_lost_customers['qty']*100/sum(df_lost_customers['qty']),2)\n",
        "df_lost_customers_top5 = df_lost_customers.sort_values(by=['qty']).tail()"
      ]
    },
    {
      "cell_type": "code",
      "execution_count": null,
      "metadata": {
        "id": "mE8TfkWNqbWr",
        "colab": {
          "base_uri": "https://localhost:8080/"
        },
        "outputId": "a21f57da-f2ab-4d86-856e-e7945d406a9a"
      },
      "outputs": [
        {
          "output_type": "execute_result",
          "data": {
            "text/plain": [
              "Text(0, 0.5, 'qty')"
            ]
          },
          "metadata": {},
          "execution_count": 87
        },
        {
          "output_type": "display_data",
          "data": {
            "text/plain": [
              "<Figure size 720x432 with 1 Axes>"
            ],
            "image/png": "[encoded data removed]"
          },
          "metadata": {
            "needs_background": "light"
          }
        }
      ],
      "source": [
        "plt.figure(figsize=(10,6))\n",
        "plt.bar(df_lost_customers_top5['item name'],df_lost_customers_top5['qty'])\n",
        "plt.title('Top 5 Chocolate Sold in Segment Lost Customers')\n",
        "plt.xlabel('Item Name')\n",
        "plt.ylabel('qty')"
      ]
    },
    {
      "cell_type": "code",
      "execution_count": null,
      "metadata": {
        "id": "uowDPKc0x45R",
        "colab": {
          "base_uri": "https://localhost:8080/"
        },
        "outputId": "10fe40a3-6809-4ff0-d845-99a8513799af"
      },
      "outputs": [
        {
          "output_type": "execute_result",
          "data": {
            "text/plain": [
              "                  item name  qty  percent\n",
              "8         Lactation - 90 gr   66     9.08\n",
              "10    Mind Relaxing - 35 gr   67     9.22\n",
              "14    Sleeping Well - 35 gr   79    10.87\n",
              "16  Stress Reliever - 35 gr   81    11.14\n",
              "5    Immune Booster - 35 gr  104    14.31"
            ],
            "text/html": [
              "\n",
              "  <div id=\"df-37a10a32-ebd5-47c6-b989-a4c5f36330f8\">\n",
              "    <div class=\"colab-df-container\">\n",
              "      <div>\n",
              "<style scoped>\n",
              "    .dataframe tbody tr th:only-of-type {\n",
              "        vertical-align: middle;\n",
              "    }\n",
              "\n",
              "    .dataframe tbody tr th {\n",
              "        vertical-align: top;\n",
              "    }\n",
              "\n",
              "    .dataframe thead th {\n",
              "        text-align: right;\n",
              "    }\n",
              "</style>\n",
              "<table border=\"1\" class=\"dataframe\">\n",
              "  <thead>\n",
              "    <tr style=\"text-align: right;\">\n",
              "      <th></th>\n",
              "      <th>item name</th>\n",
              "      <th>qty</th>\n",
              "      <th>percent</th>\n",
              "    </tr>\n",
              "  </thead>\n",
              "  <tbody>\n",
              "    <tr>\n",
              "      <th>8</th>\n",
              "      <td>Lactation - 90 gr</td>\n",
              "      <td>66</td>\n",
              "      <td>9.08</td>\n",
              "    </tr>\n",
              "    <tr>\n",
              "      <th>10</th>\n",
              "      <td>Mind Relaxing - 35 gr</td>\n",
              "      <td>67</td>\n",
              "      <td>9.22</td>\n",
              "    </tr>\n",
              "    <tr>\n",
              "      <th>14</th>\n",
              "      <td>Sleeping Well - 35 gr</td>\n",
              "      <td>79</td>\n",
              "      <td>10.87</td>\n",
              "    </tr>\n",
              "    <tr>\n",
              "      <th>16</th>\n",
              "      <td>Stress Reliever - 35 gr</td>\n",
              "      <td>81</td>\n",
              "      <td>11.14</td>\n",
              "    </tr>\n",
              "    <tr>\n",
              "      <th>5</th>\n",
              "      <td>Immune Booster - 35 gr</td>\n",
              "      <td>104</td>\n",
              "      <td>14.31</td>\n",
              "    </tr>\n",
              "  </tbody>\n",
              "</table>\n",
              "</div>\n",
              "      <button class=\"colab-df-convert\" onclick=\"convertToInteractive('df-37a10a32-ebd5-47c6-b989-a4c5f36330f8')\"\n",
              "              title=\"Convert this dataframe to an interactive table.\"\n",
              "              style=\"display:none;\">\n",
              "        \n",
              "  <svg xmlns=\"http://www.w3.org/2000/svg\" height=\"24px\"viewBox=\"0 0 24 24\"\n",
              "       width=\"24px\">\n",
              "    <path d=\"M0 0h24v24H0V0z\" fill=\"none\"/>\n",
              "    <path d=\"M18.56 5.44l.94 2.06.94-2.06 2.06-.94-2.06-.94-.94-2.06-.94 2.06-2.06.94zm-11 1L8.5 8.5l.94-2.06 2.06-.94-2.06-.94L8.5 2.5l-.94 2.06-2.06.94zm10 10l.94 2.06.94-2.06 2.06-.94-2.06-.94-.94-2.06-.94 2.06-2.06.94z\"/><path d=\"M17.41 7.96l-1.37-1.37c-.4-.4-.92-.59-1.43-.59-.52 0-1.04.2-1.43.59L10.3 9.45l-7.72 7.72c-.78.78-.78 2.05 0 2.83L4 21.41c.39.39.9.59 1.41.59.51 0 1.02-.2 1.41-.59l7.78-7.78 2.81-2.81c.8-.78.8-2.07 0-2.86zM5.41 20L4 18.59l7.72-7.72 1.47 1.35L5.41 20z\"/>\n",
              "  </svg>\n",
              "      </button>\n",
              "      \n",
              "  <style>\n",
              "    .colab-df-container {\n",
              "      display:flex;\n",
              "      flex-wrap:wrap;\n",
              "      gap: 12px;\n",
              "    }\n",
              "\n",
              "    .colab-df-convert {\n",
              "      background-color: #E8F0FE;\n",
              "      border: none;\n",
              "      border-radius: 50%;\n",
              "      cursor: pointer;\n",
              "      display: none;\n",
              "      fill: #1967D2;\n",
              "      height: 32px;\n",
              "      padding: 0 0 0 0;\n",
              "      width: 32px;\n",
              "    }\n",
              "\n",
              "    .colab-df-convert:hover {\n",
              "      background-color: #E2EBFA;\n",
              "      box-shadow: 0px 1px 2px rgba(60, 64, 67, 0.3), 0px 1px 3px 1px rgba(60, 64, 67, 0.15);\n",
              "      fill: #174EA6;\n",
              "    }\n",
              "\n",
              "    [theme=dark] .colab-df-convert {\n",
              "      background-color: #3B4455;\n",
              "      fill: #D2E3FC;\n",
              "    }\n",
              "\n",
              "    [theme=dark] .colab-df-convert:hover {\n",
              "      background-color: #434B5C;\n",
              "      box-shadow: 0px 1px 3px 1px rgba(0, 0, 0, 0.15);\n",
              "      filter: drop-shadow(0px 1px 2px rgba(0, 0, 0, 0.3));\n",
              "      fill: #FFFFFF;\n",
              "    }\n",
              "  </style>\n",
              "\n",
              "      <script>\n",
              "        const buttonEl =\n",
              "          document.querySelector('#df-37a10a32-ebd5-47c6-b989-a4c5f36330f8 button.colab-df-convert');\n",
              "        buttonEl.style.display =\n",
              "          google.colab.kernel.accessAllowed ? 'block' : 'none';\n",
              "\n",
              "        async function convertToInteractive(key) {\n",
              "          const element = document.querySelector('#df-37a10a32-ebd5-47c6-b989-a4c5f36330f8');\n",
              "          const dataTable =\n",
              "            await google.colab.kernel.invokeFunction('convertToInteractive',\n",
              "                                                     [key], {});\n",
              "          if (!dataTable) return;\n",
              "\n",
              "          const docLinkHtml = 'Like what you see? Visit the ' +\n",
              "            '<a target=\"_blank\" href=https://colab.research.google.com/notebooks/data_table.ipynb>data table notebook</a>'\n",
              "            + ' to learn more about interactive tables.';\n",
              "          element.innerHTML = '';\n",
              "          dataTable['output_type'] = 'display_data';\n",
              "          await google.colab.output.renderOutput(dataTable, element);\n",
              "          const docLink = document.createElement('div');\n",
              "          docLink.innerHTML = docLinkHtml;\n",
              "          element.appendChild(docLink);\n",
              "        }\n",
              "      </script>\n",
              "    </div>\n",
              "  </div>\n",
              "  "
            ]
          },
          "metadata": {},
          "execution_count": 88
        }
      ],
      "source": [
        "df_lost_customers_top5"
      ]
    },
    {
      "cell_type": "markdown",
      "source": [
        "### Lost Customers are Customers Haven’t purchased for some time ###\n",
        "\n",
        "\n",
        "In the lost customers segment, the chocolate bar product with the name \"Immune Booster 35\" with precentage 14.31% is the best-selling product. We assume that customers in this segment tend to choose healthy snacks. The ingridients of ginger and honey in Nichoa Immune Booster Chocolate Bar helps improve and optimize the body's immune system.\n",
        "\n",
        "Just like the almost lost segment, customers in this segment are at risk of churn or leaving with precentage 20.0%. The most common way to win back lost customers is to give them special offers; starting from discounts, cashback, free gifts and many more. While this option can be expensive, it's always one to consider.\n",
        "\n",
        "besides that, nichoa can ask for feedback, it is always important for all companies to continue to improve their business. nichoa can send an email to your old customers asking for their feedback about your services or products they have used in the past.\n",
        "\n",
        "After Nichoa has collected their feedback, it is important to show them that their feedback is valuable for your business by following up on the things mentioned in the feedback.\n",
        "Once done, Nicoa can send them a thank-you email with a message that Nicoa has taken extra steps to address their feedback.\n",
        "By doing this, you can rebuild customer trust and make them feel valued.\n"
      ],
      "metadata": {
        "id": "7L-Jgj7acnrW"
      }
    },
    {
      "cell_type": "markdown",
      "source": [
        "## Segment Best Customers"
      ],
      "metadata": {
        "id": "ypEeBHuggtiz"
      }
    },
    {
      "cell_type": "code",
      "execution_count": null,
      "metadata": {
        "id": "6Jc8dXdwC53Y"
      },
      "outputs": [],
      "source": [
        "df_best_customers = best_customers.groupby('item name').qty.sum()\n",
        "df_best_customers = pd.DataFrame(df_best_customers)\n",
        "df_best_customers = df_best_customers.reset_index()\n",
        "df_best_customers['percent'] = round(df_best_customers['qty']*100/sum(df_best_customers['qty']),2)\n",
        "df_best_customers_top5 = df_best_customers.sort_values(by=['qty']).tail()"
      ]
    },
    {
      "cell_type": "code",
      "execution_count": null,
      "metadata": {
        "id": "4kgekIdmrEVH",
        "colab": {
          "base_uri": "https://localhost:8080/"
        },
        "outputId": "aea104da-7eaa-4bd7-e934-4d5c6a24d0b4"
      },
      "outputs": [
        {
          "output_type": "execute_result",
          "data": {
            "text/plain": [
              "Text(0, 0.5, 'qty')"
            ]
          },
          "metadata": {},
          "execution_count": 90
        },
        {
          "output_type": "display_data",
          "data": {
            "text/plain": [
              "<Figure size 720x432 with 1 Axes>"
            ],
            "image/png": "[encoded data removed]"
          },
          "metadata": {
            "needs_background": "light"
          }
        }
      ],
      "source": [
        "plt.figure(figsize=(10,6))\n",
        "plt.bar(df_best_customers_top5['item name'],df_best_customers_top5['qty'])\n",
        "plt.title('Top 5 Chocolate Sold in Segment Best customers')\n",
        "plt.xlabel('Item Name')\n",
        "plt.ylabel('qty')"
      ]
    },
    {
      "cell_type": "code",
      "execution_count": null,
      "metadata": {
        "id": "123AyBBDC8K-",
        "colab": {
          "base_uri": "https://localhost:8080/"
        },
        "outputId": "c80abea5-5eb7-49bb-a3e2-5ab26e17cf3e"
      },
      "outputs": [
        {
          "output_type": "execute_result",
          "data": {
            "text/plain": [
              "                  item name  qty  percent\n",
              "14  Stress Reliever - 35 gr   62     8.21\n",
              "4    Immune Booster - 35 gr   68     9.01\n",
              "10        Pregnancy - 35 gr   88    11.66\n",
              "6         Lactation - 35 gr   91    12.05\n",
              "7         Lactation - 90 gr   93    12.32"
            ],
            "text/html": [
              "\n",
              "  <div id=\"df-5bcce0c0-e686-4d78-af5a-b0d6f6eb8e13\">\n",
              "    <div class=\"colab-df-container\">\n",
              "      <div>\n",
              "<style scoped>\n",
              "    .dataframe tbody tr th:only-of-type {\n",
              "        vertical-align: middle;\n",
              "    }\n",
              "\n",
              "    .dataframe tbody tr th {\n",
              "        vertical-align: top;\n",
              "    }\n",
              "\n",
              "    .dataframe thead th {\n",
              "        text-align: right;\n",
              "    }\n",
              "</style>\n",
              "<table border=\"1\" class=\"dataframe\">\n",
              "  <thead>\n",
              "    <tr style=\"text-align: right;\">\n",
              "      <th></th>\n",
              "      <th>item name</th>\n",
              "      <th>qty</th>\n",
              "      <th>percent</th>\n",
              "    </tr>\n",
              "  </thead>\n",
              "  <tbody>\n",
              "    <tr>\n",
              "      <th>14</th>\n",
              "      <td>Stress Reliever - 35 gr</td>\n",
              "      <td>62</td>\n",
              "      <td>8.21</td>\n",
              "    </tr>\n",
              "    <tr>\n",
              "      <th>4</th>\n",
              "      <td>Immune Booster - 35 gr</td>\n",
              "      <td>68</td>\n",
              "      <td>9.01</td>\n",
              "    </tr>\n",
              "    <tr>\n",
              "      <th>10</th>\n",
              "      <td>Pregnancy - 35 gr</td>\n",
              "      <td>88</td>\n",
              "      <td>11.66</td>\n",
              "    </tr>\n",
              "    <tr>\n",
              "      <th>6</th>\n",
              "      <td>Lactation - 35 gr</td>\n",
              "      <td>91</td>\n",
              "      <td>12.05</td>\n",
              "    </tr>\n",
              "    <tr>\n",
              "      <th>7</th>\n",
              "      <td>Lactation - 90 gr</td>\n",
              "      <td>93</td>\n",
              "      <td>12.32</td>\n",
              "    </tr>\n",
              "  </tbody>\n",
              "</table>\n",
              "</div>\n",
              "      <button class=\"colab-df-convert\" onclick=\"convertToInteractive('df-5bcce0c0-e686-4d78-af5a-b0d6f6eb8e13')\"\n",
              "              title=\"Convert this dataframe to an interactive table.\"\n",
              "              style=\"display:none;\">\n",
              "        \n",
              "  <svg xmlns=\"http://www.w3.org/2000/svg\" height=\"24px\"viewBox=\"0 0 24 24\"\n",
              "       width=\"24px\">\n",
              "    <path d=\"M0 0h24v24H0V0z\" fill=\"none\"/>\n",
              "    <path d=\"M18.56 5.44l.94 2.06.94-2.06 2.06-.94-2.06-.94-.94-2.06-.94 2.06-2.06.94zm-11 1L8.5 8.5l.94-2.06 2.06-.94-2.06-.94L8.5 2.5l-.94 2.06-2.06.94zm10 10l.94 2.06.94-2.06 2.06-.94-2.06-.94-.94-2.06-.94 2.06-2.06.94z\"/><path d=\"M17.41 7.96l-1.37-1.37c-.4-.4-.92-.59-1.43-.59-.52 0-1.04.2-1.43.59L10.3 9.45l-7.72 7.72c-.78.78-.78 2.05 0 2.83L4 21.41c.39.39.9.59 1.41.59.51 0 1.02-.2 1.41-.59l7.78-7.78 2.81-2.81c.8-.78.8-2.07 0-2.86zM5.41 20L4 18.59l7.72-7.72 1.47 1.35L5.41 20z\"/>\n",
              "  </svg>\n",
              "      </button>\n",
              "      \n",
              "  <style>\n",
              "    .colab-df-container {\n",
              "      display:flex;\n",
              "      flex-wrap:wrap;\n",
              "      gap: 12px;\n",
              "    }\n",
              "\n",
              "    .colab-df-convert {\n",
              "      background-color: #E8F0FE;\n",
              "      border: none;\n",
              "      border-radius: 50%;\n",
              "      cursor: pointer;\n",
              "      display: none;\n",
              "      fill: #1967D2;\n",
              "      height: 32px;\n",
              "      padding: 0 0 0 0;\n",
              "      width: 32px;\n",
              "    }\n",
              "\n",
              "    .colab-df-convert:hover {\n",
              "      background-color: #E2EBFA;\n",
              "      box-shadow: 0px 1px 2px rgba(60, 64, 67, 0.3), 0px 1px 3px 1px rgba(60, 64, 67, 0.15);\n",
              "      fill: #174EA6;\n",
              "    }\n",
              "\n",
              "    [theme=dark] .colab-df-convert {\n",
              "      background-color: #3B4455;\n",
              "      fill: #D2E3FC;\n",
              "    }\n",
              "\n",
              "    [theme=dark] .colab-df-convert:hover {\n",
              "      background-color: #434B5C;\n",
              "      box-shadow: 0px 1px 3px 1px rgba(0, 0, 0, 0.15);\n",
              "      filter: drop-shadow(0px 1px 2px rgba(0, 0, 0, 0.3));\n",
              "      fill: #FFFFFF;\n",
              "    }\n",
              "  </style>\n",
              "\n",
              "      <script>\n",
              "        const buttonEl =\n",
              "          document.querySelector('#df-5bcce0c0-e686-4d78-af5a-b0d6f6eb8e13 button.colab-df-convert');\n",
              "        buttonEl.style.display =\n",
              "          google.colab.kernel.accessAllowed ? 'block' : 'none';\n",
              "\n",
              "        async function convertToInteractive(key) {\n",
              "          const element = document.querySelector('#df-5bcce0c0-e686-4d78-af5a-b0d6f6eb8e13');\n",
              "          const dataTable =\n",
              "            await google.colab.kernel.invokeFunction('convertToInteractive',\n",
              "                                                     [key], {});\n",
              "          if (!dataTable) return;\n",
              "\n",
              "          const docLinkHtml = 'Like what you see? Visit the ' +\n",
              "            '<a target=\"_blank\" href=https://colab.research.google.com/notebooks/data_table.ipynb>data table notebook</a>'\n",
              "            + ' to learn more about interactive tables.';\n",
              "          element.innerHTML = '';\n",
              "          dataTable['output_type'] = 'display_data';\n",
              "          await google.colab.output.renderOutput(dataTable, element);\n",
              "          const docLink = document.createElement('div');\n",
              "          docLink.innerHTML = docLinkHtml;\n",
              "          element.appendChild(docLink);\n",
              "        }\n",
              "      </script>\n",
              "    </div>\n",
              "  </div>\n",
              "  "
            ]
          },
          "metadata": {},
          "execution_count": 91
        }
      ],
      "source": [
        "df_best_customers_top5"
      ]
    },
    {
      "cell_type": "markdown",
      "source": [
        "### Best Customers are Customers whow Bought most recently and most often, and spend the most ### \n",
        "\n",
        "\n",
        "\n",
        "In this segment, the best-selling type of chocolate bar is `Lactation-90gr` with percentage 12.32%, just like the loyal customers and other segment. These customers are dominated by mothers who are breastfeeding.\n",
        "\n",
        "best customers is the segment with the smallest percentage, which is only 3.5% of the total data, this segment is the most important segment of all segments, because customers in this segment often shop, recent transactions, and spend a lot of money on our products.\n",
        "\n",
        "increasing customers in this segment is something that must be done by nichoa, we analyze that customers in this segment are dominated by women and mothers, we suggest not to be fixated on that target market, nichoa has the potential to be able to expand its marketing network through there are many ways such as advertising products so that potential customers know what products Nichoa sells. Advertisements can be done digitally or using old school methods.\n",
        "Providing attractive promos can be in the form of discounts or free products for purchasing products with a minimum amount.\n",
        "Improving product quality in order to provide more value for consumers. and in a quite extreme way in my opinion, Nichoa was able to lower product prices.\n",
        "\n",
        "\n"
      ],
      "metadata": {
        "id": "ZFeuDhka0Mxp"
      }
    },
    {
      "cell_type": "markdown",
      "source": [
        "## Segment Lost Cheap Customers"
      ],
      "metadata": {
        "id": "vRgoYefqg0ud"
      }
    },
    {
      "cell_type": "code",
      "execution_count": null,
      "metadata": {
        "id": "PlB0umXDrblm"
      },
      "outputs": [],
      "source": [
        "df_lost_cheap_customers = lost_cheap_customers.groupby('item name').qty.sum()\n",
        "df_lost_cheap_customers = pd.DataFrame(df_lost_cheap_customers)\n",
        "df_lost_cheap_customers = df_lost_cheap_customers.reset_index()\n",
        "df_lost_cheap_customers['percent'] = round(df_lost_cheap_customers['qty']*100/sum(df_lost_cheap_customers['qty']),2)\n",
        "df_lost_cheap_customers_top5 = df_lost_cheap_customers.sort_values(by=['qty']).tail()"
      ]
    },
    {
      "cell_type": "code",
      "execution_count": null,
      "metadata": {
        "id": "M1eXrg6_C-PP",
        "colab": {
          "base_uri": "https://localhost:8080/"
        },
        "outputId": "f29bf72d-d340-4ed2-b530-3396b59d8289"
      },
      "outputs": [
        {
          "output_type": "execute_result",
          "data": {
            "text/plain": [
              "Text(0, 0.5, 'qty')"
            ]
          },
          "metadata": {},
          "execution_count": 93
        },
        {
          "output_type": "display_data",
          "data": {
            "text/plain": [
              "<Figure size 720x432 with 1 Axes>"
            ],
            "image/png": "[encoded data removed]"
          },
          "metadata": {
            "needs_background": "light"
          }
        }
      ],
      "source": [
        "plt.figure(figsize=(10,6))\n",
        "plt.bar(df_lost_cheap_customers_top5['item name'],df_lost_cheap_customers_top5['qty'])\n",
        "plt.title('Top 5 Chocolate Sold in Segment Lost Cheap Customers')\n",
        "plt.xlabel('Item Name')\n",
        "plt.ylabel('qty')"
      ]
    },
    {
      "cell_type": "code",
      "execution_count": null,
      "metadata": {
        "id": "2XK_2eSoDBpJ",
        "colab": {
          "base_uri": "https://localhost:8080/"
        },
        "outputId": "4a77fac3-7eba-4278-f773-03ac0c743e45"
      },
      "outputs": [
        {
          "output_type": "execute_result",
          "data": {
            "text/plain": [
              "               item name  qty  percent\n",
              "4  Mind Relaxing - 35 gr    2      8.0\n",
              "8  Sleeping Well - 90 gr    2      8.0\n",
              "2      Lactation - 35 gr    3     12.0\n",
              "7      Pregnancy - 90 gr    4     16.0\n",
              "3      Lactation - 90 gr    8     32.0"
            ],
            "text/html": [
              "\n",
              "  <div id=\"df-47b41667-0a49-4f5a-a3b9-276c4f586487\">\n",
              "    <div class=\"colab-df-container\">\n",
              "      <div>\n",
              "<style scoped>\n",
              "    .dataframe tbody tr th:only-of-type {\n",
              "        vertical-align: middle;\n",
              "    }\n",
              "\n",
              "    .dataframe tbody tr th {\n",
              "        vertical-align: top;\n",
              "    }\n",
              "\n",
              "    .dataframe thead th {\n",
              "        text-align: right;\n",
              "    }\n",
              "</style>\n",
              "<table border=\"1\" class=\"dataframe\">\n",
              "  <thead>\n",
              "    <tr style=\"text-align: right;\">\n",
              "      <th></th>\n",
              "      <th>item name</th>\n",
              "      <th>qty</th>\n",
              "      <th>percent</th>\n",
              "    </tr>\n",
              "  </thead>\n",
              "  <tbody>\n",
              "    <tr>\n",
              "      <th>4</th>\n",
              "      <td>Mind Relaxing - 35 gr</td>\n",
              "      <td>2</td>\n",
              "      <td>8.0</td>\n",
              "    </tr>\n",
              "    <tr>\n",
              "      <th>8</th>\n",
              "      <td>Sleeping Well - 90 gr</td>\n",
              "      <td>2</td>\n",
              "      <td>8.0</td>\n",
              "    </tr>\n",
              "    <tr>\n",
              "      <th>2</th>\n",
              "      <td>Lactation - 35 gr</td>\n",
              "      <td>3</td>\n",
              "      <td>12.0</td>\n",
              "    </tr>\n",
              "    <tr>\n",
              "      <th>7</th>\n",
              "      <td>Pregnancy - 90 gr</td>\n",
              "      <td>4</td>\n",
              "      <td>16.0</td>\n",
              "    </tr>\n",
              "    <tr>\n",
              "      <th>3</th>\n",
              "      <td>Lactation - 90 gr</td>\n",
              "      <td>8</td>\n",
              "      <td>32.0</td>\n",
              "    </tr>\n",
              "  </tbody>\n",
              "</table>\n",
              "</div>\n",
              "      <button class=\"colab-df-convert\" onclick=\"convertToInteractive('df-47b41667-0a49-4f5a-a3b9-276c4f586487')\"\n",
              "              title=\"Convert this dataframe to an interactive table.\"\n",
              "              style=\"display:none;\">\n",
              "        \n",
              "  <svg xmlns=\"http://www.w3.org/2000/svg\" height=\"24px\"viewBox=\"0 0 24 24\"\n",
              "       width=\"24px\">\n",
              "    <path d=\"M0 0h24v24H0V0z\" fill=\"none\"/>\n",
              "    <path d=\"M18.56 5.44l.94 2.06.94-2.06 2.06-.94-2.06-.94-.94-2.06-.94 2.06-2.06.94zm-11 1L8.5 8.5l.94-2.06 2.06-.94-2.06-.94L8.5 2.5l-.94 2.06-2.06.94zm10 10l.94 2.06.94-2.06 2.06-.94-2.06-.94-.94-2.06-.94 2.06-2.06.94z\"/><path d=\"M17.41 7.96l-1.37-1.37c-.4-.4-.92-.59-1.43-.59-.52 0-1.04.2-1.43.59L10.3 9.45l-7.72 7.72c-.78.78-.78 2.05 0 2.83L4 21.41c.39.39.9.59 1.41.59.51 0 1.02-.2 1.41-.59l7.78-7.78 2.81-2.81c.8-.78.8-2.07 0-2.86zM5.41 20L4 18.59l7.72-7.72 1.47 1.35L5.41 20z\"/>\n",
              "  </svg>\n",
              "      </button>\n",
              "      \n",
              "  <style>\n",
              "    .colab-df-container {\n",
              "      display:flex;\n",
              "      flex-wrap:wrap;\n",
              "      gap: 12px;\n",
              "    }\n",
              "\n",
              "    .colab-df-convert {\n",
              "      background-color: #E8F0FE;\n",
              "      border: none;\n",
              "      border-radius: 50%;\n",
              "      cursor: pointer;\n",
              "      display: none;\n",
              "      fill: #1967D2;\n",
              "      height: 32px;\n",
              "      padding: 0 0 0 0;\n",
              "      width: 32px;\n",
              "    }\n",
              "\n",
              "    .colab-df-convert:hover {\n",
              "      background-color: #E2EBFA;\n",
              "      box-shadow: 0px 1px 2px rgba(60, 64, 67, 0.3), 0px 1px 3px 1px rgba(60, 64, 67, 0.15);\n",
              "      fill: #174EA6;\n",
              "    }\n",
              "\n",
              "    [theme=dark] .colab-df-convert {\n",
              "      background-color: #3B4455;\n",
              "      fill: #D2E3FC;\n",
              "    }\n",
              "\n",
              "    [theme=dark] .colab-df-convert:hover {\n",
              "      background-color: #434B5C;\n",
              "      box-shadow: 0px 1px 3px 1px rgba(0, 0, 0, 0.15);\n",
              "      filter: drop-shadow(0px 1px 2px rgba(0, 0, 0, 0.3));\n",
              "      fill: #FFFFFF;\n",
              "    }\n",
              "  </style>\n",
              "\n",
              "      <script>\n",
              "        const buttonEl =\n",
              "          document.querySelector('#df-47b41667-0a49-4f5a-a3b9-276c4f586487 button.colab-df-convert');\n",
              "        buttonEl.style.display =\n",
              "          google.colab.kernel.accessAllowed ? 'block' : 'none';\n",
              "\n",
              "        async function convertToInteractive(key) {\n",
              "          const element = document.querySelector('#df-47b41667-0a49-4f5a-a3b9-276c4f586487');\n",
              "          const dataTable =\n",
              "            await google.colab.kernel.invokeFunction('convertToInteractive',\n",
              "                                                     [key], {});\n",
              "          if (!dataTable) return;\n",
              "\n",
              "          const docLinkHtml = 'Like what you see? Visit the ' +\n",
              "            '<a target=\"_blank\" href=https://colab.research.google.com/notebooks/data_table.ipynb>data table notebook</a>'\n",
              "            + ' to learn more about interactive tables.';\n",
              "          element.innerHTML = '';\n",
              "          dataTable['output_type'] = 'display_data';\n",
              "          await google.colab.output.renderOutput(dataTable, element);\n",
              "          const docLink = document.createElement('div');\n",
              "          docLink.innerHTML = docLinkHtml;\n",
              "          element.appendChild(docLink);\n",
              "        }\n",
              "      </script>\n",
              "    </div>\n",
              "  </div>\n",
              "  "
            ]
          },
          "metadata": {},
          "execution_count": 94
        }
      ],
      "source": [
        "df_lost_cheap_customers_top5"
      ]
    },
    {
      "cell_type": "code",
      "source": [
        "df = res.groupby('order no').qty.sum()\n",
        "df = pd.DataFrame(df)\n",
        "df = df.reset_index()\n",
        "df = res[res['order no'] == df['order no'][df['qty'] == df['qty'].max()].tolist()[0]]\n",
        "df['profit'].value_counts()\n",
        "df.head()"
      ],
      "metadata": {
        "colab": {
          "base_uri": "https://localhost:8080/"
        },
        "id": "4UpXkzgdG8Ru",
        "outputId": "c24ddc4b-2ba1-4c3e-b8d9-c34633e18834"
      },
      "execution_count": null,
      "outputs": [
        {
          "output_type": "execute_result",
          "data": {
            "text/plain": [
              "                order no           order time   brand  brand comission rate  \\\n",
              "1202  E39422020800000526  2022-02-08 11:58:14  Nichoa                     0   \n",
              "1203  E39422020800000526  2022-02-08 11:58:14  Nichoa                     0   \n",
              "1204  E39422020800000526  2022-02-08 11:58:14  Nichoa                     0   \n",
              "1205  E39422020800000526  2022-02-08 11:58:14  Nichoa                     0   \n",
              "\n",
              "      brand comission amount     item group          item name     item sku  \\\n",
              "1202                       0  Chocolate Bar  Lactation - 35 gr  Lactation-1   \n",
              "1203                       0  Chocolate Bar  Pregnancy - 90 gr  Pregnancy-0   \n",
              "1204                       0  Chocolate Bar  Lactation - 90 gr  Lactation-0   \n",
              "1205                       0  Chocolate Bar  Pregnancy - 35 gr  Pregnancy-1   \n",
              "\n",
              "      qty currency  ...  revenue  Recency Frequency  Monetary  R_quartile  \\\n",
              "1202   59      IDR  ...  1239000       16         4   5397000           1   \n",
              "1203   24      IDR  ...   828000       16         4   5397000           1   \n",
              "1204   60      IDR  ...  2070000       16         4   5397000           1   \n",
              "1205   60      IDR  ...  1260000       16         4   5397000           1   \n",
              "\n",
              "      F_quartile M_quartile  RFM_Segment  RFM_Score           Label  \n",
              "1202           1          1          111          3  Best Customers  \n",
              "1203           1          1          111          3  Best Customers  \n",
              "1204           1          1          111          3  Best Customers  \n",
              "1205           1          1          111          3  Best Customers  \n",
              "\n",
              "[4 rows x 37 columns]"
            ],
            "text/html": [
              "\n",
              "  <div id=\"df-b7d0008f-fcd5-45dd-b1ad-feae3a2a37e6\">\n",
              "    <div class=\"colab-df-container\">\n",
              "      <div>\n",
              "<style scoped>\n",
              "    .dataframe tbody tr th:only-of-type {\n",
              "        vertical-align: middle;\n",
              "    }\n",
              "\n",
              "    .dataframe tbody tr th {\n",
              "        vertical-align: top;\n",
              "    }\n",
              "\n",
              "    .dataframe thead th {\n",
              "        text-align: right;\n",
              "    }\n",
              "</style>\n",
              "<table border=\"1\" class=\"dataframe\">\n",
              "  <thead>\n",
              "    <tr style=\"text-align: right;\">\n",
              "      <th></th>\n",
              "      <th>order no</th>\n",
              "      <th>order time</th>\n",
              "      <th>brand</th>\n",
              "      <th>brand comission rate</th>\n",
              "      <th>brand comission amount</th>\n",
              "      <th>item group</th>\n",
              "      <th>item name</th>\n",
              "      <th>item sku</th>\n",
              "      <th>qty</th>\n",
              "      <th>currency</th>\n",
              "      <th>...</th>\n",
              "      <th>revenue</th>\n",
              "      <th>Recency</th>\n",
              "      <th>Frequency</th>\n",
              "      <th>Monetary</th>\n",
              "      <th>R_quartile</th>\n",
              "      <th>F_quartile</th>\n",
              "      <th>M_quartile</th>\n",
              "      <th>RFM_Segment</th>\n",
              "      <th>RFM_Score</th>\n",
              "      <th>Label</th>\n",
              "    </tr>\n",
              "  </thead>\n",
              "  <tbody>\n",
              "    <tr>\n",
              "      <th>1202</th>\n",
              "      <td>E39422020800000526</td>\n",
              "      <td>2022-02-08 11:58:14</td>\n",
              "      <td>Nichoa</td>\n",
              "      <td>0</td>\n",
              "      <td>0</td>\n",
              "      <td>Chocolate Bar</td>\n",
              "      <td>Lactation - 35 gr</td>\n",
              "      <td>Lactation-1</td>\n",
              "      <td>59</td>\n",
              "      <td>IDR</td>\n",
              "      <td>...</td>\n",
              "      <td>1239000</td>\n",
              "      <td>16</td>\n",
              "      <td>4</td>\n",
              "      <td>5397000</td>\n",
              "      <td>1</td>\n",
              "      <td>1</td>\n",
              "      <td>1</td>\n",
              "      <td>111</td>\n",
              "      <td>3</td>\n",
              "      <td>Best Customers</td>\n",
              "    </tr>\n",
              "    <tr>\n",
              "      <th>1203</th>\n",
              "      <td>E39422020800000526</td>\n",
              "      <td>2022-02-08 11:58:14</td>\n",
              "      <td>Nichoa</td>\n",
              "      <td>0</td>\n",
              "      <td>0</td>\n",
              "      <td>Chocolate Bar</td>\n",
              "      <td>Pregnancy - 90 gr</td>\n",
              "      <td>Pregnancy-0</td>\n",
              "      <td>24</td>\n",
              "      <td>IDR</td>\n",
              "      <td>...</td>\n",
              "      <td>828000</td>\n",
              "      <td>16</td>\n",
              "      <td>4</td>\n",
              "      <td>5397000</td>\n",
              "      <td>1</td>\n",
              "      <td>1</td>\n",
              "      <td>1</td>\n",
              "      <td>111</td>\n",
              "      <td>3</td>\n",
              "      <td>Best Customers</td>\n",
              "    </tr>\n",
              "    <tr>\n",
              "      <th>1204</th>\n",
              "      <td>E39422020800000526</td>\n",
              "      <td>2022-02-08 11:58:14</td>\n",
              "      <td>Nichoa</td>\n",
              "      <td>0</td>\n",
              "      <td>0</td>\n",
              "      <td>Chocolate Bar</td>\n",
              "      <td>Lactation - 90 gr</td>\n",
              "      <td>Lactation-0</td>\n",
              "      <td>60</td>\n",
              "      <td>IDR</td>\n",
              "      <td>...</td>\n",
              "      <td>2070000</td>\n",
              "      <td>16</td>\n",
              "      <td>4</td>\n",
              "      <td>5397000</td>\n",
              "      <td>1</td>\n",
              "      <td>1</td>\n",
              "      <td>1</td>\n",
              "      <td>111</td>\n",
              "      <td>3</td>\n",
              "      <td>Best Customers</td>\n",
              "    </tr>\n",
              "    <tr>\n",
              "      <th>1205</th>\n",
              "      <td>E39422020800000526</td>\n",
              "      <td>2022-02-08 11:58:14</td>\n",
              "      <td>Nichoa</td>\n",
              "      <td>0</td>\n",
              "      <td>0</td>\n",
              "      <td>Chocolate Bar</td>\n",
              "      <td>Pregnancy - 35 gr</td>\n",
              "      <td>Pregnancy-1</td>\n",
              "      <td>60</td>\n",
              "      <td>IDR</td>\n",
              "      <td>...</td>\n",
              "      <td>1260000</td>\n",
              "      <td>16</td>\n",
              "      <td>4</td>\n",
              "      <td>5397000</td>\n",
              "      <td>1</td>\n",
              "      <td>1</td>\n",
              "      <td>1</td>\n",
              "      <td>111</td>\n",
              "      <td>3</td>\n",
              "      <td>Best Customers</td>\n",
              "    </tr>\n",
              "  </tbody>\n",
              "</table>\n",
              "<p>4 rows × 37 columns</p>\n",
              "</div>\n",
              "      <button class=\"colab-df-convert\" onclick=\"convertToInteractive('df-b7d0008f-fcd5-45dd-b1ad-feae3a2a37e6')\"\n",
              "              title=\"Convert this dataframe to an interactive table.\"\n",
              "              style=\"display:none;\">\n",
              "        \n",
              "  <svg xmlns=\"http://www.w3.org/2000/svg\" height=\"24px\"viewBox=\"0 0 24 24\"\n",
              "       width=\"24px\">\n",
              "    <path d=\"M0 0h24v24H0V0z\" fill=\"none\"/>\n",
              "    <path d=\"M18.56 5.44l.94 2.06.94-2.06 2.06-.94-2.06-.94-.94-2.06-.94 2.06-2.06.94zm-11 1L8.5 8.5l.94-2.06 2.06-.94-2.06-.94L8.5 2.5l-.94 2.06-2.06.94zm10 10l.94 2.06.94-2.06 2.06-.94-2.06-.94-.94-2.06-.94 2.06-2.06.94z\"/><path d=\"M17.41 7.96l-1.37-1.37c-.4-.4-.92-.59-1.43-.59-.52 0-1.04.2-1.43.59L10.3 9.45l-7.72 7.72c-.78.78-.78 2.05 0 2.83L4 21.41c.39.39.9.59 1.41.59.51 0 1.02-.2 1.41-.59l7.78-7.78 2.81-2.81c.8-.78.8-2.07 0-2.86zM5.41 20L4 18.59l7.72-7.72 1.47 1.35L5.41 20z\"/>\n",
              "  </svg>\n",
              "      </button>\n",
              "      \n",
              "  <style>\n",
              "    .colab-df-container {\n",
              "      display:flex;\n",
              "      flex-wrap:wrap;\n",
              "      gap: 12px;\n",
              "    }\n",
              "\n",
              "    .colab-df-convert {\n",
              "      background-color: #E8F0FE;\n",
              "      border: none;\n",
              "      border-radius: 50%;\n",
              "      cursor: pointer;\n",
              "      display: none;\n",
              "      fill: #1967D2;\n",
              "      height: 32px;\n",
              "      padding: 0 0 0 0;\n",
              "      width: 32px;\n",
              "    }\n",
              "\n",
              "    .colab-df-convert:hover {\n",
              "      background-color: #E2EBFA;\n",
              "      box-shadow: 0px 1px 2px rgba(60, 64, 67, 0.3), 0px 1px 3px 1px rgba(60, 64, 67, 0.15);\n",
              "      fill: #174EA6;\n",
              "    }\n",
              "\n",
              "    [theme=dark] .colab-df-convert {\n",
              "      background-color: #3B4455;\n",
              "      fill: #D2E3FC;\n",
              "    }\n",
              "\n",
              "    [theme=dark] .colab-df-convert:hover {\n",
              "      background-color: #434B5C;\n",
              "      box-shadow: 0px 1px 3px 1px rgba(0, 0, 0, 0.15);\n",
              "      filter: drop-shadow(0px 1px 2px rgba(0, 0, 0, 0.3));\n",
              "      fill: #FFFFFF;\n",
              "    }\n",
              "  </style>\n",
              "\n",
              "      <script>\n",
              "        const buttonEl =\n",
              "          document.querySelector('#df-b7d0008f-fcd5-45dd-b1ad-feae3a2a37e6 button.colab-df-convert');\n",
              "        buttonEl.style.display =\n",
              "          google.colab.kernel.accessAllowed ? 'block' : 'none';\n",
              "\n",
              "        async function convertToInteractive(key) {\n",
              "          const element = document.querySelector('#df-b7d0008f-fcd5-45dd-b1ad-feae3a2a37e6');\n",
              "          const dataTable =\n",
              "            await google.colab.kernel.invokeFunction('convertToInteractive',\n",
              "                                                     [key], {});\n",
              "          if (!dataTable) return;\n",
              "\n",
              "          const docLinkHtml = 'Like what you see? Visit the ' +\n",
              "            '<a target=\"_blank\" href=https://colab.research.google.com/notebooks/data_table.ipynb>data table notebook</a>'\n",
              "            + ' to learn more about interactive tables.';\n",
              "          element.innerHTML = '';\n",
              "          dataTable['output_type'] = 'display_data';\n",
              "          await google.colab.output.renderOutput(dataTable, element);\n",
              "          const docLink = document.createElement('div');\n",
              "          docLink.innerHTML = docLinkHtml;\n",
              "          element.appendChild(docLink);\n",
              "        }\n",
              "      </script>\n",
              "    </div>\n",
              "  </div>\n",
              "  "
            ]
          },
          "metadata": {},
          "execution_count": 95
        }
      ]
    },
    {
      "cell_type": "markdown",
      "source": [
        "###Lost Cheap Customers are Customers who Last purchased long ago, purchased few, and spent little###\n",
        "\n",
        "\n",
        "Chocolate Bar purchases in this segment are not too \n",
        "significant, but the best-selling ones are chocolate bars with the type of `Lactation - 35gr` with percentage 32.0%.\n",
        "\n",
        "this segment is the segment with the least number of purchases, to increase this segment the method is the same as the previous method, this segment tends to no longer shop, rarely buy products, and the money spent is also very little, to maintain or increase customers in the segment this is nichoa's choice, but the strategy we provide is not much different from the strategy we have provided in the previous segment,\n",
        "\n",
        "Our suggestion is for Nicoa to focus more on several segments with a small percentage, but have the potential to provide large revenue or profits for the company, once again this is optional"
      ],
      "metadata": {
        "id": "fI_GPRNm3T_G"
      }
    },
    {
      "cell_type": "markdown",
      "metadata": {
        "id": "DhN5eNxOJz10"
      },
      "source": [
        "# Result"
      ]
    },
    {
      "cell_type": "markdown",
      "metadata": {
        "id": "TdsQgo0L53MV"
      },
      "source": [
        "- There was an increase in purchases in February 2021 which resulted in an increase in revenue and profit earned for that month, in our opinion this happened due to Valentine's Day in that month.\n",
        "\n",
        "- The number of \"Other\" is still 36.7%; this segment is more dominant than the whole segment, therefore further analysis is needed.The Choclate Bar type product with the name \"Lactation -- 90 gr.\" with precentage 11.52% is the best-selling product in the Other Segment, so we can assume that most customers in the Other Segment buy this product.\n",
        "are mothers who are breastfeeding.\n",
        "\n",
        "- The number of \"almost lost\" or \"lost customer\" segments is above 20%; to attract these customers, it is necessary to retarget them, such as by making product innovations that suit the needs of this customer.Customers in this segment are at risk of churn or losing customers; the percentage is quite high, reaching 25.1% of the total data; this segment also needs to be considered by Nichoa because these customers are prone to leaving, making it necessary to carry out the right strategy for these customers.\n",
        "Just like the previous segment, the customers were dominated by women, including pregnant women.\n",
        "\n",
        "- The number of \"loyal customers\" in this segment is 5.1%, which means that the number of healthy customers is still low. Campaign programs or special promotions can be made to increase the number of customers in this category.\n",
        "\n",
        "\n",
        "- The percentages of \"big spenders\" and \"lost cheap customers\" are nearly identical, at 4.9% and 4.7%, respectively.It is better to make an interesting program in order to keep these customers making transactions.\n",
        "\n",
        "\n",
        "\n",
        "\n",
        "- The number of \"best customers\" is the segment with the smallest percentage, which can be increased by increasing marketing through social media. in order to attract these customers.\n",
        "\n",
        "\n",
        "\n"
      ]
    },
    {
      "cell_type": "markdown",
      "metadata": {
        "id": "EkWg18ZYJ19Q"
      },
      "source": [
        "# Recommendation"
      ]
    },
    {
      "cell_type": "markdown",
      "source": [
        "\n",
        "- sales, revenue, profits tend to fluctuate. The biggest thing that influences this is internal and external factors, Nicoa can pay more attention to external factors; consumers based on economic strata, consumer purchasing power, and also the demographics of consumers, for internal factors, Nicoa can pay more attention to sales cash flow, marketing activities, and also detailed financial records\n",
        "- Nichoa have to further improve marketing strategy and hold promos more often, especially in February, because in that month the number of chocolate purchases will increase a lot.\n",
        "- Nichoa have to further improve marketing strategy by utilizing social media such as Instagram, TikTok and others, especially in months where sales are low like September.\n",
        "- Recommendations for \"Best Customers\" segment: focus on retaining customers so that customers do not switch to other brands by holding promos more often, and also give additional points for this customers.\n",
        "- Recommendations for \"Big Spenders\" segment: focus on offering other products, especially products that match customer interests or products that are often sought after. Can also offer products with a high price range.\n",
        "- Recommendations for \"Loyal Customers\" segment: The company must optimize the campaign for this customer segment in order to maintain their loyalty. It can also give additional points for customer loyalty.\n",
        "- Recommendations for \"Almost Lost segment\": Just like the previous segment, the customers were dominated by women, including pregnant women. The way to be able to retarget these consumers is to broaden the target market and determine the target market according to the target, which is usually distinguished by gender, age, demographics, location, and so on.\n",
        "- Recommendations for Lost Customers segment:\n",
        "- Recommendations for Lost Cheap Customers segment:\n"
      ],
      "metadata": {
        "id": "zGXBW5iZ5y32"
      }
    },
    {
      "cell_type": "code",
      "source": [
        "df2 = res.groupby('order no').qty.sum()\n",
        "df2 = pd.DataFrame(df2)\n",
        "df2 = df2.reset_index()"
      ],
      "metadata": {
        "id": "YvTyFZ2MtWs8"
      },
      "execution_count": null,
      "outputs": []
    }
  ],
  "metadata": {
    "colab": {
      "provenance": [],
      "collapsed_sections": [
        "QzxzCf-vghNt",
        "iSFfjwVPhQf3",
        "x7TycOmQlFU4",
        "keYozkg_mX7N",
        "w3wkBvBt16rp",
        "hyeOy2aEgf5U",
        "XG7Vhqj99ZWD",
        "f-nUL8augpxR",
        "ypEeBHuggtiz"
      ]
    },
    "kernelspec": {
      "display_name": "Python 3",
      "name": "python3"
    },
    "language_info": {
      "name": "python"
    }
  },
  "nbformat": 4,
  "nbformat_minor": 0
}